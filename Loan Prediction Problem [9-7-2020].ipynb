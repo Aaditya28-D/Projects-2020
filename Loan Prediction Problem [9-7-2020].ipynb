{
 "cells": [
  {
   "cell_type": "markdown",
   "metadata": {},
   "source": [
    "## Aaditya Deshmukh (Loan Prediction)\n",
    "\n",
    "- IMS Proschool Pune.\n",
    "- LinkedIn ID- https://www.linkedin.com/in/aaditya-deshmukh-50174a1a3\n",
    "- Github URL - https://github.com/Aaditya28-D/Projects-2020"
   ]
  },
  {
   "cell_type": "markdown",
   "metadata": {},
   "source": [
    "### Loading All required packages"
   ]
  },
  {
   "cell_type": "code",
   "execution_count": 174,
   "metadata": {},
   "outputs": [],
   "source": [
    "import pandas as pd\n",
    "import numpy as np\n",
    "import os as os\n",
    "\n",
    "import seaborn as sns\n",
    "import matplotlib.pyplot as plt\n",
    "from sklearn.tree import plot_tree\n",
    "\n",
    "from sklearn.model_selection import train_test_split\n",
    "\n",
    "from sklearn.linear_model import LogisticRegression\n",
    "from sklearn.neighbors import KNeighborsClassifier\n",
    "from sklearn.tree import DecisionTreeClassifier\n",
    "from sklearn.ensemble import RandomForestClassifier\n",
    "\n",
    "from sklearn.preprocessing import StandardScaler\n",
    "from sklearn.metrics import accuracy_score\n",
    "from sklearn.metrics import confusion_matrix\n",
    "import scipy.stats as stats\n",
    "from scipy.stats import ttest_ind\n",
    "from scipy.stats import chi2_contingency \n",
    "import math as math\n",
    "\n",
    "import warnings as warnings \n",
    "warnings.filterwarnings('ignore')"
   ]
  },
  {
   "cell_type": "code",
   "execution_count": 175,
   "metadata": {},
   "outputs": [],
   "source": [
    "train=pd.read_csv(r'C:\\Users\\Aaditya Deshmukh\\Desktop\\IMS\\1. PGD Data Science\\1. Bussiness Analytics\\7. Logistic Regression\\3. LVC\\Loan Prediction Problem\\Orignal CSV file\\train_ctrUa4K.csv')\n",
    "test=pd.read_csv(r'C:\\Users\\Aaditya Deshmukh\\Desktop\\IMS\\1. PGD Data Science\\1. Bussiness Analytics\\7. Logistic Regression\\3. LVC\\Loan Prediction Problem\\Orignal CSV file\\test_lAUu6dG.csv')"
   ]
  },
  {
   "cell_type": "code",
   "execution_count": 176,
   "metadata": {},
   "outputs": [],
   "source": [
    "data=train.append(test)"
   ]
  },
  {
   "cell_type": "code",
   "execution_count": 177,
   "metadata": {},
   "outputs": [
    {
     "data": {
      "text/plain": [
       "(981, 13)"
      ]
     },
     "execution_count": 177,
     "metadata": {},
     "output_type": "execute_result"
    }
   ],
   "source": [
    "data.shape"
   ]
  },
  {
   "cell_type": "code",
   "execution_count": 178,
   "metadata": {},
   "outputs": [
    {
     "data": {
      "text/plain": [
       "Loan_ID              981\n",
       "Gender                 2\n",
       "Married                2\n",
       "Dependents             4\n",
       "Education              2\n",
       "Self_Employed          2\n",
       "ApplicantIncome      752\n",
       "CoapplicantIncome    437\n",
       "LoanAmount           232\n",
       "Loan_Amount_Term      12\n",
       "Credit_History         2\n",
       "Property_Area          3\n",
       "Loan_Status            2\n",
       "dtype: int64"
      ]
     },
     "execution_count": 178,
     "metadata": {},
     "output_type": "execute_result"
    }
   ],
   "source": [
    "data.nunique()"
   ]
  },
  {
   "cell_type": "code",
   "execution_count": 179,
   "metadata": {},
   "outputs": [
    {
     "data": {
      "text/plain": [
       "(981, 12)"
      ]
     },
     "execution_count": 179,
     "metadata": {},
     "output_type": "execute_result"
    }
   ],
   "source": [
    "data_1=data.copy()\n",
    "data_1.drop(['Loan_ID'], axis=1,inplace=True)\n",
    "data_1.shape"
   ]
  },
  {
   "cell_type": "code",
   "execution_count": 180,
   "metadata": {},
   "outputs": [
    {
     "name": "stdout",
     "output_type": "stream",
     "text": [
      "<class 'pandas.core.frame.DataFrame'>\n",
      "Int64Index: 981 entries, 0 to 366\n",
      "Data columns (total 12 columns):\n",
      " #   Column             Non-Null Count  Dtype  \n",
      "---  ------             --------------  -----  \n",
      " 0   Gender             957 non-null    object \n",
      " 1   Married            978 non-null    object \n",
      " 2   Dependents         956 non-null    object \n",
      " 3   Education          981 non-null    object \n",
      " 4   Self_Employed      926 non-null    object \n",
      " 5   ApplicantIncome    981 non-null    int64  \n",
      " 6   CoapplicantIncome  981 non-null    float64\n",
      " 7   LoanAmount         954 non-null    float64\n",
      " 8   Loan_Amount_Term   961 non-null    float64\n",
      " 9   Credit_History     902 non-null    float64\n",
      " 10  Property_Area      981 non-null    object \n",
      " 11  Loan_Status        614 non-null    object \n",
      "dtypes: float64(4), int64(1), object(7)\n",
      "memory usage: 99.6+ KB\n"
     ]
    }
   ],
   "source": [
    "data_1.info()"
   ]
  },
  {
   "cell_type": "code",
   "execution_count": 181,
   "metadata": {},
   "outputs": [
    {
     "data": {
      "text/plain": [
       "Gender                24\n",
       "Married                3\n",
       "Dependents            25\n",
       "Education              0\n",
       "Self_Employed         55\n",
       "ApplicantIncome        0\n",
       "CoapplicantIncome      0\n",
       "LoanAmount            27\n",
       "Loan_Amount_Term      20\n",
       "Credit_History        79\n",
       "Property_Area          0\n",
       "Loan_Status          367\n",
       "dtype: int64"
      ]
     },
     "execution_count": 181,
     "metadata": {},
     "output_type": "execute_result"
    }
   ],
   "source": [
    "data_1.isnull().sum()"
   ]
  },
  {
   "cell_type": "code",
   "execution_count": 182,
   "metadata": {},
   "outputs": [],
   "source": [
    "col_1=data_1.loc[:, data_1.isna().any()].select_dtypes(include=['object']).drop('Loan_Status', axis=1).columns.tolist()\n",
    "\n",
    "for i in col_1:\n",
    "    data_1[i].fillna(data_1[i].mode()[0], inplace=True)\n",
    "    data_1[i]=data_1[i].astype('object')"
   ]
  },
  {
   "cell_type": "code",
   "execution_count": 183,
   "metadata": {},
   "outputs": [
    {
     "data": {
      "text/plain": [
       "360.0"
      ]
     },
     "execution_count": 183,
     "metadata": {},
     "output_type": "execute_result"
    }
   ],
   "source": [
    "data_1['Loan_Amount_Term'].mode()[0]"
   ]
  },
  {
   "cell_type": "code",
   "execution_count": 184,
   "metadata": {},
   "outputs": [],
   "source": [
    "data_1['Loan_Amount_Term'].fillna(360.0, inplace=True)"
   ]
  },
  {
   "cell_type": "code",
   "execution_count": 185,
   "metadata": {},
   "outputs": [
    {
     "data": {
      "text/plain": [
       "<matplotlib.axes._subplots.AxesSubplot at 0x15f65c7f648>"
      ]
     },
     "execution_count": 185,
     "metadata": {},
     "output_type": "execute_result"
    },
    {
     "data": {
      "image/png": "[encoded data removed]",
      "text/plain": [
       "<Figure size 432x288 with 1 Axes>"
      ]
     },
     "metadata": {
      "needs_background": "light"
     },
     "output_type": "display_data"
    }
   ],
   "source": [
    "sns.distplot(data_1['LoanAmount'])"
   ]
  },
  {
   "cell_type": "code",
   "execution_count": 186,
   "metadata": {},
   "outputs": [],
   "source": [
    "data_1['LoanAmount'].fillna(126.0,  inplace=True)"
   ]
  },
  {
   "cell_type": "code",
   "execution_count": 187,
   "metadata": {},
   "outputs": [],
   "source": [
    "col=data_1.columns[data_1.nunique()<13].tolist()\n",
    "\n",
    "for i in col:\n",
    "    data_1[i]=data_1[i].astype('object')\n",
    "\n",
    "col1=data_1.columns[data_1.nunique()>13].tolist()\n",
    "\n",
    "for i in col1:\n",
    "    data_1[i]=data_1[i].astype('float64')"
   ]
  },
  {
   "cell_type": "code",
   "execution_count": 188,
   "metadata": {},
   "outputs": [
    {
     "name": "stdout",
     "output_type": "stream",
     "text": [
      "<class 'pandas.core.frame.DataFrame'>\n",
      "Int64Index: 981 entries, 0 to 366\n",
      "Data columns (total 12 columns):\n",
      " #   Column             Non-Null Count  Dtype  \n",
      "---  ------             --------------  -----  \n",
      " 0   Gender             981 non-null    object \n",
      " 1   Married            981 non-null    object \n",
      " 2   Dependents         981 non-null    object \n",
      " 3   Education          981 non-null    object \n",
      " 4   Self_Employed      981 non-null    object \n",
      " 5   ApplicantIncome    981 non-null    float64\n",
      " 6   CoapplicantIncome  981 non-null    float64\n",
      " 7   LoanAmount         981 non-null    float64\n",
      " 8   Loan_Amount_Term   981 non-null    object \n",
      " 9   Credit_History     902 non-null    object \n",
      " 10  Property_Area      981 non-null    object \n",
      " 11  Loan_Status        614 non-null    object \n",
      "dtypes: float64(3), object(9)\n",
      "memory usage: 99.6+ KB\n"
     ]
    }
   ],
   "source": [
    "data_1.info()"
   ]
  },
  {
   "cell_type": "code",
   "execution_count": 189,
   "metadata": {},
   "outputs": [],
   "source": [
    "data_1['log_ApplicantIncome']=np.log(data_1['ApplicantIncome']+1)\n",
    "data_1['log_CoapplicantIncome']=np.log(data_1['CoapplicantIncome']+1)\n",
    "data_1['log_LoanAmount']=np.log(data_1['LoanAmount']+1)"
   ]
  },
  {
   "cell_type": "code",
   "execution_count": 190,
   "metadata": {},
   "outputs": [
    {
     "name": "stdout",
     "output_type": "stream",
     "text": [
      "log_ApplicantIncome - ( upper limit = 9.59 , lower limit =  6.99 )\n",
      "right =  39\n",
      "left= 12\n",
      "log_CoapplicantIncome - ( upper limit = 19.42 , lower limit =  -11.65 )\n",
      "right =  0\n",
      "left= 0\n",
      "log_LoanAmount - ( upper limit = 5.77 , lower limit =  3.94 )\n",
      "right =  30\n",
      "left= 35\n"
     ]
    },
    {
     "data": {
      "image/png": "[encoded data removed]",
      "text/plain": [
       "<Figure size 1080x360 with 2 Axes>"
      ]
     },
     "metadata": {
      "needs_background": "light"
     },
     "output_type": "display_data"
    },
    {
     "data": {
      "image/png": "[encoded data removed]",
      "text/plain": [
       "<Figure size 1080x360 with 2 Axes>"
      ]
     },
     "metadata": {
      "needs_background": "light"
     },
     "output_type": "display_data"
    },
    {
     "data": {
      "image/png": "[encoded data removed]",
      "text/plain": [
       "<Figure size 1080x360 with 2 Axes>"
      ]
     },
     "metadata": {
      "needs_background": "light"
     },
     "output_type": "display_data"
    }
   ],
   "source": [
    "col=['log_ApplicantIncome', 'log_CoapplicantIncome', 'log_LoanAmount']\n",
    "\n",
    "for k in col:\n",
    "        Q3=np.percentile(data_1[k], 75)\n",
    "        Q1=np.percentile(data_1[k], 25)\n",
    "        ul=Q3+1.5*(Q3-Q1)\n",
    "        ll=Q1-1.5*(Q3-Q1)\n",
    "        print(k,'- ( upper limit =', round(ul,2), ',' , 'lower limit = ', round(ll, 2), ')')\n",
    "        print('right = ', len(data_1.loc[data_1[k]>ul,:]))\n",
    "        print('left=', len(data_1.loc[data_1[k]<ll,:]))\n",
    "        \n",
    "for n in col:\n",
    "    fig,axes=plt.subplots(1,2, figsize=(15,5))\n",
    "    sns.boxplot(data_1[n], ax=axes[0], showmeans=True)\n",
    "    sns.distplot(data_1[n], ax=axes[1])\n",
    "    plt.title(n)\n",
    "    plt.grid()\n",
    "    plt.show()"
   ]
  },
  {
   "cell_type": "code",
   "execution_count": 191,
   "metadata": {},
   "outputs": [],
   "source": [
    "data_1.loc[data_1['log_ApplicantIncome']>9.59,'log_ApplicantIncome']=np.median(data_1['log_ApplicantIncome'])\n",
    "data_1.loc[data_1['log_ApplicantIncome']<6.99,'log_ApplicantIncome']=np.median(data_1['log_ApplicantIncome'])"
   ]
  },
  {
   "cell_type": "code",
   "execution_count": 192,
   "metadata": {},
   "outputs": [],
   "source": [
    "data_1.loc[data_1['log_CoapplicantIncome']<3,'log_CoapplicantIncome']=np.mean(data_1['log_CoapplicantIncome'])"
   ]
  },
  {
   "cell_type": "code",
   "execution_count": 193,
   "metadata": {},
   "outputs": [],
   "source": [
    "data_1.loc[data_1['log_LoanAmount']>5.77,'log_LoanAmount']=np.median(data_1['log_LoanAmount'])\n",
    "data_1.loc[data_1['log_LoanAmount']<3.94,'log_LoanAmount']=np.median(data_1['log_LoanAmount'])"
   ]
  },
  {
   "cell_type": "code",
   "execution_count": 194,
   "metadata": {},
   "outputs": [
    {
     "data": {
      "image/png": "[encoded data removed]",
      "text/plain": [
       "<Figure size 1080x360 with 2 Axes>"
      ]
     },
     "metadata": {
      "needs_background": "light"
     },
     "output_type": "display_data"
    },
    {
     "data": {
      "image/png": "[encoded data removed]",
      "text/plain": [
       "<Figure size 1080x360 with 2 Axes>"
      ]
     },
     "metadata": {
      "needs_background": "light"
     },
     "output_type": "display_data"
    },
    {
     "data": {
      "image/png": "[encoded data removed]",
      "text/plain": [
       "<Figure size 1080x360 with 2 Axes>"
      ]
     },
     "metadata": {
      "needs_background": "light"
     },
     "output_type": "display_data"
    }
   ],
   "source": [
    "for n in col:\n",
    "    fig,axes=plt.subplots(1,2, figsize=(15,5))\n",
    "    sns.boxplot(data_1[n], ax=axes[0], showmeans=True)\n",
    "    sns.distplot(data_1[n], ax=axes[1])\n",
    "    plt.title(n)\n",
    "    plt.grid()\n",
    "    plt.show()"
   ]
  },
  {
   "cell_type": "code",
   "execution_count": 195,
   "metadata": {},
   "outputs": [
    {
     "name": "stdout",
     "output_type": "stream",
     "text": [
      "<class 'pandas.core.frame.DataFrame'>\n",
      "Int64Index: 981 entries, 0 to 366\n",
      "Data columns (total 15 columns):\n",
      " #   Column                 Non-Null Count  Dtype  \n",
      "---  ------                 --------------  -----  \n",
      " 0   Gender                 981 non-null    object \n",
      " 1   Married                981 non-null    object \n",
      " 2   Dependents             981 non-null    object \n",
      " 3   Education              981 non-null    object \n",
      " 4   Self_Employed          981 non-null    object \n",
      " 5   ApplicantIncome        981 non-null    float64\n",
      " 6   CoapplicantIncome      981 non-null    float64\n",
      " 7   LoanAmount             981 non-null    float64\n",
      " 8   Loan_Amount_Term       981 non-null    object \n",
      " 9   Credit_History         902 non-null    object \n",
      " 10  Property_Area          981 non-null    object \n",
      " 11  Loan_Status            614 non-null    object \n",
      " 12  log_ApplicantIncome    981 non-null    float64\n",
      " 13  log_CoapplicantIncome  981 non-null    float64\n",
      " 14  log_LoanAmount         981 non-null    float64\n",
      "dtypes: float64(6), object(9)\n",
      "memory usage: 122.6+ KB\n"
     ]
    }
   ],
   "source": [
    "data_1.info()"
   ]
  },
  {
   "cell_type": "code",
   "execution_count": 196,
   "metadata": {},
   "outputs": [],
   "source": [
    "data_1.drop(['ApplicantIncome', 'CoapplicantIncome', 'LoanAmount', 'Loan_Status'], axis=1, inplace=True)"
   ]
  },
  {
   "cell_type": "code",
   "execution_count": 197,
   "metadata": {},
   "outputs": [],
   "source": [
    "data_2=data_1.copy()"
   ]
  },
  {
   "cell_type": "code",
   "execution_count": 198,
   "metadata": {},
   "outputs": [],
   "source": [
    "data_1_cat=data_1[data_1.select_dtypes('object').drop('Credit_History', axis=1).columns.tolist()]\n",
    "data_1_num=data_1[data_1.select_dtypes('float64').columns.tolist()]"
   ]
  },
  {
   "cell_type": "code",
   "execution_count": 199,
   "metadata": {},
   "outputs": [],
   "source": [
    "data_1_cat_dummies=pd.get_dummies(data_1_cat,drop_first=True)"
   ]
  },
  {
   "cell_type": "code",
   "execution_count": 200,
   "metadata": {},
   "outputs": [
    {
     "name": "stdout",
     "output_type": "stream",
     "text": [
      "<class 'pandas.core.frame.DataFrame'>\n",
      "Int64Index: 981 entries, 0 to 366\n",
      "Data columns (total 20 columns):\n",
      " #   Column                   Non-Null Count  Dtype\n",
      "---  ------                   --------------  -----\n",
      " 0   Gender_Male              981 non-null    uint8\n",
      " 1   Married_Yes              981 non-null    uint8\n",
      " 2   Dependents_1             981 non-null    uint8\n",
      " 3   Dependents_2             981 non-null    uint8\n",
      " 4   Dependents_3+            981 non-null    uint8\n",
      " 5   Education_Not Graduate   981 non-null    uint8\n",
      " 6   Self_Employed_Yes        981 non-null    uint8\n",
      " 7   Loan_Amount_Term_12.0    981 non-null    uint8\n",
      " 8   Loan_Amount_Term_36.0    981 non-null    uint8\n",
      " 9   Loan_Amount_Term_60.0    981 non-null    uint8\n",
      " 10  Loan_Amount_Term_84.0    981 non-null    uint8\n",
      " 11  Loan_Amount_Term_120.0   981 non-null    uint8\n",
      " 12  Loan_Amount_Term_180.0   981 non-null    uint8\n",
      " 13  Loan_Amount_Term_240.0   981 non-null    uint8\n",
      " 14  Loan_Amount_Term_300.0   981 non-null    uint8\n",
      " 15  Loan_Amount_Term_350.0   981 non-null    uint8\n",
      " 16  Loan_Amount_Term_360.0   981 non-null    uint8\n",
      " 17  Loan_Amount_Term_480.0   981 non-null    uint8\n",
      " 18  Property_Area_Semiurban  981 non-null    uint8\n",
      " 19  Property_Area_Urban      981 non-null    uint8\n",
      "dtypes: uint8(20)\n",
      "memory usage: 26.8 KB\n"
     ]
    }
   ],
   "source": [
    "data_1_cat_dummies.info()"
   ]
  },
  {
   "cell_type": "code",
   "execution_count": 201,
   "metadata": {},
   "outputs": [],
   "source": [
    "data_3=pd.concat([data_1_num, data_1_cat_dummies], axis=1)"
   ]
  },
  {
   "cell_type": "code",
   "execution_count": 202,
   "metadata": {},
   "outputs": [
    {
     "data": {
      "text/plain": [
       "log_ApplicantIncome        0\n",
       "log_CoapplicantIncome      0\n",
       "log_LoanAmount             0\n",
       "Gender_Male                0\n",
       "Married_Yes                0\n",
       "Dependents_1               0\n",
       "Dependents_2               0\n",
       "Dependents_3+              0\n",
       "Education_Not Graduate     0\n",
       "Self_Employed_Yes          0\n",
       "Loan_Amount_Term_12.0      0\n",
       "Loan_Amount_Term_36.0      0\n",
       "Loan_Amount_Term_60.0      0\n",
       "Loan_Amount_Term_84.0      0\n",
       "Loan_Amount_Term_120.0     0\n",
       "Loan_Amount_Term_180.0     0\n",
       "Loan_Amount_Term_240.0     0\n",
       "Loan_Amount_Term_300.0     0\n",
       "Loan_Amount_Term_350.0     0\n",
       "Loan_Amount_Term_360.0     0\n",
       "Loan_Amount_Term_480.0     0\n",
       "Property_Area_Semiurban    0\n",
       "Property_Area_Urban        0\n",
       "dtype: int64"
      ]
     },
     "execution_count": 202,
     "metadata": {},
     "output_type": "execute_result"
    }
   ],
   "source": [
    "data_3.isnull().sum()"
   ]
  },
  {
   "cell_type": "code",
   "execution_count": 203,
   "metadata": {},
   "outputs": [],
   "source": [
    "data_3['Credit_History']=data_1['Credit_History']"
   ]
  },
  {
   "cell_type": "code",
   "execution_count": 204,
   "metadata": {},
   "outputs": [
    {
     "data": {
      "text/plain": [
       "log_ApplicantIncome         0\n",
       "log_CoapplicantIncome       0\n",
       "log_LoanAmount              0\n",
       "Gender_Male                 0\n",
       "Married_Yes                 0\n",
       "Dependents_1                0\n",
       "Dependents_2                0\n",
       "Dependents_3+               0\n",
       "Education_Not Graduate      0\n",
       "Self_Employed_Yes           0\n",
       "Loan_Amount_Term_12.0       0\n",
       "Loan_Amount_Term_36.0       0\n",
       "Loan_Amount_Term_60.0       0\n",
       "Loan_Amount_Term_84.0       0\n",
       "Loan_Amount_Term_120.0      0\n",
       "Loan_Amount_Term_180.0      0\n",
       "Loan_Amount_Term_240.0      0\n",
       "Loan_Amount_Term_300.0      0\n",
       "Loan_Amount_Term_350.0      0\n",
       "Loan_Amount_Term_360.0      0\n",
       "Loan_Amount_Term_480.0      0\n",
       "Property_Area_Semiurban     0\n",
       "Property_Area_Urban         0\n",
       "Credit_History             79\n",
       "dtype: int64"
      ]
     },
     "execution_count": 204,
     "metadata": {},
     "output_type": "execute_result"
    }
   ],
   "source": [
    "data_3.isnull().sum()"
   ]
  },
  {
   "cell_type": "code",
   "execution_count": null,
   "metadata": {},
   "outputs": [],
   "source": []
  },
  {
   "cell_type": "code",
   "execution_count": 205,
   "metadata": {},
   "outputs": [],
   "source": [
    "hist_train=data_3.loc[data_3['Credit_History'].notnull(),:]\n",
    "hist_test=data_3.loc[data_3['Credit_History'].isnull(),:]"
   ]
  },
  {
   "cell_type": "code",
   "execution_count": 206,
   "metadata": {},
   "outputs": [],
   "source": [
    "hist_train_cat_dummies=pd.get_dummies(hist_train[['Credit_History']], drop_first=True)"
   ]
  },
  {
   "cell_type": "code",
   "execution_count": 207,
   "metadata": {},
   "outputs": [],
   "source": [
    "hist_train_num=hist_train.drop('Credit_History', axis=1)"
   ]
  },
  {
   "cell_type": "code",
   "execution_count": 208,
   "metadata": {},
   "outputs": [],
   "source": [
    "hist_train=pd.concat([hist_train_num, hist_train_cat_dummies], axis=1)"
   ]
  },
  {
   "cell_type": "code",
   "execution_count": 209,
   "metadata": {},
   "outputs": [
    {
     "name": "stdout",
     "output_type": "stream",
     "text": [
      "<class 'pandas.core.frame.DataFrame'>\n",
      "Int64Index: 902 entries, 0 to 366\n",
      "Data columns (total 24 columns):\n",
      " #   Column                   Non-Null Count  Dtype  \n",
      "---  ------                   --------------  -----  \n",
      " 0   log_ApplicantIncome      902 non-null    float64\n",
      " 1   log_CoapplicantIncome    902 non-null    float64\n",
      " 2   log_LoanAmount           902 non-null    float64\n",
      " 3   Gender_Male              902 non-null    uint8  \n",
      " 4   Married_Yes              902 non-null    uint8  \n",
      " 5   Dependents_1             902 non-null    uint8  \n",
      " 6   Dependents_2             902 non-null    uint8  \n",
      " 7   Dependents_3+            902 non-null    uint8  \n",
      " 8   Education_Not Graduate   902 non-null    uint8  \n",
      " 9   Self_Employed_Yes        902 non-null    uint8  \n",
      " 10  Loan_Amount_Term_12.0    902 non-null    uint8  \n",
      " 11  Loan_Amount_Term_36.0    902 non-null    uint8  \n",
      " 12  Loan_Amount_Term_60.0    902 non-null    uint8  \n",
      " 13  Loan_Amount_Term_84.0    902 non-null    uint8  \n",
      " 14  Loan_Amount_Term_120.0   902 non-null    uint8  \n",
      " 15  Loan_Amount_Term_180.0   902 non-null    uint8  \n",
      " 16  Loan_Amount_Term_240.0   902 non-null    uint8  \n",
      " 17  Loan_Amount_Term_300.0   902 non-null    uint8  \n",
      " 18  Loan_Amount_Term_350.0   902 non-null    uint8  \n",
      " 19  Loan_Amount_Term_360.0   902 non-null    uint8  \n",
      " 20  Loan_Amount_Term_480.0   902 non-null    uint8  \n",
      " 21  Property_Area_Semiurban  902 non-null    uint8  \n",
      " 22  Property_Area_Urban      902 non-null    uint8  \n",
      " 23  Credit_History_1.0       902 non-null    uint8  \n",
      "dtypes: float64(3), uint8(21)\n",
      "memory usage: 46.7 KB\n"
     ]
    }
   ],
   "source": [
    "hist_train.info()"
   ]
  },
  {
   "cell_type": "code",
   "execution_count": 210,
   "metadata": {},
   "outputs": [],
   "source": [
    "x=hist_train.drop(['Credit_History_1.0'], axis=1)\n",
    "y=hist_train[['Credit_History_1.0']]\n",
    "\n",
    "x_train, x_test, y_train, y_test=train_test_split(x,y, train_size=0.8, random_state=100)\n",
    "\n",
    "rc=RandomForestClassifier(n_estimators=1000, random_state=100)\n",
    "rc.fit(x_train, y_train)\n",
    "y=rc.feature_importances_"
   ]
  },
  {
   "cell_type": "code",
   "execution_count": 211,
   "metadata": {},
   "outputs": [
    {
     "data": {
      "text/html": [
       "<div>\n",
       "<style scoped>\n",
       "    .dataframe tbody tr th:only-of-type {\n",
       "        vertical-align: middle;\n",
       "    }\n",
       "\n",
       "    .dataframe tbody tr th {\n",
       "        vertical-align: top;\n",
       "    }\n",
       "\n",
       "    .dataframe thead th {\n",
       "        text-align: right;\n",
       "    }\n",
       "</style>\n",
       "<table border=\"1\" class=\"dataframe\">\n",
       "  <thead>\n",
       "    <tr style=\"text-align: right;\">\n",
       "      <th></th>\n",
       "      <th>feature_name</th>\n",
       "      <th>feature_importance</th>\n",
       "    </tr>\n",
       "  </thead>\n",
       "  <tbody>\n",
       "    <tr>\n",
       "      <th>0</th>\n",
       "      <td>log_ApplicantIncome</td>\n",
       "      <td>29.020028</td>\n",
       "    </tr>\n",
       "    <tr>\n",
       "      <th>2</th>\n",
       "      <td>log_LoanAmount</td>\n",
       "      <td>25.805278</td>\n",
       "    </tr>\n",
       "    <tr>\n",
       "      <th>1</th>\n",
       "      <td>log_CoapplicantIncome</td>\n",
       "      <td>16.868501</td>\n",
       "    </tr>\n",
       "    <tr>\n",
       "      <th>8</th>\n",
       "      <td>Education_Not Graduate</td>\n",
       "      <td>3.380267</td>\n",
       "    </tr>\n",
       "    <tr>\n",
       "      <th>3</th>\n",
       "      <td>Gender_Male</td>\n",
       "      <td>2.983172</td>\n",
       "    </tr>\n",
       "    <tr>\n",
       "      <th>4</th>\n",
       "      <td>Married_Yes</td>\n",
       "      <td>2.937215</td>\n",
       "    </tr>\n",
       "    <tr>\n",
       "      <th>22</th>\n",
       "      <td>Property_Area_Urban</td>\n",
       "      <td>2.864520</td>\n",
       "    </tr>\n",
       "    <tr>\n",
       "      <th>21</th>\n",
       "      <td>Property_Area_Semiurban</td>\n",
       "      <td>2.852685</td>\n",
       "    </tr>\n",
       "    <tr>\n",
       "      <th>6</th>\n",
       "      <td>Dependents_2</td>\n",
       "      <td>2.433522</td>\n",
       "    </tr>\n",
       "    <tr>\n",
       "      <th>5</th>\n",
       "      <td>Dependents_1</td>\n",
       "      <td>2.055202</td>\n",
       "    </tr>\n",
       "    <tr>\n",
       "      <th>9</th>\n",
       "      <td>Self_Employed_Yes</td>\n",
       "      <td>2.027517</td>\n",
       "    </tr>\n",
       "    <tr>\n",
       "      <th>7</th>\n",
       "      <td>Dependents_3+</td>\n",
       "      <td>1.915358</td>\n",
       "    </tr>\n",
       "    <tr>\n",
       "      <th>19</th>\n",
       "      <td>Loan_Amount_Term_360.0</td>\n",
       "      <td>1.549886</td>\n",
       "    </tr>\n",
       "    <tr>\n",
       "      <th>15</th>\n",
       "      <td>Loan_Amount_Term_180.0</td>\n",
       "      <td>1.268981</td>\n",
       "    </tr>\n",
       "    <tr>\n",
       "      <th>20</th>\n",
       "      <td>Loan_Amount_Term_480.0</td>\n",
       "      <td>0.885895</td>\n",
       "    </tr>\n",
       "    <tr>\n",
       "      <th>17</th>\n",
       "      <td>Loan_Amount_Term_300.0</td>\n",
       "      <td>0.843185</td>\n",
       "    </tr>\n",
       "    <tr>\n",
       "      <th>13</th>\n",
       "      <td>Loan_Amount_Term_84.0</td>\n",
       "      <td>0.096491</td>\n",
       "    </tr>\n",
       "    <tr>\n",
       "      <th>16</th>\n",
       "      <td>Loan_Amount_Term_240.0</td>\n",
       "      <td>0.081326</td>\n",
       "    </tr>\n",
       "    <tr>\n",
       "      <th>12</th>\n",
       "      <td>Loan_Amount_Term_60.0</td>\n",
       "      <td>0.046088</td>\n",
       "    </tr>\n",
       "    <tr>\n",
       "      <th>14</th>\n",
       "      <td>Loan_Amount_Term_120.0</td>\n",
       "      <td>0.043615</td>\n",
       "    </tr>\n",
       "    <tr>\n",
       "      <th>11</th>\n",
       "      <td>Loan_Amount_Term_36.0</td>\n",
       "      <td>0.018646</td>\n",
       "    </tr>\n",
       "    <tr>\n",
       "      <th>18</th>\n",
       "      <td>Loan_Amount_Term_350.0</td>\n",
       "      <td>0.013691</td>\n",
       "    </tr>\n",
       "    <tr>\n",
       "      <th>10</th>\n",
       "      <td>Loan_Amount_Term_12.0</td>\n",
       "      <td>0.008933</td>\n",
       "    </tr>\n",
       "  </tbody>\n",
       "</table>\n",
       "</div>"
      ],
      "text/plain": [
       "               feature_name  feature_importance\n",
       "0       log_ApplicantIncome           29.020028\n",
       "2            log_LoanAmount           25.805278\n",
       "1     log_CoapplicantIncome           16.868501\n",
       "8    Education_Not Graduate            3.380267\n",
       "3               Gender_Male            2.983172\n",
       "4               Married_Yes            2.937215\n",
       "22      Property_Area_Urban            2.864520\n",
       "21  Property_Area_Semiurban            2.852685\n",
       "6              Dependents_2            2.433522\n",
       "5              Dependents_1            2.055202\n",
       "9         Self_Employed_Yes            2.027517\n",
       "7             Dependents_3+            1.915358\n",
       "19   Loan_Amount_Term_360.0            1.549886\n",
       "15   Loan_Amount_Term_180.0            1.268981\n",
       "20   Loan_Amount_Term_480.0            0.885895\n",
       "17   Loan_Amount_Term_300.0            0.843185\n",
       "13    Loan_Amount_Term_84.0            0.096491\n",
       "16   Loan_Amount_Term_240.0            0.081326\n",
       "12    Loan_Amount_Term_60.0            0.046088\n",
       "14   Loan_Amount_Term_120.0            0.043615\n",
       "11    Loan_Amount_Term_36.0            0.018646\n",
       "18   Loan_Amount_Term_350.0            0.013691\n",
       "10    Loan_Amount_Term_12.0            0.008933"
      ]
     },
     "execution_count": 211,
     "metadata": {},
     "output_type": "execute_result"
    }
   ],
   "source": [
    "feature_importance={'feature_name':hist_train.drop(['Credit_History_1.0'], axis=1).columns.tolist(), 'feature_importance':y}\n",
    "\n",
    "feature_imp_table_2=pd.DataFrame(feature_importance)\n",
    "feature_imp_table_2['feature_importance']=feature_imp_table_2['feature_importance']*100\n",
    "feature_imp_table_2.sort_values(['feature_importance'], ascending=False, inplace=True)\n",
    "feature_imp_table_2"
   ]
  },
  {
   "cell_type": "code",
   "execution_count": 212,
   "metadata": {},
   "outputs": [
    {
     "data": {
      "text/plain": [
       "<matplotlib.axes._subplots.AxesSubplot at 0x15f5fb2d3c8>"
      ]
     },
     "execution_count": 212,
     "metadata": {},
     "output_type": "execute_result"
    },
    {
     "data": {
      "image/png": "[encoded data removed]",
      "text/plain": [
       "<Figure size 720x432 with 1 Axes>"
      ]
     },
     "metadata": {
      "needs_background": "light"
     },
     "output_type": "display_data"
    }
   ],
   "source": [
    "axes=plt.subplots(figsize=(10,6))\n",
    "sns.barplot(x='feature_importance', y='feature_name', data=feature_imp_table_2)"
   ]
  },
  {
   "cell_type": "code",
   "execution_count": 213,
   "metadata": {},
   "outputs": [],
   "source": [
    "col_1=['log_ApplicantIncome','log_LoanAmount','log_CoapplicantIncome']\n",
    "col_2=['log_ApplicantIncome','log_LoanAmount','log_CoapplicantIncome', 'Education_Not Graduate',]\n",
    "col_3=['log_ApplicantIncome','log_LoanAmount','log_CoapplicantIncome', 'Education_Not Graduate', 'Gender_Male']\n",
    "col_4=['log_ApplicantIncome','log_LoanAmount','log_CoapplicantIncome', 'Education_Not Graduate', 'Gender_Male','Married_Yes']\n",
    "col_5=['log_ApplicantIncome','log_LoanAmount','log_CoapplicantIncome', 'Education_Not Graduate', 'Gender_Male', 'Married_Yes', 'Property_Area_Semiurban']\n",
    "col_6=['log_ApplicantIncome','log_LoanAmount','log_CoapplicantIncome', 'Education_Not Graduate', 'Gender_Male', 'Married_Yes', 'Property_Area_Semiurban', 'Dependents_2']\n",
    "col_7=['log_ApplicantIncome','log_LoanAmount','log_CoapplicantIncome', 'Education_Not Graduate', 'Gender_Male', 'Married_Yes', 'Property_Area_Semiurban', 'Dependents_2', 'Dependents_1']\n",
    "col_8=['log_ApplicantIncome','log_LoanAmount','log_CoapplicantIncome', 'Education_Not Graduate', 'Gender_Male', 'Married_Yes', 'Property_Area_Semiurban', 'Dependents_2', 'Dependents_1','Self_Employed_Yes']\n",
    "col_9=['log_ApplicantIncome','log_LoanAmount','log_CoapplicantIncome', 'Education_Not Graduate', 'Gender_Male', 'Married_Yes', 'Property_Area_Semiurban', 'Dependents_2', 'Dependents_1','Self_Employed_Yes', 'Dependents_3+']\n",
    "col_10=['log_ApplicantIncome','log_LoanAmount','log_CoapplicantIncome', 'Education_Not Graduate', 'Gender_Male', 'Married_Yes', 'Property_Area_Semiurban', 'Dependents_2', 'Dependents_1','Self_Employed_Yes', 'Dependents_3+', 'Loan_Amount_Term_360.0']\n",
    "\n",
    "x_col=[col_1, col_2, col_3, col_4, col_5, col_6, col_7, col_8, col_9,col_10]"
   ]
  },
  {
   "cell_type": "code",
   "execution_count": 214,
   "metadata": {},
   "outputs": [],
   "source": [
    "#train =  0.835 , test =  0.8398"
   ]
  },
  {
   "cell_type": "code",
   "execution_count": 215,
   "metadata": {},
   "outputs": [],
   "source": [
    "#7 col_8, train =  0.8433 , test =  0.8453"
   ]
  },
  {
   "cell_type": "code",
   "execution_count": 216,
   "metadata": {},
   "outputs": [],
   "source": [
    "#1 train =  0.8336 , test =  0.8393\n",
    "#2 train =  0.841 , test =  0.8255"
   ]
  },
  {
   "cell_type": "code",
   "execution_count": 217,
   "metadata": {},
   "outputs": [
    {
     "name": "stdout",
     "output_type": "stream",
     "text": [
      "train =  0.8359\n"
     ]
    }
   ],
   "source": [
    "x_train=hist_train[col_8]\n",
    "y_train=hist_train[['Credit_History_1.0']]\n",
    "lr=LogisticRegression()\n",
    "lr.fit(x_train, y_train)\n",
    "print('train = ', round(lr.score(x_train, y_train), 4))"
   ]
  },
  {
   "cell_type": "code",
   "execution_count": 218,
   "metadata": {},
   "outputs": [],
   "source": [
    "x_test=hist_test[col_8]"
   ]
  },
  {
   "cell_type": "code",
   "execution_count": 219,
   "metadata": {},
   "outputs": [
    {
     "data": {
      "text/plain": [
       "array([1, 1, 1, 1, 1, 1, 1, 1, 1, 1, 1, 1, 1, 1, 1, 1, 1, 1, 1, 1, 1, 1,\n",
       "       1, 1, 1, 1, 1, 1, 1, 1, 1, 1, 1, 1, 1, 1, 1, 1, 1, 1, 1, 1, 1, 1,\n",
       "       1, 1, 1, 1, 1, 1, 1, 1, 1, 1, 1, 1, 1, 1, 1, 1, 1, 1, 1, 1, 1, 1,\n",
       "       1, 1, 1, 1, 1, 1, 1, 1, 1, 1, 1, 1, 1], dtype=uint8)"
      ]
     },
     "execution_count": 219,
     "metadata": {},
     "output_type": "execute_result"
    }
   ],
   "source": [
    "lr.predict(x_test)"
   ]
  },
  {
   "cell_type": "code",
   "execution_count": 220,
   "metadata": {},
   "outputs": [
    {
     "name": "stdout",
     "output_type": "stream",
     "text": [
      "Accuracy score\n",
      "train =  0.8404\n"
     ]
    }
   ],
   "source": [
    "x_train=hist_train[col_8]\n",
    "y_train=hist_train[['Credit_History_1.0']]\n",
    "knn=KNeighborsClassifier(n_neighbors=7)\n",
    "knn.fit(x_train, y_train)\n",
    "print('Accuracy score')\n",
    "print('train = ', round(knn.score(x_train, y_train), 4))"
   ]
  },
  {
   "cell_type": "code",
   "execution_count": 221,
   "metadata": {},
   "outputs": [],
   "source": [
    "x_test=hist_test[col_8]"
   ]
  },
  {
   "cell_type": "code",
   "execution_count": 222,
   "metadata": {},
   "outputs": [
    {
     "data": {
      "text/plain": [
       "array([1, 1, 1, 1, 1, 1, 1, 1, 1, 1, 1, 1, 1, 1, 1, 1, 1, 1, 1, 0, 1, 1,\n",
       "       1, 1, 1, 1, 0, 1, 1, 1, 1, 1, 1, 1, 1, 1, 1, 1, 1, 1, 1, 1, 1, 1,\n",
       "       1, 1, 0, 1, 1, 1, 1, 1, 1, 1, 1, 1, 1, 1, 1, 1, 1, 1, 1, 1, 0, 1,\n",
       "       1, 0, 1, 1, 1, 1, 1, 1, 1, 1, 1, 1, 1], dtype=uint8)"
      ]
     },
     "execution_count": 222,
     "metadata": {},
     "output_type": "execute_result"
    }
   ],
   "source": [
    "knn.predict(x_test)"
   ]
  },
  {
   "cell_type": "code",
   "execution_count": 223,
   "metadata": {},
   "outputs": [
    {
     "name": "stdout",
     "output_type": "stream",
     "text": [
      "Accuracy score\n",
      "train =  0.8359\n"
     ]
    }
   ],
   "source": [
    "x_train=hist_train[col_8]\n",
    "y_train=hist_train[['Credit_History_1.0']]\n",
    "dc1=DecisionTreeClassifier(max_depth=1)\n",
    "dc1.fit(x_train, y_train)\n",
    "print('Accuracy score')\n",
    "print('train = ', round(dc1.score(x_train, y_train), 4))"
   ]
  },
  {
   "cell_type": "code",
   "execution_count": 224,
   "metadata": {},
   "outputs": [],
   "source": [
    "x_test=hist_test[col_8]"
   ]
  },
  {
   "cell_type": "code",
   "execution_count": 225,
   "metadata": {},
   "outputs": [
    {
     "data": {
      "text/plain": [
       "array([1, 1, 1, 1, 1, 1, 1, 1, 1, 1, 1, 1, 1, 1, 1, 1, 1, 1, 1, 1, 1, 1,\n",
       "       1, 1, 1, 1, 1, 1, 1, 1, 1, 1, 1, 1, 1, 1, 1, 1, 1, 1, 1, 1, 1, 1,\n",
       "       1, 1, 1, 1, 1, 1, 1, 1, 1, 1, 1, 1, 1, 1, 1, 1, 1, 1, 1, 1, 1, 1,\n",
       "       1, 1, 1, 1, 1, 1, 1, 1, 1, 1, 1, 1, 1], dtype=uint8)"
      ]
     },
     "execution_count": 225,
     "metadata": {},
     "output_type": "execute_result"
    }
   ],
   "source": [
    "dc1.predict(x_test)"
   ]
  },
  {
   "cell_type": "code",
   "execution_count": 226,
   "metadata": {},
   "outputs": [
    {
     "name": "stdout",
     "output_type": "stream",
     "text": [
      "Accuracy score\n",
      "train =  0.837\n"
     ]
    }
   ],
   "source": [
    "x_train=hist_train[col_8]\n",
    "y_train=hist_train[['Credit_History_1.0']]\n",
    "dc2=DecisionTreeClassifier(max_depth=2)\n",
    "dc2.fit(x_train, y_train)\n",
    "print('Accuracy score')\n",
    "print('train = ', round(dc2.score(x_train, y_train), 4))"
   ]
  },
  {
   "cell_type": "code",
   "execution_count": 227,
   "metadata": {},
   "outputs": [],
   "source": [
    "x_test=hist_test[col_8]"
   ]
  },
  {
   "cell_type": "code",
   "execution_count": 228,
   "metadata": {},
   "outputs": [
    {
     "data": {
      "text/plain": [
       "array([1, 1, 1, 1, 1, 1, 1, 1, 1, 1, 1, 1, 1, 1, 1, 1, 1, 1, 1, 1, 1, 1,\n",
       "       1, 1, 1, 1, 1, 1, 1, 1, 1, 1, 1, 1, 1, 1, 1, 1, 1, 1, 1, 1, 1, 1,\n",
       "       1, 1, 1, 1, 1, 0, 1, 1, 1, 1, 1, 1, 1, 1, 1, 1, 1, 1, 1, 1, 1, 1,\n",
       "       1, 1, 1, 1, 1, 1, 1, 1, 1, 1, 1, 1, 1], dtype=uint8)"
      ]
     },
     "execution_count": 228,
     "metadata": {},
     "output_type": "execute_result"
    }
   ],
   "source": [
    "dc2.predict(x_test)"
   ]
  },
  {
   "cell_type": "code",
   "execution_count": null,
   "metadata": {},
   "outputs": [],
   "source": []
  },
  {
   "cell_type": "code",
   "execution_count": 229,
   "metadata": {},
   "outputs": [],
   "source": [
    "hist_pred=pd.DataFrame()\n",
    "hist_pred['pred_1']=lr.predict(x_test)\n",
    "hist_pred['pred_2']=knn.predict(x_test)\n",
    "hist_pred['pred_3']=dc1.predict(x_test)\n",
    "hist_pred['pred_4']=dc2.predict(x_test)"
   ]
  },
  {
   "cell_type": "code",
   "execution_count": 230,
   "metadata": {},
   "outputs": [
    {
     "data": {
      "text/html": [
       "<div>\n",
       "<style scoped>\n",
       "    .dataframe tbody tr th:only-of-type {\n",
       "        vertical-align: middle;\n",
       "    }\n",
       "\n",
       "    .dataframe tbody tr th {\n",
       "        vertical-align: top;\n",
       "    }\n",
       "\n",
       "    .dataframe thead th {\n",
       "        text-align: right;\n",
       "    }\n",
       "</style>\n",
       "<table border=\"1\" class=\"dataframe\">\n",
       "  <thead>\n",
       "    <tr style=\"text-align: right;\">\n",
       "      <th></th>\n",
       "      <th>pred_1</th>\n",
       "      <th>pred_2</th>\n",
       "      <th>pred_3</th>\n",
       "      <th>pred_4</th>\n",
       "    </tr>\n",
       "  </thead>\n",
       "  <tbody>\n",
       "    <tr>\n",
       "      <th>0</th>\n",
       "      <td>1</td>\n",
       "      <td>1</td>\n",
       "      <td>1</td>\n",
       "      <td>1</td>\n",
       "    </tr>\n",
       "    <tr>\n",
       "      <th>1</th>\n",
       "      <td>1</td>\n",
       "      <td>1</td>\n",
       "      <td>1</td>\n",
       "      <td>1</td>\n",
       "    </tr>\n",
       "    <tr>\n",
       "      <th>2</th>\n",
       "      <td>1</td>\n",
       "      <td>1</td>\n",
       "      <td>1</td>\n",
       "      <td>1</td>\n",
       "    </tr>\n",
       "    <tr>\n",
       "      <th>3</th>\n",
       "      <td>1</td>\n",
       "      <td>1</td>\n",
       "      <td>1</td>\n",
       "      <td>1</td>\n",
       "    </tr>\n",
       "    <tr>\n",
       "      <th>4</th>\n",
       "      <td>1</td>\n",
       "      <td>1</td>\n",
       "      <td>1</td>\n",
       "      <td>1</td>\n",
       "    </tr>\n",
       "    <tr>\n",
       "      <th>...</th>\n",
       "      <td>...</td>\n",
       "      <td>...</td>\n",
       "      <td>...</td>\n",
       "      <td>...</td>\n",
       "    </tr>\n",
       "    <tr>\n",
       "      <th>74</th>\n",
       "      <td>1</td>\n",
       "      <td>1</td>\n",
       "      <td>1</td>\n",
       "      <td>1</td>\n",
       "    </tr>\n",
       "    <tr>\n",
       "      <th>75</th>\n",
       "      <td>1</td>\n",
       "      <td>1</td>\n",
       "      <td>1</td>\n",
       "      <td>1</td>\n",
       "    </tr>\n",
       "    <tr>\n",
       "      <th>76</th>\n",
       "      <td>1</td>\n",
       "      <td>1</td>\n",
       "      <td>1</td>\n",
       "      <td>1</td>\n",
       "    </tr>\n",
       "    <tr>\n",
       "      <th>77</th>\n",
       "      <td>1</td>\n",
       "      <td>1</td>\n",
       "      <td>1</td>\n",
       "      <td>1</td>\n",
       "    </tr>\n",
       "    <tr>\n",
       "      <th>78</th>\n",
       "      <td>1</td>\n",
       "      <td>1</td>\n",
       "      <td>1</td>\n",
       "      <td>1</td>\n",
       "    </tr>\n",
       "  </tbody>\n",
       "</table>\n",
       "<p>79 rows × 4 columns</p>\n",
       "</div>"
      ],
      "text/plain": [
       "    pred_1  pred_2  pred_3  pred_4\n",
       "0        1       1       1       1\n",
       "1        1       1       1       1\n",
       "2        1       1       1       1\n",
       "3        1       1       1       1\n",
       "4        1       1       1       1\n",
       "..     ...     ...     ...     ...\n",
       "74       1       1       1       1\n",
       "75       1       1       1       1\n",
       "76       1       1       1       1\n",
       "77       1       1       1       1\n",
       "78       1       1       1       1\n",
       "\n",
       "[79 rows x 4 columns]"
      ]
     },
     "execution_count": 230,
     "metadata": {},
     "output_type": "execute_result"
    }
   ],
   "source": [
    "hist_pred"
   ]
  },
  {
   "cell_type": "code",
   "execution_count": 231,
   "metadata": {},
   "outputs": [
    {
     "data": {
      "image/png": "[encoded data removed]",
      "text/plain": [
       "<Figure size 432x288 with 2 Axes>"
      ]
     },
     "metadata": {
      "needs_background": "light"
     },
     "output_type": "display_data"
    }
   ],
   "source": [
    "#confusion matrix on training dataset\n",
    "con_matrix=confusion_matrix(hist_pred['pred_2'], hist_pred['pred_4'])\n",
    "sns.heatmap(con_matrix, annot=True, cmap='RdYlGn', fmt='.3g')\n",
    "plt.ylabel('Actuals')\n",
    "plt.xlabel('Predictions')\n",
    "plt.title('Confusion Matrix')\n",
    "plt.show()"
   ]
  },
  {
   "cell_type": "code",
   "execution_count": 232,
   "metadata": {},
   "outputs": [],
   "source": [
    "hist_test['Credit_History_1.0']=knn.predict(x_test)"
   ]
  },
  {
   "cell_type": "code",
   "execution_count": 233,
   "metadata": {},
   "outputs": [],
   "source": [
    "hist_test['Loan_ID']=data.loc[data['Credit_History'].isnull(),['Loan_ID']]"
   ]
  },
  {
   "cell_type": "code",
   "execution_count": 234,
   "metadata": {},
   "outputs": [],
   "source": [
    "hist_test.drop('Credit_History', axis=1, inplace=True)"
   ]
  },
  {
   "cell_type": "code",
   "execution_count": 235,
   "metadata": {},
   "outputs": [],
   "source": [
    "hist_train['Loan_ID']=data.loc[data['Credit_History'].notnull(),['Loan_ID']]"
   ]
  },
  {
   "cell_type": "code",
   "execution_count": 236,
   "metadata": {},
   "outputs": [
    {
     "name": "stdout",
     "output_type": "stream",
     "text": [
      "<class 'pandas.core.frame.DataFrame'>\n",
      "Int64Index: 902 entries, 0 to 366\n",
      "Data columns (total 25 columns):\n",
      " #   Column                   Non-Null Count  Dtype  \n",
      "---  ------                   --------------  -----  \n",
      " 0   log_ApplicantIncome      902 non-null    float64\n",
      " 1   log_CoapplicantIncome    902 non-null    float64\n",
      " 2   log_LoanAmount           902 non-null    float64\n",
      " 3   Gender_Male              902 non-null    uint8  \n",
      " 4   Married_Yes              902 non-null    uint8  \n",
      " 5   Dependents_1             902 non-null    uint8  \n",
      " 6   Dependents_2             902 non-null    uint8  \n",
      " 7   Dependents_3+            902 non-null    uint8  \n",
      " 8   Education_Not Graduate   902 non-null    uint8  \n",
      " 9   Self_Employed_Yes        902 non-null    uint8  \n",
      " 10  Loan_Amount_Term_12.0    902 non-null    uint8  \n",
      " 11  Loan_Amount_Term_36.0    902 non-null    uint8  \n",
      " 12  Loan_Amount_Term_60.0    902 non-null    uint8  \n",
      " 13  Loan_Amount_Term_84.0    902 non-null    uint8  \n",
      " 14  Loan_Amount_Term_120.0   902 non-null    uint8  \n",
      " 15  Loan_Amount_Term_180.0   902 non-null    uint8  \n",
      " 16  Loan_Amount_Term_240.0   902 non-null    uint8  \n",
      " 17  Loan_Amount_Term_300.0   902 non-null    uint8  \n",
      " 18  Loan_Amount_Term_350.0   902 non-null    uint8  \n",
      " 19  Loan_Amount_Term_360.0   902 non-null    uint8  \n",
      " 20  Loan_Amount_Term_480.0   902 non-null    uint8  \n",
      " 21  Property_Area_Semiurban  902 non-null    uint8  \n",
      " 22  Property_Area_Urban      902 non-null    uint8  \n",
      " 23  Credit_History_1.0       902 non-null    uint8  \n",
      " 24  Loan_ID                  902 non-null    object \n",
      "dtypes: float64(3), object(1), uint8(21)\n",
      "memory usage: 53.7+ KB\n"
     ]
    }
   ],
   "source": [
    "hist_train.info()"
   ]
  },
  {
   "cell_type": "code",
   "execution_count": null,
   "metadata": {},
   "outputs": [],
   "source": []
  },
  {
   "cell_type": "code",
   "execution_count": 237,
   "metadata": {},
   "outputs": [
    {
     "name": "stdout",
     "output_type": "stream",
     "text": [
      "<class 'pandas.core.frame.DataFrame'>\n",
      "Int64Index: 79 entries, 16 to 364\n",
      "Data columns (total 25 columns):\n",
      " #   Column                   Non-Null Count  Dtype  \n",
      "---  ------                   --------------  -----  \n",
      " 0   log_ApplicantIncome      79 non-null     float64\n",
      " 1   log_CoapplicantIncome    79 non-null     float64\n",
      " 2   log_LoanAmount           79 non-null     float64\n",
      " 3   Gender_Male              79 non-null     uint8  \n",
      " 4   Married_Yes              79 non-null     uint8  \n",
      " 5   Dependents_1             79 non-null     uint8  \n",
      " 6   Dependents_2             79 non-null     uint8  \n",
      " 7   Dependents_3+            79 non-null     uint8  \n",
      " 8   Education_Not Graduate   79 non-null     uint8  \n",
      " 9   Self_Employed_Yes        79 non-null     uint8  \n",
      " 10  Loan_Amount_Term_12.0    79 non-null     uint8  \n",
      " 11  Loan_Amount_Term_36.0    79 non-null     uint8  \n",
      " 12  Loan_Amount_Term_60.0    79 non-null     uint8  \n",
      " 13  Loan_Amount_Term_84.0    79 non-null     uint8  \n",
      " 14  Loan_Amount_Term_120.0   79 non-null     uint8  \n",
      " 15  Loan_Amount_Term_180.0   79 non-null     uint8  \n",
      " 16  Loan_Amount_Term_240.0   79 non-null     uint8  \n",
      " 17  Loan_Amount_Term_300.0   79 non-null     uint8  \n",
      " 18  Loan_Amount_Term_350.0   79 non-null     uint8  \n",
      " 19  Loan_Amount_Term_360.0   79 non-null     uint8  \n",
      " 20  Loan_Amount_Term_480.0   79 non-null     uint8  \n",
      " 21  Property_Area_Semiurban  79 non-null     uint8  \n",
      " 22  Property_Area_Urban      79 non-null     uint8  \n",
      " 23  Credit_History_1.0       79 non-null     uint8  \n",
      " 24  Loan_ID                  79 non-null     object \n",
      "dtypes: float64(3), object(1), uint8(21)\n",
      "memory usage: 4.7+ KB\n"
     ]
    }
   ],
   "source": [
    "hist_test.info()"
   ]
  },
  {
   "cell_type": "code",
   "execution_count": 238,
   "metadata": {},
   "outputs": [],
   "source": [
    "data_4=pd.concat([hist_train, hist_test], axis=0,ignore_index=True).sort_values(['Loan_ID'], ascending=True, ignore_index=True)"
   ]
  },
  {
   "cell_type": "code",
   "execution_count": 242,
   "metadata": {},
   "outputs": [
    {
     "data": {
      "text/html": [
       "<div>\n",
       "<style scoped>\n",
       "    .dataframe tbody tr th:only-of-type {\n",
       "        vertical-align: middle;\n",
       "    }\n",
       "\n",
       "    .dataframe tbody tr th {\n",
       "        vertical-align: top;\n",
       "    }\n",
       "\n",
       "    .dataframe thead th {\n",
       "        text-align: right;\n",
       "    }\n",
       "</style>\n",
       "<table border=\"1\" class=\"dataframe\">\n",
       "  <thead>\n",
       "    <tr style=\"text-align: right;\">\n",
       "      <th></th>\n",
       "      <th>log_ApplicantIncome</th>\n",
       "      <th>log_CoapplicantIncome</th>\n",
       "      <th>log_LoanAmount</th>\n",
       "      <th>Gender_Male</th>\n",
       "      <th>Married_Yes</th>\n",
       "      <th>Dependents_1</th>\n",
       "      <th>Dependents_2</th>\n",
       "      <th>Dependents_3+</th>\n",
       "      <th>Education_Not Graduate</th>\n",
       "      <th>Self_Employed_Yes</th>\n",
       "      <th>...</th>\n",
       "      <th>Loan_Amount_Term_180.0</th>\n",
       "      <th>Loan_Amount_Term_240.0</th>\n",
       "      <th>Loan_Amount_Term_300.0</th>\n",
       "      <th>Loan_Amount_Term_350.0</th>\n",
       "      <th>Loan_Amount_Term_360.0</th>\n",
       "      <th>Loan_Amount_Term_480.0</th>\n",
       "      <th>Property_Area_Semiurban</th>\n",
       "      <th>Property_Area_Urban</th>\n",
       "      <th>Credit_History_1.0</th>\n",
       "      <th>Loan_ID</th>\n",
       "    </tr>\n",
       "  </thead>\n",
       "  <tbody>\n",
       "    <tr>\n",
       "      <th>0</th>\n",
       "      <td>8.674197</td>\n",
       "      <td>4.333883</td>\n",
       "      <td>4.844187</td>\n",
       "      <td>1</td>\n",
       "      <td>0</td>\n",
       "      <td>0</td>\n",
       "      <td>0</td>\n",
       "      <td>0</td>\n",
       "      <td>0</td>\n",
       "      <td>0</td>\n",
       "      <td>...</td>\n",
       "      <td>0</td>\n",
       "      <td>0</td>\n",
       "      <td>0</td>\n",
       "      <td>0</td>\n",
       "      <td>1</td>\n",
       "      <td>0</td>\n",
       "      <td>0</td>\n",
       "      <td>1</td>\n",
       "      <td>1</td>\n",
       "      <td>LP001002</td>\n",
       "    </tr>\n",
       "    <tr>\n",
       "      <th>1</th>\n",
       "      <td>8.430327</td>\n",
       "      <td>7.319202</td>\n",
       "      <td>4.859812</td>\n",
       "      <td>1</td>\n",
       "      <td>1</td>\n",
       "      <td>1</td>\n",
       "      <td>0</td>\n",
       "      <td>0</td>\n",
       "      <td>0</td>\n",
       "      <td>0</td>\n",
       "      <td>...</td>\n",
       "      <td>0</td>\n",
       "      <td>0</td>\n",
       "      <td>0</td>\n",
       "      <td>0</td>\n",
       "      <td>1</td>\n",
       "      <td>0</td>\n",
       "      <td>0</td>\n",
       "      <td>0</td>\n",
       "      <td>1</td>\n",
       "      <td>LP001003</td>\n",
       "    </tr>\n",
       "    <tr>\n",
       "      <th>2</th>\n",
       "      <td>8.006701</td>\n",
       "      <td>4.333883</td>\n",
       "      <td>4.204693</td>\n",
       "      <td>1</td>\n",
       "      <td>1</td>\n",
       "      <td>0</td>\n",
       "      <td>0</td>\n",
       "      <td>0</td>\n",
       "      <td>0</td>\n",
       "      <td>1</td>\n",
       "      <td>...</td>\n",
       "      <td>0</td>\n",
       "      <td>0</td>\n",
       "      <td>0</td>\n",
       "      <td>0</td>\n",
       "      <td>1</td>\n",
       "      <td>0</td>\n",
       "      <td>0</td>\n",
       "      <td>1</td>\n",
       "      <td>1</td>\n",
       "      <td>LP001005</td>\n",
       "    </tr>\n",
       "    <tr>\n",
       "      <th>3</th>\n",
       "      <td>7.857094</td>\n",
       "      <td>7.765993</td>\n",
       "      <td>4.795791</td>\n",
       "      <td>1</td>\n",
       "      <td>1</td>\n",
       "      <td>0</td>\n",
       "      <td>0</td>\n",
       "      <td>0</td>\n",
       "      <td>1</td>\n",
       "      <td>0</td>\n",
       "      <td>...</td>\n",
       "      <td>0</td>\n",
       "      <td>0</td>\n",
       "      <td>0</td>\n",
       "      <td>0</td>\n",
       "      <td>1</td>\n",
       "      <td>0</td>\n",
       "      <td>0</td>\n",
       "      <td>1</td>\n",
       "      <td>1</td>\n",
       "      <td>LP001006</td>\n",
       "    </tr>\n",
       "    <tr>\n",
       "      <th>4</th>\n",
       "      <td>8.699681</td>\n",
       "      <td>4.333883</td>\n",
       "      <td>4.955827</td>\n",
       "      <td>1</td>\n",
       "      <td>0</td>\n",
       "      <td>0</td>\n",
       "      <td>0</td>\n",
       "      <td>0</td>\n",
       "      <td>0</td>\n",
       "      <td>0</td>\n",
       "      <td>...</td>\n",
       "      <td>0</td>\n",
       "      <td>0</td>\n",
       "      <td>0</td>\n",
       "      <td>0</td>\n",
       "      <td>1</td>\n",
       "      <td>0</td>\n",
       "      <td>0</td>\n",
       "      <td>1</td>\n",
       "      <td>1</td>\n",
       "      <td>LP001008</td>\n",
       "    </tr>\n",
       "    <tr>\n",
       "      <th>...</th>\n",
       "      <td>...</td>\n",
       "      <td>...</td>\n",
       "      <td>...</td>\n",
       "      <td>...</td>\n",
       "      <td>...</td>\n",
       "      <td>...</td>\n",
       "      <td>...</td>\n",
       "      <td>...</td>\n",
       "      <td>...</td>\n",
       "      <td>...</td>\n",
       "      <td>...</td>\n",
       "      <td>...</td>\n",
       "      <td>...</td>\n",
       "      <td>...</td>\n",
       "      <td>...</td>\n",
       "      <td>...</td>\n",
       "      <td>...</td>\n",
       "      <td>...</td>\n",
       "      <td>...</td>\n",
       "      <td>...</td>\n",
       "      <td>...</td>\n",
       "    </tr>\n",
       "    <tr>\n",
       "      <th>976</th>\n",
       "      <td>8.996280</td>\n",
       "      <td>5.484797</td>\n",
       "      <td>5.537334</td>\n",
       "      <td>1</td>\n",
       "      <td>1</td>\n",
       "      <td>1</td>\n",
       "      <td>0</td>\n",
       "      <td>0</td>\n",
       "      <td>0</td>\n",
       "      <td>0</td>\n",
       "      <td>...</td>\n",
       "      <td>0</td>\n",
       "      <td>0</td>\n",
       "      <td>0</td>\n",
       "      <td>0</td>\n",
       "      <td>1</td>\n",
       "      <td>0</td>\n",
       "      <td>0</td>\n",
       "      <td>1</td>\n",
       "      <td>1</td>\n",
       "      <td>LP002983</td>\n",
       "    </tr>\n",
       "    <tr>\n",
       "      <th>977</th>\n",
       "      <td>8.933796</td>\n",
       "      <td>4.333883</td>\n",
       "      <td>5.236442</td>\n",
       "      <td>1</td>\n",
       "      <td>1</td>\n",
       "      <td>0</td>\n",
       "      <td>1</td>\n",
       "      <td>0</td>\n",
       "      <td>0</td>\n",
       "      <td>0</td>\n",
       "      <td>...</td>\n",
       "      <td>0</td>\n",
       "      <td>0</td>\n",
       "      <td>0</td>\n",
       "      <td>0</td>\n",
       "      <td>1</td>\n",
       "      <td>0</td>\n",
       "      <td>0</td>\n",
       "      <td>1</td>\n",
       "      <td>1</td>\n",
       "      <td>LP002984</td>\n",
       "    </tr>\n",
       "    <tr>\n",
       "      <th>978</th>\n",
       "      <td>8.517393</td>\n",
       "      <td>7.780721</td>\n",
       "      <td>5.068904</td>\n",
       "      <td>1</td>\n",
       "      <td>1</td>\n",
       "      <td>0</td>\n",
       "      <td>0</td>\n",
       "      <td>0</td>\n",
       "      <td>0</td>\n",
       "      <td>0</td>\n",
       "      <td>...</td>\n",
       "      <td>0</td>\n",
       "      <td>0</td>\n",
       "      <td>0</td>\n",
       "      <td>0</td>\n",
       "      <td>1</td>\n",
       "      <td>0</td>\n",
       "      <td>0</td>\n",
       "      <td>0</td>\n",
       "      <td>1</td>\n",
       "      <td>LP002986</td>\n",
       "    </tr>\n",
       "    <tr>\n",
       "      <th>979</th>\n",
       "      <td>9.127067</td>\n",
       "      <td>4.333883</td>\n",
       "      <td>4.595120</td>\n",
       "      <td>1</td>\n",
       "      <td>0</td>\n",
       "      <td>0</td>\n",
       "      <td>0</td>\n",
       "      <td>0</td>\n",
       "      <td>0</td>\n",
       "      <td>1</td>\n",
       "      <td>...</td>\n",
       "      <td>1</td>\n",
       "      <td>0</td>\n",
       "      <td>0</td>\n",
       "      <td>0</td>\n",
       "      <td>0</td>\n",
       "      <td>0</td>\n",
       "      <td>0</td>\n",
       "      <td>0</td>\n",
       "      <td>1</td>\n",
       "      <td>LP002989</td>\n",
       "    </tr>\n",
       "    <tr>\n",
       "      <th>980</th>\n",
       "      <td>8.430327</td>\n",
       "      <td>4.333883</td>\n",
       "      <td>4.897840</td>\n",
       "      <td>0</td>\n",
       "      <td>0</td>\n",
       "      <td>0</td>\n",
       "      <td>0</td>\n",
       "      <td>0</td>\n",
       "      <td>0</td>\n",
       "      <td>1</td>\n",
       "      <td>...</td>\n",
       "      <td>0</td>\n",
       "      <td>0</td>\n",
       "      <td>0</td>\n",
       "      <td>0</td>\n",
       "      <td>1</td>\n",
       "      <td>0</td>\n",
       "      <td>1</td>\n",
       "      <td>0</td>\n",
       "      <td>0</td>\n",
       "      <td>LP002990</td>\n",
       "    </tr>\n",
       "  </tbody>\n",
       "</table>\n",
       "<p>981 rows × 25 columns</p>\n",
       "</div>"
      ],
      "text/plain": [
       "     log_ApplicantIncome  log_CoapplicantIncome  log_LoanAmount  Gender_Male  \\\n",
       "0               8.674197               4.333883        4.844187            1   \n",
       "1               8.430327               7.319202        4.859812            1   \n",
       "2               8.006701               4.333883        4.204693            1   \n",
       "3               7.857094               7.765993        4.795791            1   \n",
       "4               8.699681               4.333883        4.955827            1   \n",
       "..                   ...                    ...             ...          ...   \n",
       "976             8.996280               5.484797        5.537334            1   \n",
       "977             8.933796               4.333883        5.236442            1   \n",
       "978             8.517393               7.780721        5.068904            1   \n",
       "979             9.127067               4.333883        4.595120            1   \n",
       "980             8.430327               4.333883        4.897840            0   \n",
       "\n",
       "     Married_Yes  Dependents_1  Dependents_2  Dependents_3+  \\\n",
       "0              0             0             0              0   \n",
       "1              1             1             0              0   \n",
       "2              1             0             0              0   \n",
       "3              1             0             0              0   \n",
       "4              0             0             0              0   \n",
       "..           ...           ...           ...            ...   \n",
       "976            1             1             0              0   \n",
       "977            1             0             1              0   \n",
       "978            1             0             0              0   \n",
       "979            0             0             0              0   \n",
       "980            0             0             0              0   \n",
       "\n",
       "     Education_Not Graduate  Self_Employed_Yes  ...  Loan_Amount_Term_180.0  \\\n",
       "0                         0                  0  ...                       0   \n",
       "1                         0                  0  ...                       0   \n",
       "2                         0                  1  ...                       0   \n",
       "3                         1                  0  ...                       0   \n",
       "4                         0                  0  ...                       0   \n",
       "..                      ...                ...  ...                     ...   \n",
       "976                       0                  0  ...                       0   \n",
       "977                       0                  0  ...                       0   \n",
       "978                       0                  0  ...                       0   \n",
       "979                       0                  1  ...                       1   \n",
       "980                       0                  1  ...                       0   \n",
       "\n",
       "     Loan_Amount_Term_240.0  Loan_Amount_Term_300.0  Loan_Amount_Term_350.0  \\\n",
       "0                         0                       0                       0   \n",
       "1                         0                       0                       0   \n",
       "2                         0                       0                       0   \n",
       "3                         0                       0                       0   \n",
       "4                         0                       0                       0   \n",
       "..                      ...                     ...                     ...   \n",
       "976                       0                       0                       0   \n",
       "977                       0                       0                       0   \n",
       "978                       0                       0                       0   \n",
       "979                       0                       0                       0   \n",
       "980                       0                       0                       0   \n",
       "\n",
       "     Loan_Amount_Term_360.0  Loan_Amount_Term_480.0  Property_Area_Semiurban  \\\n",
       "0                         1                       0                        0   \n",
       "1                         1                       0                        0   \n",
       "2                         1                       0                        0   \n",
       "3                         1                       0                        0   \n",
       "4                         1                       0                        0   \n",
       "..                      ...                     ...                      ...   \n",
       "976                       1                       0                        0   \n",
       "977                       1                       0                        0   \n",
       "978                       1                       0                        0   \n",
       "979                       0                       0                        0   \n",
       "980                       1                       0                        1   \n",
       "\n",
       "     Property_Area_Urban  Credit_History_1.0   Loan_ID  \n",
       "0                      1                   1  LP001002  \n",
       "1                      0                   1  LP001003  \n",
       "2                      1                   1  LP001005  \n",
       "3                      1                   1  LP001006  \n",
       "4                      1                   1  LP001008  \n",
       "..                   ...                 ...       ...  \n",
       "976                    1                   1  LP002983  \n",
       "977                    1                   1  LP002984  \n",
       "978                    0                   1  LP002986  \n",
       "979                    0                   1  LP002989  \n",
       "980                    0                   0  LP002990  \n",
       "\n",
       "[981 rows x 25 columns]"
      ]
     },
     "execution_count": 242,
     "metadata": {},
     "output_type": "execute_result"
    }
   ],
   "source": [
    "data_4"
   ]
  },
  {
   "cell_type": "code",
   "execution_count": 249,
   "metadata": {},
   "outputs": [],
   "source": [
    "data_11=data.sort_values('Loan_ID', ascending=True, ignore_index=True)"
   ]
  },
  {
   "cell_type": "code",
   "execution_count": 251,
   "metadata": {},
   "outputs": [],
   "source": [
    "data_4['Loan_Status']=data_11['Loan_Status']"
   ]
  },
  {
   "cell_type": "code",
   "execution_count": 259,
   "metadata": {},
   "outputs": [],
   "source": [
    "train_1=data_4.loc[data_4['Loan_Status'].notnull(),:].sort_values('Loan_ID', ascending=True, ignore_index=True)"
   ]
  },
  {
   "cell_type": "code",
   "execution_count": 276,
   "metadata": {},
   "outputs": [],
   "source": [
    "train_1['Loan_Status'].replace('Y', 1, inplace=True)\n",
    "train_1['Loan_Status'].replace('N', 0, inplace=True)\n",
    "train_1['Loan_Status']=train_1['Loan_Status'].astype('uint8')"
   ]
  },
  {
   "cell_type": "code",
   "execution_count": 260,
   "metadata": {},
   "outputs": [],
   "source": [
    "test_1=data_4.loc[data_4['Loan_Status'].isnull(),:].sort_values('Loan_ID', ascending=True, ignore_index=True)"
   ]
  },
  {
   "cell_type": "code",
   "execution_count": 278,
   "metadata": {},
   "outputs": [],
   "source": [
    "train_1=train_1.drop('Loan_ID',axis=1)"
   ]
  },
  {
   "cell_type": "code",
   "execution_count": 279,
   "metadata": {},
   "outputs": [
    {
     "name": "stdout",
     "output_type": "stream",
     "text": [
      "<class 'pandas.core.frame.DataFrame'>\n",
      "RangeIndex: 614 entries, 0 to 613\n",
      "Data columns (total 25 columns):\n",
      " #   Column                   Non-Null Count  Dtype  \n",
      "---  ------                   --------------  -----  \n",
      " 0   log_ApplicantIncome      614 non-null    float64\n",
      " 1   log_CoapplicantIncome    614 non-null    float64\n",
      " 2   log_LoanAmount           614 non-null    float64\n",
      " 3   Gender_Male              614 non-null    uint8  \n",
      " 4   Married_Yes              614 non-null    uint8  \n",
      " 5   Dependents_1             614 non-null    uint8  \n",
      " 6   Dependents_2             614 non-null    uint8  \n",
      " 7   Dependents_3+            614 non-null    uint8  \n",
      " 8   Education_Not Graduate   614 non-null    uint8  \n",
      " 9   Self_Employed_Yes        614 non-null    uint8  \n",
      " 10  Loan_Amount_Term_12.0    614 non-null    uint8  \n",
      " 11  Loan_Amount_Term_36.0    614 non-null    uint8  \n",
      " 12  Loan_Amount_Term_60.0    614 non-null    uint8  \n",
      " 13  Loan_Amount_Term_84.0    614 non-null    uint8  \n",
      " 14  Loan_Amount_Term_120.0   614 non-null    uint8  \n",
      " 15  Loan_Amount_Term_180.0   614 non-null    uint8  \n",
      " 16  Loan_Amount_Term_240.0   614 non-null    uint8  \n",
      " 17  Loan_Amount_Term_300.0   614 non-null    uint8  \n",
      " 18  Loan_Amount_Term_350.0   614 non-null    uint8  \n",
      " 19  Loan_Amount_Term_360.0   614 non-null    uint8  \n",
      " 20  Loan_Amount_Term_480.0   614 non-null    uint8  \n",
      " 21  Property_Area_Semiurban  614 non-null    uint8  \n",
      " 22  Property_Area_Urban      614 non-null    uint8  \n",
      " 23  Credit_History_1.0       614 non-null    uint8  \n",
      " 24  Loan_Status              614 non-null    uint8  \n",
      "dtypes: float64(3), uint8(22)\n",
      "memory usage: 27.7 KB\n"
     ]
    }
   ],
   "source": [
    "train_1.info()"
   ]
  },
  {
   "cell_type": "code",
   "execution_count": 283,
   "metadata": {},
   "outputs": [
    {
     "data": {
      "text/plain": [
       "<matplotlib.axes._subplots.AxesSubplot at 0x15f66cf19c8>"
      ]
     },
     "execution_count": 283,
     "metadata": {},
     "output_type": "execute_result"
    },
    {
     "data": {
      "image/png": "[encoded data removed]",
      "text/plain": [
       "<Figure size 720x432 with 1 Axes>"
      ]
     },
     "metadata": {
      "needs_background": "light"
     },
     "output_type": "display_data"
    }
   ],
   "source": [
    "x=train_1.drop(['Loan_Status'], axis=1)\n",
    "y=train_1[['Loan_Status']]\n",
    "\n",
    "x_train, x_test, y_train, y_test=train_test_split(x,y, train_size=0.7, random_state=100)\n",
    "\n",
    "rc=RandomForestClassifier(n_estimators=1000, random_state=100)\n",
    "rc.fit(x_train, y_train)\n",
    "y=rc.feature_importances_\n",
    "\n",
    "feature_importance={'feature_name':train_1.drop(['Loan_Status'], axis=1).columns.tolist(), 'feature_importance':y}\n",
    "\n",
    "feature_imp_table_2=pd.DataFrame(feature_importance)\n",
    "feature_imp_table_2['feature_importance']=feature_imp_table_2['feature_importance']*100\n",
    "feature_imp_table_2.sort_values(['feature_importance'], ascending=False, inplace=True)\n",
    "\n",
    "axes=plt.subplots(figsize=(10,6))\n",
    "sns.barplot(x='feature_importance', y='feature_name', data=feature_imp_table_2)"
   ]
  },
  {
   "cell_type": "code",
   "execution_count": 295,
   "metadata": {},
   "outputs": [],
   "source": [
    "col_1=['Credit_History_1.0','log_ApplicantIncome','log_LoanAmount','log_CoapplicantIncome']\n",
    "col_2=['Credit_History_1.0','log_ApplicantIncome','log_LoanAmount','log_CoapplicantIncome', 'Married_Yes']\n",
    "col_3=['Credit_History_1.0','log_ApplicantIncome','log_LoanAmount','log_CoapplicantIncome', 'Married_Yes', 'Property_Area_Semiurban']\n",
    "col_4=['Credit_History_1.0','log_ApplicantIncome','log_LoanAmount','log_CoapplicantIncome', 'Married_Yes', 'Property_Area_Semiurban', 'Education_Not Graduate']\n",
    "col_5=['Credit_History_1.0','log_ApplicantIncome','log_LoanAmount','log_CoapplicantIncome', 'Married_Yes', 'Property_Area_Semiurban', 'Education_Not Graduate','Dependents_1']\n",
    "col_6=['Credit_History_1.0','log_ApplicantIncome','log_LoanAmount','log_CoapplicantIncome', 'Married_Yes', 'Property_Area_Semiurban', 'Education_Not Graduate','Dependents_1','Property_Area_Urban']\n",
    "col_7=['Credit_History_1.0','log_ApplicantIncome','log_LoanAmount','log_CoapplicantIncome', 'Married_Yes', 'Property_Area_Semiurban', 'Education_Not Graduate','Dependents_1','Property_Area_Urban','Gender_Male']\n",
    "col_8=['Credit_History_1.0','log_ApplicantIncome','log_LoanAmount','log_CoapplicantIncome', 'Married_Yes', 'Property_Area_Semiurban', 'Education_Not Graduate','Dependents_1','Property_Area_Urban','Gender_Male', 'Self_Employed_Yes']\n",
    "\n",
    "x_col=[col_1, col_2, col_3, col_4, col_5, col_6, col_7, col_8]"
   ]
  },
  {
   "cell_type": "code",
   "execution_count": 296,
   "metadata": {},
   "outputs": [
    {
     "name": "stdout",
     "output_type": "stream",
     "text": [
      "train =  0.8152 , test =  0.7967\n",
      "================================================================================================\n",
      "train =  0.8152 , test =  0.7967\n",
      "================================================================================================\n",
      "train =  0.8152 , test =  0.7927\n",
      "================================================================================================\n",
      "train =  0.8207 , test =  0.7927\n",
      "================================================================================================\n",
      "train =  0.8207 , test =  0.7967\n",
      "================================================================================================\n",
      "train =  0.8207 , test =  0.7927\n",
      "================================================================================================\n",
      "train =  0.8207 , test =  0.7927\n",
      "================================================================================================\n",
      "train =  0.8207 , test =  0.7927\n",
      "================================================================================================\n"
     ]
    }
   ],
   "source": [
    "for p in x_col:\n",
    "    x=train_1[p]\n",
    "    y=train_1[['Loan_Status']]\n",
    "    x_train, x_test, y_train, y_test=train_test_split(x,y, train_size=0.6, random_state=100)\n",
    "    lr=LogisticRegression()\n",
    "    lr.fit(x_train, y_train)\n",
    "    print('train = ', round(lr.score(x_train, y_train), 4), ', test = ', round(lr.score(x_test, y_test),4))\n",
    "    print('================================================================================================')"
   ]
  },
  {
   "cell_type": "code",
   "execution_count": 308,
   "metadata": {},
   "outputs": [
    {
     "name": "stdout",
     "output_type": "stream",
     "text": [
      "train =  0.8078\n"
     ]
    }
   ],
   "source": [
    "x_train=train_1[col_1]\n",
    "y_train=train_1[['Loan_Status']]\n",
    "lr1=LogisticRegression()\n",
    "lr1.fit(x_train, y_train)\n",
    "print('train = ', round(lr1.score(x_train, y_train), 4))"
   ]
  },
  {
   "cell_type": "code",
   "execution_count": 313,
   "metadata": {},
   "outputs": [],
   "source": [
    "x_test=test_1[col_1]\n",
    "submit_21=pd.DataFrame()\n",
    "submit_21['Loan_ID']=test['Loan_ID']\n",
    "submit_21['Loan_Status']=lr1.predict(x_test)\n",
    "\n",
    "submit_21['Loan_Status'].replace(1, 'Y', inplace=True)\n",
    "submit_21['Loan_Status'].replace(0, 'N', inplace=True)\n",
    "\n",
    "#submit_21.to_csv('submit_21.csv',index=False)"
   ]
  },
  {
   "cell_type": "code",
   "execution_count": 314,
   "metadata": {},
   "outputs": [
    {
     "data": {
      "text/plain": [
       "1    306\n",
       "0     61\n",
       "Name: Loan_Status, dtype: int64"
      ]
     },
     "execution_count": 314,
     "metadata": {},
     "output_type": "execute_result"
    }
   ],
   "source": [
    "submit_21['Loan_Status'].value_counts()"
   ]
  },
  {
   "cell_type": "code",
   "execution_count": 319,
   "metadata": {},
   "outputs": [
    {
     "data": {
      "text/html": [
       "<div>\n",
       "<style scoped>\n",
       "    .dataframe tbody tr th:only-of-type {\n",
       "        vertical-align: middle;\n",
       "    }\n",
       "\n",
       "    .dataframe tbody tr th {\n",
       "        vertical-align: top;\n",
       "    }\n",
       "\n",
       "    .dataframe thead th {\n",
       "        text-align: right;\n",
       "    }\n",
       "</style>\n",
       "<table border=\"1\" class=\"dataframe\">\n",
       "  <thead>\n",
       "    <tr style=\"text-align: right;\">\n",
       "      <th></th>\n",
       "      <th>Loan_ID</th>\n",
       "      <th>Loan_Status</th>\n",
       "    </tr>\n",
       "  </thead>\n",
       "  <tbody>\n",
       "    <tr>\n",
       "      <th>0</th>\n",
       "      <td>LP001015</td>\n",
       "      <td>Y</td>\n",
       "    </tr>\n",
       "    <tr>\n",
       "      <th>1</th>\n",
       "      <td>LP001022</td>\n",
       "      <td>Y</td>\n",
       "    </tr>\n",
       "    <tr>\n",
       "      <th>2</th>\n",
       "      <td>LP001031</td>\n",
       "      <td>Y</td>\n",
       "    </tr>\n",
       "    <tr>\n",
       "      <th>3</th>\n",
       "      <td>LP001035</td>\n",
       "      <td>Y</td>\n",
       "    </tr>\n",
       "    <tr>\n",
       "      <th>4</th>\n",
       "      <td>LP001051</td>\n",
       "      <td>Y</td>\n",
       "    </tr>\n",
       "    <tr>\n",
       "      <th>...</th>\n",
       "      <td>...</td>\n",
       "      <td>...</td>\n",
       "    </tr>\n",
       "    <tr>\n",
       "      <th>362</th>\n",
       "      <td>LP002971</td>\n",
       "      <td>Y</td>\n",
       "    </tr>\n",
       "    <tr>\n",
       "      <th>363</th>\n",
       "      <td>LP002975</td>\n",
       "      <td>Y</td>\n",
       "    </tr>\n",
       "    <tr>\n",
       "      <th>364</th>\n",
       "      <td>LP002980</td>\n",
       "      <td>Y</td>\n",
       "    </tr>\n",
       "    <tr>\n",
       "      <th>365</th>\n",
       "      <td>LP002986</td>\n",
       "      <td>Y</td>\n",
       "    </tr>\n",
       "    <tr>\n",
       "      <th>366</th>\n",
       "      <td>LP002989</td>\n",
       "      <td>Y</td>\n",
       "    </tr>\n",
       "  </tbody>\n",
       "</table>\n",
       "<p>367 rows × 2 columns</p>\n",
       "</div>"
      ],
      "text/plain": [
       "      Loan_ID Loan_Status\n",
       "0    LP001015           Y\n",
       "1    LP001022           Y\n",
       "2    LP001031           Y\n",
       "3    LP001035           Y\n",
       "4    LP001051           Y\n",
       "..        ...         ...\n",
       "362  LP002971           Y\n",
       "363  LP002975           Y\n",
       "364  LP002980           Y\n",
       "365  LP002986           Y\n",
       "366  LP002989           Y\n",
       "\n",
       "[367 rows x 2 columns]"
      ]
     },
     "execution_count": 319,
     "metadata": {},
     "output_type": "execute_result"
    }
   ],
   "source": [
    "submit_21"
   ]
  },
  {
   "cell_type": "code",
   "execution_count": 322,
   "metadata": {},
   "outputs": [],
   "source": [
    "score=pd.read_csv(r'E:\\My Files\\Downloads\\69_865472_us_submit_1_B6lO2qo.csv')"
   ]
  },
  {
   "cell_type": "code",
   "execution_count": 326,
   "metadata": {},
   "outputs": [],
   "source": [
    "score['pred_2']=submit_21['Loan_Status']"
   ]
  },
  {
   "cell_type": "code",
   "execution_count": 327,
   "metadata": {},
   "outputs": [
    {
     "data": {
      "image/png": "[encoded data removed]",
      "text/plain": [
       "<Figure size 432x288 with 2 Axes>"
      ]
     },
     "metadata": {
      "needs_background": "light"
     },
     "output_type": "display_data"
    }
   ],
   "source": [
    "#confusion matrix on training dataset\n",
    "con_matrix=confusion_matrix(score['Loan_Status'], score['pred_2'])\n",
    "sns.heatmap(con_matrix, annot=True, cmap='YlGn', fmt='.3g')\n",
    "plt.ylabel('Actuals')\n",
    "plt.xlabel('Predictions')\n",
    "plt.title('Confusion Matrix')\n",
    "plt.show()"
   ]
  },
  {
   "cell_type": "code",
   "execution_count": 298,
   "metadata": {},
   "outputs": [
    {
     "name": "stdout",
     "output_type": "stream",
     "text": [
      "Accuracy score\n",
      "3 train =  0.8505 , test =  0.7805\n",
      "Accuracy score\n",
      "3 train =  0.8533 , test =  0.7561\n",
      "Accuracy score\n",
      "3 train =  0.8614 , test =  0.7398\n",
      "Accuracy score\n",
      "3 train =  0.875 , test =  0.7398\n",
      "Accuracy score\n",
      "3 train =  0.875 , test =  0.7439\n",
      "Accuracy score\n",
      "3 train =  0.8533 , test =  0.7033\n",
      "Accuracy score\n",
      "3 train =  0.8505 , test =  0.6992\n",
      "Accuracy score\n",
      "3 train =  0.8397 , test =  0.7073\n",
      "================================================================================================\n",
      "Accuracy score\n",
      "5 train =  0.8288 , test =  0.7886\n",
      "Accuracy score\n",
      "5 train =  0.837 , test =  0.7683\n",
      "Accuracy score\n",
      "5 train =  0.837 , test =  0.7764\n",
      "Accuracy score\n",
      "5 train =  0.8451 , test =  0.7683\n",
      "Accuracy score\n",
      "5 train =  0.8424 , test =  0.7398\n",
      "Accuracy score\n",
      "5 train =  0.8207 , test =  0.7398\n",
      "Accuracy score\n",
      "5 train =  0.8179 , test =  0.7276\n",
      "Accuracy score\n",
      "5 train =  0.8179 , test =  0.7276\n",
      "================================================================================================\n",
      "Accuracy score\n",
      "7 train =  0.8234 , test =  0.7886\n",
      "Accuracy score\n",
      "7 train =  0.8397 , test =  0.7846\n",
      "Accuracy score\n",
      "7 train =  0.8098 , test =  0.8008\n",
      "Accuracy score\n",
      "7 train =  0.8179 , test =  0.752\n",
      "Accuracy score\n",
      "7 train =  0.8207 , test =  0.7398\n",
      "Accuracy score\n",
      "7 train =  0.8071 , test =  0.7439\n",
      "Accuracy score\n",
      "7 train =  0.8016 , test =  0.7439\n",
      "Accuracy score\n",
      "7 train =  0.7962 , test =  0.7398\n",
      "================================================================================================\n",
      "Accuracy score\n",
      "9 train =  0.8261 , test =  0.7846\n",
      "Accuracy score\n",
      "9 train =  0.8261 , test =  0.7927\n",
      "Accuracy score\n",
      "9 train =  0.8179 , test =  0.8008\n",
      "Accuracy score\n",
      "9 train =  0.8071 , test =  0.748\n",
      "Accuracy score\n",
      "9 train =  0.8125 , test =  0.7317\n",
      "Accuracy score\n",
      "9 train =  0.8152 , test =  0.7398\n",
      "Accuracy score\n",
      "9 train =  0.7908 , test =  0.7317\n",
      "Accuracy score\n",
      "9 train =  0.7989 , test =  0.7317\n",
      "================================================================================================\n",
      "Accuracy score\n",
      "11 train =  0.8234 , test =  0.7846\n",
      "Accuracy score\n",
      "11 train =  0.8207 , test =  0.7927\n",
      "Accuracy score\n",
      "11 train =  0.8125 , test =  0.7683\n",
      "Accuracy score\n",
      "11 train =  0.7935 , test =  0.748\n",
      "Accuracy score\n",
      "11 train =  0.8098 , test =  0.748\n",
      "Accuracy score\n",
      "11 train =  0.7935 , test =  0.7317\n",
      "Accuracy score\n",
      "11 train =  0.7717 , test =  0.7398\n",
      "Accuracy score\n",
      "11 train =  0.7799 , test =  0.7358\n",
      "================================================================================================\n",
      "Accuracy score\n",
      "13 train =  0.8234 , test =  0.7846\n",
      "Accuracy score\n",
      "13 train =  0.8207 , test =  0.7967\n",
      "Accuracy score\n",
      "13 train =  0.8016 , test =  0.7561\n",
      "Accuracy score\n",
      "13 train =  0.7962 , test =  0.7602\n",
      "Accuracy score\n",
      "13 train =  0.8016 , test =  0.748\n",
      "Accuracy score\n",
      "13 train =  0.7853 , test =  0.748\n",
      "Accuracy score\n",
      "13 train =  0.7745 , test =  0.7358\n",
      "Accuracy score\n",
      "13 train =  0.7745 , test =  0.7276\n",
      "================================================================================================\n",
      "Accuracy score\n",
      "15 train =  0.8179 , test =  0.7886\n",
      "Accuracy score\n",
      "15 train =  0.8179 , test =  0.7927\n",
      "Accuracy score\n",
      "15 train =  0.8016 , test =  0.7561\n",
      "Accuracy score\n",
      "15 train =  0.7908 , test =  0.7683\n",
      "Accuracy score\n",
      "15 train =  0.788 , test =  0.748\n",
      "Accuracy score\n",
      "15 train =  0.7799 , test =  0.748\n",
      "Accuracy score\n",
      "15 train =  0.7772 , test =  0.7317\n",
      "Accuracy score\n",
      "15 train =  0.7717 , test =  0.7317\n",
      "================================================================================================\n",
      "Accuracy score\n",
      "17 train =  0.8179 , test =  0.7886\n",
      "Accuracy score\n",
      "17 train =  0.8098 , test =  0.7927\n",
      "Accuracy score\n",
      "17 train =  0.8016 , test =  0.7602\n",
      "Accuracy score\n",
      "17 train =  0.788 , test =  0.7724\n",
      "Accuracy score\n",
      "17 train =  0.788 , test =  0.748\n",
      "Accuracy score\n",
      "17 train =  0.7799 , test =  0.748\n",
      "Accuracy score\n",
      "17 train =  0.7772 , test =  0.7398\n",
      "Accuracy score\n",
      "17 train =  0.7717 , test =  0.7358\n",
      "================================================================================================\n"
     ]
    }
   ],
   "source": [
    "col1=[3,5,7,9,11,13,15,17]\n",
    "\n",
    "for d in col1:\n",
    "    for p in x_col:\n",
    "        x=train_1[p]\n",
    "        y=train_1[['Loan_Status']]\n",
    "        x_train, x_test, y_train, y_test=train_test_split(x,y, train_size=0.6, random_state=100)\n",
    "        knn=KNeighborsClassifier(n_neighbors=d)\n",
    "        knn.fit(x_train, y_train)\n",
    "        print('Accuracy score')\n",
    "        print(d, 'train = ', round(knn.score(x_train, y_train), 4), ', test = ', round(knn.score(x_test, y_test),4))\n",
    "    print('================================================================================================')"
   ]
  },
  {
   "cell_type": "code",
   "execution_count": 345,
   "metadata": {},
   "outputs": [
    {
     "name": "stdout",
     "output_type": "stream",
     "text": [
      "train =  0.8257\n"
     ]
    }
   ],
   "source": [
    "x_train=train_1[col_3]\n",
    "y_train=train_1[['Loan_Status']]\n",
    "knn1=KNeighborsClassifier(n_neighbors=9)\n",
    "knn1.fit(x_train, y_train)\n",
    "print('train = ', round(knn1.score(x_train, y_train), 4))"
   ]
  },
  {
   "cell_type": "code",
   "execution_count": 346,
   "metadata": {},
   "outputs": [],
   "source": [
    "x_test=test_1[col_3]\n",
    "submit_22=pd.DataFrame()\n",
    "submit_22['Loan_ID']=test['Loan_ID']\n",
    "submit_22['Loan_Status']=knn1.predict(x_test)\n",
    "\n",
    "submit_22['Loan_Status'].replace(1, 'Y', inplace=True)\n",
    "submit_22['Loan_Status'].replace(0, 'N', inplace=True)\n",
    "\n",
    "#submit_21.to_csv('submit_21.csv',index=False)"
   ]
  },
  {
   "cell_type": "code",
   "execution_count": 347,
   "metadata": {},
   "outputs": [
    {
     "data": {
      "text/plain": [
       "Y    302\n",
       "N     65\n",
       "Name: Loan_Status, dtype: int64"
      ]
     },
     "execution_count": 347,
     "metadata": {},
     "output_type": "execute_result"
    }
   ],
   "source": [
    "submit_22['Loan_Status'].value_counts()"
   ]
  },
  {
   "cell_type": "code",
   "execution_count": 348,
   "metadata": {},
   "outputs": [],
   "source": [
    "submit_22.to_csv('submit_23.csv',index=False)"
   ]
  },
  {
   "cell_type": "code",
   "execution_count": 299,
   "metadata": {},
   "outputs": [
    {
     "name": "stdout",
     "output_type": "stream",
     "text": [
      "Accuracy score\n",
      "1 train =  0.8152 , test =  0.7967\n",
      "Accuracy score\n",
      "1 train =  0.8152 , test =  0.7967\n",
      "Accuracy score\n",
      "1 train =  0.8152 , test =  0.7967\n",
      "Accuracy score\n",
      "1 train =  0.8152 , test =  0.7967\n",
      "Accuracy score\n",
      "1 train =  0.8152 , test =  0.7967\n",
      "Accuracy score\n",
      "1 train =  0.8152 , test =  0.7967\n",
      "Accuracy score\n",
      "1 train =  0.8152 , test =  0.7967\n",
      "Accuracy score\n",
      "1 train =  0.8152 , test =  0.7967\n",
      "======================================================================================================\n",
      "Accuracy score\n",
      "2 train =  0.8152 , test =  0.7967\n",
      "Accuracy score\n",
      "2 train =  0.8152 , test =  0.7967\n",
      "Accuracy score\n",
      "2 train =  0.8152 , test =  0.7967\n",
      "Accuracy score\n",
      "2 train =  0.8152 , test =  0.7967\n",
      "Accuracy score\n",
      "2 train =  0.8152 , test =  0.7967\n",
      "Accuracy score\n",
      "2 train =  0.8152 , test =  0.7967\n",
      "Accuracy score\n",
      "2 train =  0.8152 , test =  0.7967\n",
      "Accuracy score\n",
      "2 train =  0.8152 , test =  0.7967\n",
      "======================================================================================================\n",
      "Accuracy score\n",
      "3 train =  0.8261 , test =  0.7642\n",
      "Accuracy score\n",
      "3 train =  0.8261 , test =  0.7683\n",
      "Accuracy score\n",
      "3 train =  0.8261 , test =  0.7683\n",
      "Accuracy score\n",
      "3 train =  0.8261 , test =  0.7683\n",
      "Accuracy score\n",
      "3 train =  0.8261 , test =  0.7683\n",
      "Accuracy score\n",
      "3 train =  0.8261 , test =  0.7683\n",
      "Accuracy score\n",
      "3 train =  0.8261 , test =  0.7683\n",
      "Accuracy score\n",
      "3 train =  0.8261 , test =  0.7683\n",
      "======================================================================================================\n",
      "Accuracy score\n",
      "4 train =  0.837 , test =  0.7642\n",
      "Accuracy score\n",
      "4 train =  0.8505 , test =  0.7683\n",
      "Accuracy score\n",
      "4 train =  0.8478 , test =  0.7683\n",
      "Accuracy score\n",
      "4 train =  0.8478 , test =  0.7683\n",
      "Accuracy score\n",
      "4 train =  0.8478 , test =  0.7683\n",
      "Accuracy score\n",
      "4 train =  0.8478 , test =  0.7683\n",
      "Accuracy score\n",
      "4 train =  0.8478 , test =  0.7683\n",
      "Accuracy score\n",
      "4 train =  0.8478 , test =  0.7724\n",
      "======================================================================================================\n",
      "Accuracy score\n",
      "5 train =  0.8587 , test =  0.7114\n",
      "Accuracy score\n",
      "5 train =  0.8587 , test =  0.7683\n",
      "Accuracy score\n",
      "5 train =  0.856 , test =  0.7602\n",
      "Accuracy score\n",
      "5 train =  0.856 , test =  0.7602\n",
      "Accuracy score\n",
      "5 train =  0.856 , test =  0.7683\n",
      "Accuracy score\n",
      "5 train =  0.856 , test =  0.7561\n",
      "Accuracy score\n",
      "5 train =  0.856 , test =  0.7602\n",
      "Accuracy score\n",
      "5 train =  0.856 , test =  0.7602\n",
      "======================================================================================================\n",
      "Accuracy score\n",
      "6 train =  0.8804 , test =  0.7236\n",
      "Accuracy score\n",
      "6 train =  0.8668 , test =  0.752\n",
      "Accuracy score\n",
      "6 train =  0.8668 , test =  0.7561\n",
      "Accuracy score\n",
      "6 train =  0.8668 , test =  0.752\n",
      "Accuracy score\n",
      "6 train =  0.8723 , test =  0.7764\n",
      "Accuracy score\n",
      "6 train =  0.8723 , test =  0.7724\n",
      "Accuracy score\n",
      "6 train =  0.8723 , test =  0.7602\n",
      "Accuracy score\n",
      "6 train =  0.8723 , test =  0.7602\n",
      "======================================================================================================\n",
      "Accuracy score\n",
      "7 train =  0.8995 , test =  0.7114\n",
      "Accuracy score\n",
      "7 train =  0.8804 , test =  0.7602\n",
      "Accuracy score\n",
      "7 train =  0.8804 , test =  0.752\n",
      "Accuracy score\n",
      "7 train =  0.8913 , test =  0.7195\n",
      "Accuracy score\n",
      "7 train =  0.8967 , test =  0.7195\n",
      "Accuracy score\n",
      "7 train =  0.8967 , test =  0.7236\n",
      "Accuracy score\n",
      "7 train =  0.8967 , test =  0.7195\n",
      "Accuracy score\n",
      "7 train =  0.8967 , test =  0.7195\n",
      "======================================================================================================\n",
      "Accuracy score\n",
      "8 train =  0.913 , test =  0.7154\n",
      "Accuracy score\n",
      "8 train =  0.9076 , test =  0.7114\n",
      "Accuracy score\n",
      "8 train =  0.9239 , test =  0.7073\n",
      "Accuracy score\n",
      "8 train =  0.9239 , test =  0.7033\n",
      "Accuracy score\n",
      "8 train =  0.9158 , test =  0.7358\n",
      "Accuracy score\n",
      "8 train =  0.913 , test =  0.7317\n",
      "Accuracy score\n",
      "8 train =  0.9158 , test =  0.7398\n",
      "Accuracy score\n",
      "8 train =  0.9185 , test =  0.7439\n",
      "======================================================================================================\n",
      "Accuracy score\n",
      "9 train =  0.9239 , test =  0.6829\n",
      "Accuracy score\n",
      "9 train =  0.9321 , test =  0.6789\n",
      "Accuracy score\n",
      "9 train =  0.9484 , test =  0.6911\n",
      "Accuracy score\n",
      "9 train =  0.9402 , test =  0.6707\n",
      "Accuracy score\n",
      "9 train =  0.9293 , test =  0.6911\n",
      "Accuracy score\n",
      "9 train =  0.9293 , test =  0.687\n",
      "Accuracy score\n",
      "9 train =  0.9293 , test =  0.7073\n",
      "Accuracy score\n",
      "9 train =  0.9293 , test =  0.7114\n",
      "======================================================================================================\n",
      "Accuracy score\n",
      "10 train =  0.9429 , test =  0.7073\n",
      "Accuracy score\n",
      "10 train =  0.9565 , test =  0.6789\n",
      "Accuracy score\n",
      "10 train =  0.9592 , test =  0.6423\n",
      "Accuracy score\n",
      "10 train =  0.9674 , test =  0.6707\n",
      "Accuracy score\n",
      "10 train =  0.9565 , test =  0.7033\n",
      "Accuracy score\n",
      "10 train =  0.9565 , test =  0.6992\n",
      "Accuracy score\n",
      "10 train =  0.9565 , test =  0.6951\n",
      "Accuracy score\n",
      "10 train =  0.9565 , test =  0.7114\n",
      "======================================================================================================\n"
     ]
    }
   ],
   "source": [
    "col1=[1,2,3,4,5,6,7,8,9,10]\n",
    "\n",
    "for d in col1:\n",
    "    for p in x_col:\n",
    "        x=train_1[p]\n",
    "        y=train_1[['Loan_Status']]\n",
    "        x_train, x_test, y_train, y_test=train_test_split(x,y, train_size=0.6, random_state=100)\n",
    "        dc=DecisionTreeClassifier(max_depth=d)\n",
    "        dc.fit(x_train, y_train)\n",
    "        print('Accuracy score')\n",
    "        print(d,'train = ', round(dc.score(x_train, y_train), 4), ', test = ', round(dc.score(x_test, y_test),4))\n",
    "    print('======================================================================================================')"
   ]
  },
  {
   "cell_type": "code",
   "execution_count": 354,
   "metadata": {},
   "outputs": [
    {
     "name": "stdout",
     "output_type": "stream",
     "text": [
      "train =  0.8127\n"
     ]
    }
   ],
   "source": [
    "x_train=train_1[col_2]\n",
    "y_train=train_1[['Loan_Status']]\n",
    "dc1=DecisionTreeClassifier(max_depth=2)\n",
    "dc1.fit(x_train, y_train)\n",
    "print('train = ', round(dc1.score(x_train, y_train), 4))"
   ]
  },
  {
   "cell_type": "code",
   "execution_count": 355,
   "metadata": {},
   "outputs": [],
   "source": [
    "x_test=test_1[col_2]\n",
    "submit_24=pd.DataFrame()\n",
    "submit_24['Loan_ID']=test['Loan_ID']\n",
    "submit_24['Loan_Status']=dc1.predict(x_test)\n",
    "\n",
    "submit_24['Loan_Status'].replace(1, 'Y', inplace=True)\n",
    "submit_24['Loan_Status'].replace(0, 'N', inplace=True)\n",
    "\n",
    "#submit_21.to_csv('submit_21.csv',index=False)"
   ]
  },
  {
   "cell_type": "code",
   "execution_count": 357,
   "metadata": {},
   "outputs": [
    {
     "data": {
      "text/plain": [
       "Y    302\n",
       "N     65\n",
       "Name: Loan_Status, dtype: int64"
      ]
     },
     "execution_count": 357,
     "metadata": {},
     "output_type": "execute_result"
    }
   ],
   "source": [
    "submit_24['Loan_Status'].value_counts()"
   ]
  },
  {
   "cell_type": "code",
   "execution_count": 358,
   "metadata": {},
   "outputs": [],
   "source": [
    "submit_24.to_csv('submit_24.csv',index=False)"
   ]
  },
  {
   "cell_type": "code",
   "execution_count": 301,
   "metadata": {},
   "outputs": [
    {
     "name": "stdout",
     "output_type": "stream",
     "text": [
      "Accuracy score\n",
      "1 train =  0.8152 , test =  0.7967\n",
      "Accuracy score\n",
      "1 train =  0.8152 , test =  0.7967\n",
      "Accuracy score\n",
      "1 train =  0.8043 , test =  0.7642\n",
      "Accuracy score\n",
      "1 train =  0.7011 , test =  0.6911\n",
      "Accuracy score\n",
      "1 train =  0.6929 , test =  0.6789\n",
      "Accuracy score\n",
      "1 train =  0.8016 , test =  0.7561\n",
      "Accuracy score\n",
      "1 train =  0.7337 , test =  0.6992\n",
      "Accuracy score\n",
      "1 train =  0.7147 , test =  0.6951\n",
      "=======================================================================================================\n",
      "Accuracy score\n",
      "2 train =  0.8152 , test =  0.7967\n",
      "Accuracy score\n",
      "2 train =  0.8152 , test =  0.7967\n",
      "Accuracy score\n",
      "2 train =  0.8152 , test =  0.7967\n",
      "Accuracy score\n",
      "2 train =  0.8152 , test =  0.7967\n",
      "Accuracy score\n",
      "2 train =  0.8152 , test =  0.7967\n",
      "Accuracy score\n",
      "2 train =  0.8152 , test =  0.7967\n",
      "Accuracy score\n",
      "2 train =  0.8152 , test =  0.7967\n",
      "Accuracy score\n",
      "2 train =  0.8152 , test =  0.7967\n",
      "=======================================================================================================\n",
      "Accuracy score\n",
      "3 train =  0.8179 , test =  0.7967\n",
      "Accuracy score\n",
      "3 train =  0.8179 , test =  0.7967\n",
      "Accuracy score\n",
      "3 train =  0.8179 , test =  0.7967\n",
      "Accuracy score\n",
      "3 train =  0.8152 , test =  0.7967\n",
      "Accuracy score\n",
      "3 train =  0.8152 , test =  0.7967\n",
      "Accuracy score\n",
      "3 train =  0.8152 , test =  0.7967\n",
      "Accuracy score\n",
      "3 train =  0.8152 , test =  0.7967\n",
      "Accuracy score\n",
      "3 train =  0.8152 , test =  0.7967\n",
      "=======================================================================================================\n",
      "Accuracy score\n",
      "4 train =  0.8234 , test =  0.7967\n",
      "Accuracy score\n",
      "4 train =  0.8261 , test =  0.7967\n",
      "Accuracy score\n",
      "4 train =  0.8234 , test =  0.7967\n",
      "Accuracy score\n",
      "4 train =  0.8234 , test =  0.7967\n",
      "Accuracy score\n",
      "4 train =  0.8234 , test =  0.7967\n",
      "Accuracy score\n",
      "4 train =  0.8261 , test =  0.7967\n",
      "Accuracy score\n",
      "4 train =  0.8207 , test =  0.7967\n",
      "Accuracy score\n",
      "4 train =  0.8207 , test =  0.7967\n",
      "=======================================================================================================\n",
      "Accuracy score\n",
      "5 train =  0.8424 , test =  0.7886\n",
      "Accuracy score\n",
      "5 train =  0.837 , test =  0.8008\n",
      "Accuracy score\n",
      "5 train =  0.8397 , test =  0.7967\n",
      "Accuracy score\n",
      "5 train =  0.837 , test =  0.7967\n",
      "Accuracy score\n",
      "5 train =  0.8397 , test =  0.7927\n",
      "Accuracy score\n",
      "5 train =  0.8397 , test =  0.7967\n",
      "Accuracy score\n",
      "5 train =  0.8315 , test =  0.7927\n",
      "Accuracy score\n",
      "5 train =  0.837 , test =  0.7927\n",
      "=======================================================================================================\n",
      "Accuracy score\n",
      "6 train =  0.8533 , test =  0.7886\n",
      "Accuracy score\n",
      "6 train =  0.8533 , test =  0.7886\n",
      "Accuracy score\n",
      "6 train =  0.8505 , test =  0.7927\n",
      "Accuracy score\n",
      "6 train =  0.8533 , test =  0.7927\n",
      "Accuracy score\n",
      "6 train =  0.856 , test =  0.7967\n",
      "Accuracy score\n",
      "6 train =  0.8614 , test =  0.7927\n",
      "Accuracy score\n",
      "6 train =  0.856 , test =  0.7967\n",
      "Accuracy score\n",
      "6 train =  0.8505 , test =  0.7927\n",
      "=======================================================================================================\n",
      "Accuracy score\n",
      "7 train =  0.894 , test =  0.7805\n",
      "Accuracy score\n",
      "7 train =  0.894 , test =  0.7764\n",
      "Accuracy score\n",
      "7 train =  0.8832 , test =  0.7846\n",
      "Accuracy score\n",
      "7 train =  0.8886 , test =  0.7886\n",
      "Accuracy score\n",
      "7 train =  0.8859 , test =  0.7927\n",
      "Accuracy score\n",
      "7 train =  0.8913 , test =  0.7927\n",
      "Accuracy score\n",
      "7 train =  0.8913 , test =  0.7927\n",
      "Accuracy score\n",
      "7 train =  0.8886 , test =  0.7886\n",
      "=======================================================================================================\n",
      "Accuracy score\n",
      "8 train =  0.9049 , test =  0.7764\n",
      "Accuracy score\n",
      "8 train =  0.913 , test =  0.7805\n",
      "Accuracy score\n",
      "8 train =  0.9103 , test =  0.7927\n",
      "Accuracy score\n",
      "8 train =  0.913 , test =  0.7846\n",
      "Accuracy score\n",
      "8 train =  0.9212 , test =  0.7886\n",
      "Accuracy score\n",
      "8 train =  0.9212 , test =  0.7886\n",
      "Accuracy score\n",
      "8 train =  0.9266 , test =  0.7886\n",
      "Accuracy score\n",
      "8 train =  0.9185 , test =  0.7927\n",
      "=======================================================================================================\n",
      "Accuracy score\n",
      "9 train =  0.9185 , test =  0.7846\n",
      "Accuracy score\n",
      "9 train =  0.9293 , test =  0.7846\n",
      "Accuracy score\n",
      "9 train =  0.9375 , test =  0.7927\n",
      "Accuracy score\n",
      "9 train =  0.9402 , test =  0.7846\n",
      "Accuracy score\n",
      "9 train =  0.9457 , test =  0.7886\n",
      "Accuracy score\n",
      "9 train =  0.9484 , test =  0.7886\n",
      "Accuracy score\n",
      "9 train =  0.9484 , test =  0.7886\n",
      "Accuracy score\n",
      "9 train =  0.9457 , test =  0.7886\n",
      "=======================================================================================================\n",
      "Accuracy score\n",
      "10 train =  0.9429 , test =  0.7805\n",
      "Accuracy score\n",
      "10 train =  0.9565 , test =  0.7846\n",
      "Accuracy score\n",
      "10 train =  0.9674 , test =  0.7927\n",
      "Accuracy score\n",
      "10 train =  0.9647 , test =  0.7805\n",
      "Accuracy score\n",
      "10 train =  0.9674 , test =  0.7886\n",
      "Accuracy score\n",
      "10 train =  0.9701 , test =  0.7846\n",
      "Accuracy score\n",
      "10 train =  0.9701 , test =  0.7764\n",
      "Accuracy score\n",
      "10 train =  0.9674 , test =  0.7805\n",
      "=======================================================================================================\n"
     ]
    }
   ],
   "source": [
    "col1=[1,2,3,4,5,6,7,8,9,10]\n",
    "\n",
    "for d in col1:\n",
    "    for p in x_col:\n",
    "        x=train_1[p]\n",
    "        y=train_1[['Loan_Status']]\n",
    "        x_train, x_test, y_train, y_test=train_test_split(x,y, train_size=0.6, random_state=100)\n",
    "        rc=RandomForestClassifier(n_estimators=1000, max_depth=d, random_state=100)\n",
    "        rc.fit(x_train, y_train)\n",
    "        print('Accuracy score')\n",
    "        print(d, 'train = ', round(rc.score(x_train, y_train), 4), ', test = ', round(rc.score(x_test, y_test),4))\n",
    "    print('=======================================================================================================')"
   ]
  },
  {
   "cell_type": "code",
   "execution_count": 359,
   "metadata": {},
   "outputs": [
    {
     "name": "stdout",
     "output_type": "stream",
     "text": [
      "train =  0.8208\n"
     ]
    }
   ],
   "source": [
    "x_train=train_1[col_2]\n",
    "y_train=train_1[['Loan_Status']]\n",
    "rc1=RandomForestClassifier(n_estimators=1000, max_depth=5, random_state=100)\n",
    "rc1.fit(x_train, y_train)\n",
    "print('train = ', round(rc1.score(x_train, y_train), 4))"
   ]
  },
  {
   "cell_type": "code",
   "execution_count": 364,
   "metadata": {},
   "outputs": [],
   "source": [
    "x_test=test_1[col_2]\n",
    "submit25=pd.DataFrame()\n",
    "submit25['Loan_ID']=test['Loan_ID']\n",
    "submit25['Loan_Status']=rc1.predict(x_test)"
   ]
  },
  {
   "cell_type": "code",
   "execution_count": 365,
   "metadata": {},
   "outputs": [
    {
     "data": {
      "text/plain": [
       "1    305\n",
       "0     62\n",
       "Name: Loan_Status, dtype: int64"
      ]
     },
     "execution_count": 365,
     "metadata": {},
     "output_type": "execute_result"
    }
   ],
   "source": [
    "submit25['Loan_Status'].value_counts()"
   ]
  },
  {
   "cell_type": "code",
   "execution_count": 367,
   "metadata": {},
   "outputs": [],
   "source": [
    "submit25['Loan_Status'].replace(1, 'Y', inplace=True)\n",
    "submit25['Loan_Status'].replace(0, 'N', inplace=True)"
   ]
  },
  {
   "cell_type": "code",
   "execution_count": 368,
   "metadata": {},
   "outputs": [],
   "source": [
    "submit25.to_csv('submit_25.csv',index=False)"
   ]
  },
  {
   "cell_type": "code",
   "execution_count": null,
   "metadata": {},
   "outputs": [],
   "source": []
  }
 ],
 "metadata": {
  "kernelspec": {
   "display_name": "Python 3",
   "language": "python",
   "name": "python3"
  },
  "language_info": {
   "codemirror_mode": {
    "name": "ipython",
    "version": 3
   },
   "file_extension": ".py",
   "mimetype": "text/x-python",
   "name": "python",
   "nbconvert_exporter": "python",
   "pygments_lexer": "ipython3",
   "version": "3.7.6"
  }
 },
 "nbformat": 4,
 "nbformat_minor": 4
}
