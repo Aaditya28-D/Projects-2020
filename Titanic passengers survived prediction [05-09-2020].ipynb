{
 "cells": [
  {
   "cell_type": "markdown",
   "metadata": {},
   "source": [
    "# Aaditya Deshmukh (Titanic passengers survived prediction)\n",
    "- IMS Proschool Pune.\n",
    "- LinkedIn ID- https://www.linkedin.com/in/aaditya-deshmukh-50174a1a3\n",
    "- Github URL - https://github.com/Aaditya28-D/Projects-2020"
   ]
  },
  {
   "cell_type": "markdown",
   "metadata": {},
   "source": [
    "## Data Description\n",
    "1. survived - Survival (0=No, 1=Yes)\n",
    "2. Pclass - Ticket class (1=1st, 2=2nd, 3=3rd)\n",
    "3. Sex - Gender\n",
    "4. Age - Age in years\n",
    "5. Sibsp - # of siblings / spouses aboard the Titanic\n",
    "6. Parch - # of parents / children aboard the Titanic\n",
    "7. Ticket - Ticket number\n",
    "8. Fare - Passenger fare\n",
    "9. Cabin - Cabin number\n",
    "10. embarked - Port of Embarkation (C = Cherbourg, Q = Queenstown, S =Southampton)"
   ]
  },
  {
   "cell_type": "markdown",
   "metadata": {},
   "source": [
    "## A) Exploratory Data Analysis & Data Cleaning\n",
    "1. Variable Identification\n",
    "2. Missing values treatment\n",
    "3. Univariate analysis\n",
    "4. Bivariate analysis\n",
    "5. Outlier treatment\n",
    "6. Variable transformation"
   ]
  },
  {
   "cell_type": "markdown",
   "metadata": {},
   "source": [
    "## B) Modelling\n",
    "1. Logistic Regression\n",
    "2. KNN Classifier\n",
    "3. DecisionTree Classifier\n",
    "4. RandomForest Classifier"
   ]
  },
  {
   "cell_type": "markdown",
   "metadata": {},
   "source": [
    "### Loading All required packages"
   ]
  },
  {
   "cell_type": "code",
   "execution_count": 1,
   "metadata": {},
   "outputs": [],
   "source": [
    "import pandas as pd\n",
    "import numpy as np\n",
    "import os as os\n",
    "\n",
    "import seaborn as sns\n",
    "import matplotlib.pyplot as plt\n",
    "from sklearn.tree import plot_tree\n",
    "\n",
    "from sklearn.model_selection import train_test_split\n",
    "\n",
    "from sklearn.linear_model import LogisticRegression \n",
    "from sklearn.neighbors import KNeighborsClassifier\n",
    "from sklearn.tree import DecisionTreeClassifier\n",
    "from sklearn.ensemble import RandomForestClassifier\n",
    "\n",
    "from sklearn.preprocessing import StandardScaler \n",
    "from sklearn.metrics import accuracy_score\n",
    "from sklearn.metrics import confusion_matrix\n",
    "import scipy.stats as stats\n",
    "from scipy.stats import chi2_contingency \n",
    "from sklearn.metrics import roc_curve\n",
    "from sklearn.metrics import roc_auc_score\n",
    "\n",
    "import warnings as warnings\n",
    "warnings.filterwarnings('ignore')\n",
    "\n",
    "%matplotlib inline"
   ]
  },
  {
   "cell_type": "code",
   "execution_count": 125,
   "metadata": {},
   "outputs": [],
   "source": [
    "# loading dataset\n",
    "data=pd.read_csv(r'C:\\Users\\Aaditya Deshmukh\\Desktop\\IMS\\1. PGD Data Science\\1. Bussiness Analytics\\Final Project  A\\train.csv')"
   ]
  },
  {
   "cell_type": "markdown",
   "metadata": {},
   "source": [
    "### A) Exploratory Data Analysis & Data Cleaning\n",
    "### 1) Variable Identification"
   ]
  },
  {
   "cell_type": "code",
   "execution_count": 143,
   "metadata": {},
   "outputs": [
    {
     "data": {
      "text/html": [
       "<div>\n",
       "<style scoped>\n",
       "    .dataframe tbody tr th:only-of-type {\n",
       "        vertical-align: middle;\n",
       "    }\n",
       "\n",
       "    .dataframe tbody tr th {\n",
       "        vertical-align: top;\n",
       "    }\n",
       "\n",
       "    .dataframe thead th {\n",
       "        text-align: right;\n",
       "    }\n",
       "</style>\n",
       "<table border=\"1\" class=\"dataframe\">\n",
       "  <thead>\n",
       "    <tr style=\"text-align: right;\">\n",
       "      <th></th>\n",
       "      <th>PassengerId</th>\n",
       "      <th>Survived</th>\n",
       "      <th>Pclass</th>\n",
       "      <th>Name</th>\n",
       "      <th>Sex</th>\n",
       "      <th>Age</th>\n",
       "      <th>SibSp</th>\n",
       "      <th>Parch</th>\n",
       "      <th>Ticket</th>\n",
       "      <th>Fare</th>\n",
       "      <th>Cabin</th>\n",
       "      <th>Embarked</th>\n",
       "    </tr>\n",
       "  </thead>\n",
       "  <tbody>\n",
       "    <tr>\n",
       "      <th>0</th>\n",
       "      <td>1</td>\n",
       "      <td>0</td>\n",
       "      <td>3</td>\n",
       "      <td>Braund, Mr. Owen Harris</td>\n",
       "      <td>male</td>\n",
       "      <td>22.0</td>\n",
       "      <td>1</td>\n",
       "      <td>0</td>\n",
       "      <td>A/5 21171</td>\n",
       "      <td>7.2500</td>\n",
       "      <td>NaN</td>\n",
       "      <td>S</td>\n",
       "    </tr>\n",
       "    <tr>\n",
       "      <th>1</th>\n",
       "      <td>2</td>\n",
       "      <td>1</td>\n",
       "      <td>1</td>\n",
       "      <td>Cumings, Mrs. John Bradley (Florence Briggs Th...</td>\n",
       "      <td>female</td>\n",
       "      <td>38.0</td>\n",
       "      <td>1</td>\n",
       "      <td>0</td>\n",
       "      <td>PC 17599</td>\n",
       "      <td>71.2833</td>\n",
       "      <td>C85</td>\n",
       "      <td>C</td>\n",
       "    </tr>\n",
       "    <tr>\n",
       "      <th>2</th>\n",
       "      <td>3</td>\n",
       "      <td>1</td>\n",
       "      <td>3</td>\n",
       "      <td>Heikkinen, Miss. Laina</td>\n",
       "      <td>female</td>\n",
       "      <td>26.0</td>\n",
       "      <td>0</td>\n",
       "      <td>0</td>\n",
       "      <td>STON/O2. 3101282</td>\n",
       "      <td>7.9250</td>\n",
       "      <td>NaN</td>\n",
       "      <td>S</td>\n",
       "    </tr>\n",
       "    <tr>\n",
       "      <th>3</th>\n",
       "      <td>4</td>\n",
       "      <td>1</td>\n",
       "      <td>1</td>\n",
       "      <td>Futrelle, Mrs. Jacques Heath (Lily May Peel)</td>\n",
       "      <td>female</td>\n",
       "      <td>35.0</td>\n",
       "      <td>1</td>\n",
       "      <td>0</td>\n",
       "      <td>113803</td>\n",
       "      <td>53.1000</td>\n",
       "      <td>C123</td>\n",
       "      <td>S</td>\n",
       "    </tr>\n",
       "    <tr>\n",
       "      <th>4</th>\n",
       "      <td>5</td>\n",
       "      <td>0</td>\n",
       "      <td>3</td>\n",
       "      <td>Allen, Mr. William Henry</td>\n",
       "      <td>male</td>\n",
       "      <td>35.0</td>\n",
       "      <td>0</td>\n",
       "      <td>0</td>\n",
       "      <td>373450</td>\n",
       "      <td>8.0500</td>\n",
       "      <td>NaN</td>\n",
       "      <td>S</td>\n",
       "    </tr>\n",
       "  </tbody>\n",
       "</table>\n",
       "</div>"
      ],
      "text/plain": [
       "   PassengerId  Survived  Pclass  \\\n",
       "0            1         0       3   \n",
       "1            2         1       1   \n",
       "2            3         1       3   \n",
       "3            4         1       1   \n",
       "4            5         0       3   \n",
       "\n",
       "                                                Name     Sex   Age  SibSp  \\\n",
       "0                            Braund, Mr. Owen Harris    male  22.0      1   \n",
       "1  Cumings, Mrs. John Bradley (Florence Briggs Th...  female  38.0      1   \n",
       "2                             Heikkinen, Miss. Laina  female  26.0      0   \n",
       "3       Futrelle, Mrs. Jacques Heath (Lily May Peel)  female  35.0      1   \n",
       "4                           Allen, Mr. William Henry    male  35.0      0   \n",
       "\n",
       "   Parch            Ticket     Fare Cabin Embarked  \n",
       "0      0         A/5 21171   7.2500   NaN        S  \n",
       "1      0          PC 17599  71.2833   C85        C  \n",
       "2      0  STON/O2. 3101282   7.9250   NaN        S  \n",
       "3      0            113803  53.1000  C123        S  \n",
       "4      0            373450   8.0500   NaN        S  "
      ]
     },
     "execution_count": 143,
     "metadata": {},
     "output_type": "execute_result"
    }
   ],
   "source": [
    "data.head(5)"
   ]
  },
  {
   "cell_type": "code",
   "execution_count": 104,
   "metadata": {},
   "outputs": [
    {
     "name": "stdout",
     "output_type": "stream",
     "text": [
      "<class 'pandas.core.frame.DataFrame'>\n",
      "RangeIndex: 891 entries, 0 to 890\n",
      "Data columns (total 12 columns):\n",
      " #   Column       Non-Null Count  Dtype  \n",
      "---  ------       --------------  -----  \n",
      " 0   PassengerId  891 non-null    int64  \n",
      " 1   Survived     891 non-null    int64  \n",
      " 2   Pclass       891 non-null    int64  \n",
      " 3   Name         891 non-null    object \n",
      " 4   Sex          891 non-null    object \n",
      " 5   Age          714 non-null    float64\n",
      " 6   SibSp        891 non-null    int64  \n",
      " 7   Parch        891 non-null    int64  \n",
      " 8   Ticket       891 non-null    object \n",
      " 9   Fare         891 non-null    float64\n",
      " 10  Cabin        204 non-null    object \n",
      " 11  Embarked     889 non-null    object \n",
      "dtypes: float64(2), int64(5), object(5)\n",
      "memory usage: 83.7+ KB\n"
     ]
    }
   ],
   "source": [
    "#check for data type\n",
    "data.info()"
   ]
  },
  {
   "cell_type": "code",
   "execution_count": 105,
   "metadata": {},
   "outputs": [
    {
     "data": {
      "text/plain": [
       "PassengerId    891\n",
       "Survived         2\n",
       "Pclass           3\n",
       "Name           891\n",
       "Sex              2\n",
       "Age             88\n",
       "SibSp            7\n",
       "Parch            7\n",
       "Ticket         681\n",
       "Fare           248\n",
       "Cabin          147\n",
       "Embarked         3\n",
       "dtype: int64"
      ]
     },
     "execution_count": 105,
     "metadata": {},
     "output_type": "execute_result"
    }
   ],
   "source": [
    "#getting number of unique values in columns\n",
    "data.nunique()"
   ]
  },
  {
   "cell_type": "code",
   "execution_count": 106,
   "metadata": {},
   "outputs": [],
   "source": [
    "data_1=data.copy()"
   ]
  },
  {
   "cell_type": "code",
   "execution_count": 107,
   "metadata": {},
   "outputs": [],
   "source": [
    "#dropping 'PassengerId' column \n",
    "data_1.drop(['PassengerId'], inplace=True,axis=1)"
   ]
  },
  {
   "cell_type": "code",
   "execution_count": 108,
   "metadata": {},
   "outputs": [],
   "source": [
    "#correcting the data type of few columns\n",
    "data_1['Survived']=data_1['Survived'].astype('object')\n",
    "data_1['Pclass']=data_1['Pclass'].astype('object')\n",
    "data_1['SibSp']=data_1['SibSp'].astype('object')\n",
    "data_1['Parch']=data_1['Parch'].astype('object')"
   ]
  },
  {
   "cell_type": "code",
   "execution_count": 109,
   "metadata": {},
   "outputs": [
    {
     "name": "stdout",
     "output_type": "stream",
     "text": [
      "<class 'pandas.core.frame.DataFrame'>\n",
      "RangeIndex: 891 entries, 0 to 890\n",
      "Data columns (total 11 columns):\n",
      " #   Column    Non-Null Count  Dtype  \n",
      "---  ------    --------------  -----  \n",
      " 0   Survived  891 non-null    object \n",
      " 1   Pclass    891 non-null    object \n",
      " 2   Name      891 non-null    object \n",
      " 3   Sex       891 non-null    object \n",
      " 4   Age       714 non-null    float64\n",
      " 5   SibSp     891 non-null    object \n",
      " 6   Parch     891 non-null    object \n",
      " 7   Ticket    891 non-null    object \n",
      " 8   Fare      891 non-null    float64\n",
      " 9   Cabin     204 non-null    object \n",
      " 10  Embarked  889 non-null    object \n",
      "dtypes: float64(2), object(9)\n",
      "memory usage: 76.7+ KB\n"
     ]
    }
   ],
   "source": [
    "data_1.info()"
   ]
  },
  {
   "cell_type": "markdown",
   "metadata": {},
   "source": [
    "### 2) Missing values treatment"
   ]
  },
  {
   "cell_type": "code",
   "execution_count": 110,
   "metadata": {},
   "outputs": [
    {
     "data": {
      "text/plain": [
       "Survived      0\n",
       "Pclass        0\n",
       "Name          0\n",
       "Sex           0\n",
       "Age         177\n",
       "SibSp         0\n",
       "Parch         0\n",
       "Ticket        0\n",
       "Fare          0\n",
       "Cabin       687\n",
       "Embarked      2\n",
       "dtype: int64"
      ]
     },
     "execution_count": 110,
     "metadata": {},
     "output_type": "execute_result"
    }
   ],
   "source": [
    "# (Age, Cabin, Embarked) columns contain null values\n",
    "data_1.isnull().sum()"
   ]
  },
  {
   "cell_type": "code",
   "execution_count": 14,
   "metadata": {},
   "outputs": [
    {
     "data": {
      "image/png": "[encoded data removed]",
      "text/plain": [
       "<Figure size 432x288 with 1 Axes>"
      ]
     },
     "metadata": {
      "needs_background": "light"
     },
     "output_type": "display_data"
    },
    {
     "data": {
      "image/png": "[encoded data removed]",
      "text/plain": [
       "<Figure size 432x288 with 1 Axes>"
      ]
     },
     "metadata": {
      "needs_background": "light"
     },
     "output_type": "display_data"
    },
    {
     "data": {
      "image/png": "[encoded data removed]",
      "text/plain": [
       "<Figure size 432x288 with 1 Axes>"
      ]
     },
     "metadata": {
      "needs_background": "light"
     },
     "output_type": "display_data"
    },
    {
     "data": {
      "image/png": "[encoded data removed]",
      "text/plain": [
       "<Figure size 432x288 with 1 Axes>"
      ]
     },
     "metadata": {
      "needs_background": "light"
     },
     "output_type": "display_data"
    },
    {
     "data": {
      "image/png": "[encoded data removed]",
      "text/plain": [
       "<Figure size 432x288 with 1 Axes>"
      ]
     },
     "metadata": {
      "needs_background": "light"
     },
     "output_type": "display_data"
    },
    {
     "data": {
      "image/png": "[encoded data removed]",
      "text/plain": [
       "<Figure size 432x288 with 1 Axes>"
      ]
     },
     "metadata": {
      "needs_background": "light"
     },
     "output_type": "display_data"
    }
   ],
   "source": [
    "# getting the catagorical column which have variation of mean Age with respect to its distinct observations\n",
    "col=['Pclass', 'Sex', 'Embarked', 'SibSp', 'Parch', 'Survived']\n",
    "\n",
    "for i in col:\n",
    "    sns.boxplot(x=data_1[i], y=data_1['Age'], showmeans=True)\n",
    "    plt.show()"
   ]
  },
  {
   "cell_type": "code",
   "execution_count": 15,
   "metadata": {},
   "outputs": [],
   "source": [
    "#in above barplots we can see that Parch vs Age barplot have good variation of mean Age with respect to Parch distinct observations\n",
    "# so we will fill the null values of Age with the mean value of Age obtained with respect of Parch distinct observations"
   ]
  },
  {
   "cell_type": "code",
   "execution_count": 16,
   "metadata": {},
   "outputs": [
    {
     "data": {
      "text/html": [
       "<div>\n",
       "<style scoped>\n",
       "    .dataframe tbody tr th:only-of-type {\n",
       "        vertical-align: middle;\n",
       "    }\n",
       "\n",
       "    .dataframe tbody tr th {\n",
       "        vertical-align: top;\n",
       "    }\n",
       "\n",
       "    .dataframe thead th {\n",
       "        text-align: right;\n",
       "    }\n",
       "</style>\n",
       "<table border=\"1\" class=\"dataframe\">\n",
       "  <thead>\n",
       "    <tr style=\"text-align: right;\">\n",
       "      <th>Age</th>\n",
       "      <th>False</th>\n",
       "      <th>True</th>\n",
       "    </tr>\n",
       "    <tr>\n",
       "      <th>Parch</th>\n",
       "      <th></th>\n",
       "      <th></th>\n",
       "    </tr>\n",
       "  </thead>\n",
       "  <tbody>\n",
       "    <tr>\n",
       "      <th>0</th>\n",
       "      <td>521</td>\n",
       "      <td>157</td>\n",
       "    </tr>\n",
       "    <tr>\n",
       "      <th>1</th>\n",
       "      <td>110</td>\n",
       "      <td>8</td>\n",
       "    </tr>\n",
       "    <tr>\n",
       "      <th>2</th>\n",
       "      <td>68</td>\n",
       "      <td>12</td>\n",
       "    </tr>\n",
       "    <tr>\n",
       "      <th>3</th>\n",
       "      <td>5</td>\n",
       "      <td>0</td>\n",
       "    </tr>\n",
       "    <tr>\n",
       "      <th>4</th>\n",
       "      <td>4</td>\n",
       "      <td>0</td>\n",
       "    </tr>\n",
       "    <tr>\n",
       "      <th>5</th>\n",
       "      <td>5</td>\n",
       "      <td>0</td>\n",
       "    </tr>\n",
       "    <tr>\n",
       "      <th>6</th>\n",
       "      <td>1</td>\n",
       "      <td>0</td>\n",
       "    </tr>\n",
       "  </tbody>\n",
       "</table>\n",
       "</div>"
      ],
      "text/plain": [
       "Age    False  True \n",
       "Parch              \n",
       "0        521    157\n",
       "1        110      8\n",
       "2         68     12\n",
       "3          5      0\n",
       "4          4      0\n",
       "5          5      0\n",
       "6          1      0"
      ]
     },
     "execution_count": 16,
     "metadata": {},
     "output_type": "execute_result"
    }
   ],
   "source": [
    "#getting the number of nullvalues in Age columns  with respect of Parch distinct observations\n",
    "pd.crosstab(data_1['Parch'], data_1['Age'].isnull())"
   ]
  },
  {
   "cell_type": "code",
   "execution_count": 17,
   "metadata": {},
   "outputs": [],
   "source": [
    "#filling the null values of Age with the mean value of Age obtained with respect of Parch distinct observations\n",
    "data_1['Age']=data_1['Age'].fillna(data_1['Age'].groupby(data_1['Parch']).transform('mean'))"
   ]
  },
  {
   "cell_type": "code",
   "execution_count": 18,
   "metadata": {},
   "outputs": [],
   "source": [
    "# out of 891 values 687 are null in the Cabin column, As most of the values are null its better to drop Cabin column\n",
    "data_1.drop(['Cabin'], axis=1, inplace=True)"
   ]
  },
  {
   "cell_type": "code",
   "execution_count": 19,
   "metadata": {},
   "outputs": [
    {
     "data": {
      "text/plain": [
       "S    644\n",
       "C    168\n",
       "Q     77\n",
       "Name: Embarked, dtype: int64"
      ]
     },
     "execution_count": 19,
     "metadata": {},
     "output_type": "execute_result"
    }
   ],
   "source": [
    "data_1['Embarked'].value_counts()"
   ]
  },
  {
   "cell_type": "code",
   "execution_count": 20,
   "metadata": {},
   "outputs": [],
   "source": [
    "# filling null values in Embarked column with Mode value\n",
    "data_1['Embarked'].fillna('S', inplace=True)"
   ]
  },
  {
   "cell_type": "code",
   "execution_count": 21,
   "metadata": {},
   "outputs": [
    {
     "data": {
      "text/plain": [
       "Survived    0\n",
       "Pclass      0\n",
       "Name        0\n",
       "Sex         0\n",
       "Age         0\n",
       "SibSp       0\n",
       "Parch       0\n",
       "Ticket      0\n",
       "Fare        0\n",
       "Embarked    0\n",
       "dtype: int64"
      ]
     },
     "execution_count": 21,
     "metadata": {},
     "output_type": "execute_result"
    }
   ],
   "source": [
    "#all the null values filled\n",
    "data_1.isnull().sum()"
   ]
  },
  {
   "cell_type": "code",
   "execution_count": 22,
   "metadata": {},
   "outputs": [],
   "source": [
    "#rearranging columns \n",
    "data_1=data_1[['Pclass','Name','Sex','Age','Fare','Embarked','Ticket','SibSp','Parch','Survived']]"
   ]
  },
  {
   "cell_type": "code",
   "execution_count": 23,
   "metadata": {},
   "outputs": [],
   "source": [
    "# sorting data according to Pclass in ascending order\n",
    "data_1.sort_values(['Pclass'], inplace =True)"
   ]
  },
  {
   "cell_type": "code",
   "execution_count": 24,
   "metadata": {},
   "outputs": [
    {
     "data": {
      "text/html": [
       "<div>\n",
       "<style scoped>\n",
       "    .dataframe tbody tr th:only-of-type {\n",
       "        vertical-align: middle;\n",
       "    }\n",
       "\n",
       "    .dataframe tbody tr th {\n",
       "        vertical-align: top;\n",
       "    }\n",
       "\n",
       "    .dataframe thead th {\n",
       "        text-align: right;\n",
       "    }\n",
       "</style>\n",
       "<table border=\"1\" class=\"dataframe\">\n",
       "  <thead>\n",
       "    <tr style=\"text-align: right;\">\n",
       "      <th></th>\n",
       "      <th>Pclass</th>\n",
       "      <th>Name</th>\n",
       "      <th>Sex</th>\n",
       "      <th>Age</th>\n",
       "      <th>Fare</th>\n",
       "      <th>Embarked</th>\n",
       "      <th>Ticket</th>\n",
       "      <th>SibSp</th>\n",
       "      <th>Parch</th>\n",
       "      <th>Survived</th>\n",
       "    </tr>\n",
       "  </thead>\n",
       "  <tbody>\n",
       "    <tr>\n",
       "      <th>445</th>\n",
       "      <td>1</td>\n",
       "      <td>Dodge, Master. Washington</td>\n",
       "      <td>male</td>\n",
       "      <td>4.000000</td>\n",
       "      <td>81.8583</td>\n",
       "      <td>S</td>\n",
       "      <td>33638</td>\n",
       "      <td>0</td>\n",
       "      <td>2</td>\n",
       "      <td>1</td>\n",
       "    </tr>\n",
       "    <tr>\n",
       "      <th>310</th>\n",
       "      <td>1</td>\n",
       "      <td>Hays, Miss. Margaret Bechstein</td>\n",
       "      <td>female</td>\n",
       "      <td>24.000000</td>\n",
       "      <td>83.1583</td>\n",
       "      <td>C</td>\n",
       "      <td>11767</td>\n",
       "      <td>0</td>\n",
       "      <td>0</td>\n",
       "      <td>1</td>\n",
       "    </tr>\n",
       "    <tr>\n",
       "      <th>309</th>\n",
       "      <td>1</td>\n",
       "      <td>Francatelli, Miss. Laura Mabel</td>\n",
       "      <td>female</td>\n",
       "      <td>30.000000</td>\n",
       "      <td>56.9292</td>\n",
       "      <td>C</td>\n",
       "      <td>PC 17485</td>\n",
       "      <td>0</td>\n",
       "      <td>0</td>\n",
       "      <td>1</td>\n",
       "    </tr>\n",
       "    <tr>\n",
       "      <th>307</th>\n",
       "      <td>1</td>\n",
       "      <td>Penasco y Castellana, Mrs. Victor de Satode (M...</td>\n",
       "      <td>female</td>\n",
       "      <td>17.000000</td>\n",
       "      <td>108.9000</td>\n",
       "      <td>C</td>\n",
       "      <td>PC 17758</td>\n",
       "      <td>1</td>\n",
       "      <td>0</td>\n",
       "      <td>1</td>\n",
       "    </tr>\n",
       "    <tr>\n",
       "      <th>306</th>\n",
       "      <td>1</td>\n",
       "      <td>Fleming, Miss. Margaret</td>\n",
       "      <td>female</td>\n",
       "      <td>32.178503</td>\n",
       "      <td>110.8833</td>\n",
       "      <td>C</td>\n",
       "      <td>17421</td>\n",
       "      <td>0</td>\n",
       "      <td>0</td>\n",
       "      <td>1</td>\n",
       "    </tr>\n",
       "    <tr>\n",
       "      <th>305</th>\n",
       "      <td>1</td>\n",
       "      <td>Allison, Master. Hudson Trevor</td>\n",
       "      <td>male</td>\n",
       "      <td>0.920000</td>\n",
       "      <td>151.5500</td>\n",
       "      <td>S</td>\n",
       "      <td>113781</td>\n",
       "      <td>1</td>\n",
       "      <td>2</td>\n",
       "      <td>1</td>\n",
       "    </tr>\n",
       "    <tr>\n",
       "      <th>710</th>\n",
       "      <td>1</td>\n",
       "      <td>Mayne, Mlle. Berthe Antonine (\"Mrs de Villiers\")</td>\n",
       "      <td>female</td>\n",
       "      <td>24.000000</td>\n",
       "      <td>49.5042</td>\n",
       "      <td>C</td>\n",
       "      <td>PC 17482</td>\n",
       "      <td>0</td>\n",
       "      <td>0</td>\n",
       "      <td>1</td>\n",
       "    </tr>\n",
       "    <tr>\n",
       "      <th>711</th>\n",
       "      <td>1</td>\n",
       "      <td>Klaber, Mr. Herman</td>\n",
       "      <td>male</td>\n",
       "      <td>32.178503</td>\n",
       "      <td>26.5500</td>\n",
       "      <td>S</td>\n",
       "      <td>113028</td>\n",
       "      <td>0</td>\n",
       "      <td>0</td>\n",
       "      <td>0</td>\n",
       "    </tr>\n",
       "    <tr>\n",
       "      <th>311</th>\n",
       "      <td>1</td>\n",
       "      <td>Ryerson, Miss. Emily Borie</td>\n",
       "      <td>female</td>\n",
       "      <td>18.000000</td>\n",
       "      <td>262.3750</td>\n",
       "      <td>C</td>\n",
       "      <td>PC 17608</td>\n",
       "      <td>2</td>\n",
       "      <td>2</td>\n",
       "      <td>1</td>\n",
       "    </tr>\n",
       "    <tr>\n",
       "      <th>712</th>\n",
       "      <td>1</td>\n",
       "      <td>Taylor, Mr. Elmer Zebley</td>\n",
       "      <td>male</td>\n",
       "      <td>48.000000</td>\n",
       "      <td>52.0000</td>\n",
       "      <td>S</td>\n",
       "      <td>19996</td>\n",
       "      <td>1</td>\n",
       "      <td>0</td>\n",
       "      <td>1</td>\n",
       "    </tr>\n",
       "  </tbody>\n",
       "</table>\n",
       "</div>"
      ],
      "text/plain": [
       "    Pclass                                               Name     Sex  \\\n",
       "445      1                          Dodge, Master. Washington    male   \n",
       "310      1                     Hays, Miss. Margaret Bechstein  female   \n",
       "309      1                     Francatelli, Miss. Laura Mabel  female   \n",
       "307      1  Penasco y Castellana, Mrs. Victor de Satode (M...  female   \n",
       "306      1                            Fleming, Miss. Margaret  female   \n",
       "305      1                     Allison, Master. Hudson Trevor    male   \n",
       "710      1   Mayne, Mlle. Berthe Antonine (\"Mrs de Villiers\")  female   \n",
       "711      1                                 Klaber, Mr. Herman    male   \n",
       "311      1                         Ryerson, Miss. Emily Borie  female   \n",
       "712      1                           Taylor, Mr. Elmer Zebley    male   \n",
       "\n",
       "           Age      Fare Embarked    Ticket SibSp Parch Survived  \n",
       "445   4.000000   81.8583        S     33638     0     2        1  \n",
       "310  24.000000   83.1583        C     11767     0     0        1  \n",
       "309  30.000000   56.9292        C  PC 17485     0     0        1  \n",
       "307  17.000000  108.9000        C  PC 17758     1     0        1  \n",
       "306  32.178503  110.8833        C     17421     0     0        1  \n",
       "305   0.920000  151.5500        S    113781     1     2        1  \n",
       "710  24.000000   49.5042        C  PC 17482     0     0        1  \n",
       "711  32.178503   26.5500        S    113028     0     0        0  \n",
       "311  18.000000  262.3750        C  PC 17608     2     2        1  \n",
       "712  48.000000   52.0000        S     19996     1     0        1  "
      ]
     },
     "execution_count": 24,
     "metadata": {},
     "output_type": "execute_result"
    }
   ],
   "source": [
    "data_1.head(10)"
   ]
  },
  {
   "cell_type": "markdown",
   "metadata": {},
   "source": [
    "### 3) Univariate analysis"
   ]
  },
  {
   "cell_type": "code",
   "execution_count": 25,
   "metadata": {},
   "outputs": [
    {
     "data": {
      "image/png": "[encoded data removed]",
      "text/plain": [
       "<Figure size 432x288 with 1 Axes>"
      ]
     },
     "metadata": {
      "needs_background": "light"
     },
     "output_type": "display_data"
    },
    {
     "data": {
      "image/png": "[encoded data removed]",
      "text/plain": [
       "<Figure size 432x288 with 1 Axes>"
      ]
     },
     "metadata": {
      "needs_background": "light"
     },
     "output_type": "display_data"
    },
    {
     "data": {
      "image/png": "[encoded data removed]",
      "text/plain": [
       "<Figure size 432x288 with 1 Axes>"
      ]
     },
     "metadata": {
      "needs_background": "light"
     },
     "output_type": "display_data"
    }
   ],
   "source": [
    "# univariate analysis of columns containging categorical data \n",
    "list_1=['Pclass', 'Sex', 'Embarked']\n",
    "\n",
    "for i in list_1:\n",
    "    data_1[i].value_counts().sort_index().plot(kind='bar')\n",
    "    plt.xlabel(i)\n",
    "    plt.show()"
   ]
  },
  {
   "cell_type": "code",
   "execution_count": 26,
   "metadata": {},
   "outputs": [
    {
     "data": {
      "image/png": "[encoded data removed]",
      "text/plain": [
       "<Figure size 1080x360 with 2 Axes>"
      ]
     },
     "metadata": {
      "needs_background": "light"
     },
     "output_type": "display_data"
    },
    {
     "data": {
      "image/png": "[encoded data removed]",
      "text/plain": [
       "<Figure size 1080x360 with 2 Axes>"
      ]
     },
     "metadata": {
      "needs_background": "light"
     },
     "output_type": "display_data"
    }
   ],
   "source": [
    "# univariate analysis of columns containging continuous data\n",
    "list_2=['Age', 'Fare']\n",
    "\n",
    "for x in list_2:\n",
    "    fig, axes=plt.subplots(1,2,figsize=(15,5))\n",
    "    sns.distplot(data_1[x], ax=axes[0], kde=True)\n",
    "    sns.boxplot(data_1[x], ax=axes[1], showmeans=True,color='yellow')\n",
    "    fig.suptitle(x)"
   ]
  },
  {
   "cell_type": "markdown",
   "metadata": {},
   "source": [
    "### 4) Bivariate analysis"
   ]
  },
  {
   "cell_type": "code",
   "execution_count": 27,
   "metadata": {},
   "outputs": [
    {
     "name": "stdout",
     "output_type": "stream",
     "text": [
      "Pclass = 4.549251711298793e-23\n",
      "Sex = 1.1973570627755645e-58\n",
      "Embarked = 2.3008626481449577e-06\n"
     ]
    }
   ],
   "source": [
    "#Bivariate analysis (categorical data Vs categorical data (Survived))\n",
    "# Chi-Squared test\n",
    "# result show only those categorical columns which have significant relation with Survived column with pvalue\n",
    "list_3=['Pclass', 'Sex', 'Embarked', 'SibSp', 'Parch']\n",
    "\n",
    "for x in list_3:\n",
    "    table=pd.pivot_table(data_1, columns='Survived', index=x, aggfunc='count', values='Fare')\n",
    "    stat, p, dof, expected = chi2_contingency(table)\n",
    "    if p<0.05:\n",
    "        print(x+' =', p)"
   ]
  },
  {
   "cell_type": "code",
   "execution_count": 28,
   "metadata": {},
   "outputs": [
    {
     "data": {
      "image/png": "[encoded data removed]",
      "text/plain": [
       "<Figure size 576x360 with 1 Axes>"
      ]
     },
     "metadata": {
      "needs_background": "light"
     },
     "output_type": "display_data"
    },
    {
     "data": {
      "image/png": "[encoded data removed]",
      "text/plain": [
       "<Figure size 576x360 with 1 Axes>"
      ]
     },
     "metadata": {
      "needs_background": "light"
     },
     "output_type": "display_data"
    },
    {
     "data": {
      "image/png": "[encoded data removed]",
      "text/plain": [
       "<Figure size 576x360 with 1 Axes>"
      ]
     },
     "metadata": {
      "needs_background": "light"
     },
     "output_type": "display_data"
    }
   ],
   "source": [
    "#Bivariate analysis Visualization (categorical data Vs categorical data (Survived))\n",
    "#Stacked bar chart\n",
    "list_4=['Pclass', 'Sex', 'Embarked']\n",
    "\n",
    "for x in list_4:\n",
    "    table=pd.pivot_table(data_1, columns='Survived', index=x, aggfunc='count', values='Fare')\n",
    "    table.loc[:,[1,0]].plot.bar(stacked=True, figsize=(8,5))"
   ]
  },
  {
   "cell_type": "code",
   "execution_count": 29,
   "metadata": {},
   "outputs": [
    {
     "name": "stdout",
     "output_type": "stream",
     "text": [
      "Age  = 0.04289140539169673\n",
      "Fare  = 6.120189341921873e-15\n"
     ]
    }
   ],
   "source": [
    "#Bivariate analysis (continuous data Vs categorical data (Survived))\n",
    "# Anova test\n",
    "# result show only those continuous columns which have significant relation with Survived column with pvalue\n",
    "list_5=['Age', 'Fare']\n",
    "\n",
    "for x in list_5:\n",
    "    fvalue, pvalue=stats.f_oneway(data_1[data_1['Survived']==0][x], data_1[data_1['Survived']==1][x])\n",
    "    if pvalue<0.05:\n",
    "        print(x,' =', pvalue)"
   ]
  },
  {
   "cell_type": "code",
   "execution_count": 30,
   "metadata": {},
   "outputs": [
    {
     "data": {
      "image/png": "[encoded data removed]",
      "text/plain": [
       "<Figure size 1080x360 with 2 Axes>"
      ]
     },
     "metadata": {
      "needs_background": "light"
     },
     "output_type": "display_data"
    },
    {
     "data": {
      "image/png": "[encoded data removed]",
      "text/plain": [
       "<Figure size 1080x360 with 2 Axes>"
      ]
     },
     "metadata": {
      "needs_background": "light"
     },
     "output_type": "display_data"
    }
   ],
   "source": [
    "#Bivariate analysis Visualization (continuous data Vs categorical data (Survived))\n",
    "#histogram ,boxplot\n",
    "list_6=['Age', 'Fare']\n",
    "\n",
    "for x in list_6:\n",
    "    fig, axes=plt.subplots(1,2,figsize=(15,5))\n",
    "    sns.distplot(data_1[data_1['Survived']==0][x], ax=axes[0])\n",
    "    sns.distplot(data_1[data_1['Survived']==1][x], ax=axes[0])\n",
    "    sns.boxplot(y=data_1[x], x=data_1['Survived'], ax=axes[1], showmeans=True)\n",
    "    fig.suptitle(x + ' Vs Survived')"
   ]
  },
  {
   "cell_type": "markdown",
   "metadata": {},
   "source": [
    "### 5) Outlier treatment"
   ]
  },
  {
   "cell_type": "code",
   "execution_count": 31,
   "metadata": {},
   "outputs": [
    {
     "data": {
      "text/plain": [
       "<matplotlib.axes._subplots.AxesSubplot at 0x2901e6c19c8>"
      ]
     },
     "execution_count": 31,
     "metadata": {},
     "output_type": "execute_result"
    },
    {
     "data": {
      "image/png": "[encoded data removed]",
      "text/plain": [
       "<Figure size 432x288 with 1 Axes>"
      ]
     },
     "metadata": {
      "needs_background": "light"
     },
     "output_type": "display_data"
    }
   ],
   "source": [
    "#In univariate analysis and bivariate analysis we can see that both 'Age and Fare'  contain outlier values its important to remove the outliers\n",
    "sns.scatterplot(data_1['Age'], data_1['Fare'], hue=data_1['Pclass'], palette='Set1')"
   ]
  },
  {
   "cell_type": "code",
   "execution_count": 32,
   "metadata": {},
   "outputs": [],
   "source": [
    "# The Fare column is highly skewed towards right side\n",
    "# lets create new column cotaining log values of Fare to reduce the skewness\n",
    "data_1['log_Fare']=np.log(data_1['Fare']+1)"
   ]
  },
  {
   "cell_type": "code",
   "execution_count": 33,
   "metadata": {},
   "outputs": [
    {
     "name": "stdout",
     "output_type": "stream",
     "text": [
      "Age - ( upper limit = 54.5 , lower limit =  2.5 )\n",
      "right =  42\n",
      "left= 24\n",
      "Fare - ( upper limit = 65.63 , lower limit =  -26.72 )\n",
      "right =  116\n",
      "left= 0\n",
      "log_Fare - ( upper limit = 5.38 , lower limit =  0.27 )\n",
      "right =  16\n",
      "left= 15\n"
     ]
    }
   ],
   "source": [
    "#we can see upper limit , lower limit, number of outliers in right side and left side of Age, Fare, and Log_Fare columns in output\n",
    "\n",
    "col=['Age', 'Fare','log_Fare']\n",
    "\n",
    "for k in col:\n",
    "        Q3=np.percentile(data_1[k], 75)\n",
    "        Q1=np.percentile(data_1[k], 25)\n",
    "        ul=Q3+1.5*(Q3-Q1)\n",
    "        ll=Q1-1.5*(Q3-Q1)\n",
    "        print(k,'- ( upper limit =', round(ul,2), ',' , 'lower limit = ', round(ll, 2), ')')\n",
    "        print('right = ', len(data_1.loc[data_1[k]>ul,:]))\n",
    "        print('left=', len(data_1.loc[data_1[k]<ll,:]))"
   ]
  },
  {
   "cell_type": "code",
   "execution_count": 34,
   "metadata": {},
   "outputs": [
    {
     "data": {
      "text/plain": [
       "(54.0, 6.0)"
      ]
     },
     "execution_count": 34,
     "metadata": {},
     "output_type": "execute_result"
    }
   ],
   "source": [
    "(np.percentile(data_1['Age'], 95), np.percentile(data_1['Age'], 5))"
   ]
  },
  {
   "cell_type": "code",
   "execution_count": 35,
   "metadata": {},
   "outputs": [],
   "source": [
    "# capping the outlier values on right and left side at the mean + 2 & -2 standard deviation value ,i.e 95, 5, percentile respectively\n",
    "data_1.loc[data_1['Age']>54.5,'Age']=np.percentile(data_1['Age'], 95)\n",
    "data_1.loc[data_1['Age']<2.5,'Age']=np.percentile(data_1['Age'], 5)"
   ]
  },
  {
   "cell_type": "code",
   "execution_count": 36,
   "metadata": {},
   "outputs": [
    {
     "data": {
      "text/plain": [
       "(112.07915, 7.225)"
      ]
     },
     "execution_count": 36,
     "metadata": {},
     "output_type": "execute_result"
    }
   ],
   "source": [
    "(np.percentile(data_1['Fare'], 95), np.percentile(data_1['Fare'], 5))"
   ]
  },
  {
   "cell_type": "code",
   "execution_count": 37,
   "metadata": {},
   "outputs": [
    {
     "data": {
      "text/plain": [
       "14.4542"
      ]
     },
     "execution_count": 37,
     "metadata": {},
     "output_type": "execute_result"
    }
   ],
   "source": [
    "np.median(data_1['Fare'])"
   ]
  },
  {
   "cell_type": "code",
   "execution_count": 38,
   "metadata": {},
   "outputs": [],
   "source": [
    "#95 percentile value (112.07) > upper limit (65.63) value of Fare so capping outlier to 95 percentile value will not solve the problem of outlier\n",
    "#hence we will convert the outlier value ot median value\n",
    "data_1.loc[data_1['Fare']>65.63,'Fare']=np.median(data_1['Fare'])"
   ]
  },
  {
   "cell_type": "code",
   "execution_count": 39,
   "metadata": {},
   "outputs": [
    {
     "data": {
      "text/plain": [
       "(4.728032094002511, 2.1071782966514356)"
      ]
     },
     "execution_count": 39,
     "metadata": {},
     "output_type": "execute_result"
    }
   ],
   "source": [
    "(np.percentile(data_1['log_Fare'], 95), np.percentile(data_1['log_Fare'], 5))"
   ]
  },
  {
   "cell_type": "code",
   "execution_count": 40,
   "metadata": {},
   "outputs": [],
   "source": [
    "# capping the outlier values on right and left side at the mean + 2 & -2 standard deviation value ,i.e 95, 5, percentile respectively\n",
    "data_1.loc[data_1['log_Fare']>5.38,'log_Fare']=np.percentile(data_1['log_Fare'], 95)\n",
    "data_1.loc[data_1['log_Fare']<0.27,'log_Fare']=np.percentile(data_1['log_Fare'], 5)"
   ]
  },
  {
   "cell_type": "code",
   "execution_count": 41,
   "metadata": {},
   "outputs": [
    {
     "name": "stdout",
     "output_type": "stream",
     "text": [
      "Age - ( upper limit = 54.5 , lower limit =  2.5 )\n",
      "right =  0\n",
      "left= 0\n",
      "Fare - ( upper limit = 48.51 , lower limit =  -16.45 )\n",
      "right =  48\n",
      "left= 0\n",
      "log_Fare - ( upper limit = 5.38 , lower limit =  0.27 )\n",
      "right =  0\n",
      "left= 0\n"
     ]
    },
    {
     "data": {
      "image/png": "[encoded data removed]",
      "text/plain": [
       "<Figure size 1080x360 with 2 Axes>"
      ]
     },
     "metadata": {
      "needs_background": "light"
     },
     "output_type": "display_data"
    },
    {
     "data": {
      "image/png": "[encoded data removed]",
      "text/plain": [
       "<Figure size 1080x360 with 2 Axes>"
      ]
     },
     "metadata": {
      "needs_background": "light"
     },
     "output_type": "display_data"
    },
    {
     "data": {
      "image/png": "[encoded data removed]",
      "text/plain": [
       "<Figure size 1080x360 with 2 Axes>"
      ]
     },
     "metadata": {
      "needs_background": "light"
     },
     "output_type": "display_data"
    }
   ],
   "source": [
    "# In the result after outlier treatment still we can see some outlier in Fare column but in Log_Fare column it has reduced the skewness and also removed all the outlier\n",
    "# hence we will work with log_Fare column in place of Fare column from now onwards \n",
    "\n",
    "col=['Age', 'Fare', 'log_Fare']\n",
    "\n",
    "for k in col:\n",
    "        Q3=np.percentile(data_1[k], 75)\n",
    "        Q1=np.percentile(data_1[k], 25)\n",
    "        ul=Q3+1.5*(Q3-Q1)\n",
    "        ll=Q1-1.5*(Q3-Q1)\n",
    "        print(k,'- ( upper limit =', round(ul,2), ',' , 'lower limit = ', round(ll, 2), ')')\n",
    "        print('right = ', len(data_1.loc[data_1[k]>ul,:]))\n",
    "        print('left=', len(data_1.loc[data_1[k]<ll,:]))\n",
    "        \n",
    "for x in col:\n",
    "    fig, axes=plt.subplots(1,2,figsize=(15,5))\n",
    "    sns.distplot(data_1[x], ax=axes[0])\n",
    "    sns.boxplot(x=data_1[x], ax=axes[1], showmeans=True)\n",
    "    fig.suptitle(x)"
   ]
  },
  {
   "cell_type": "code",
   "execution_count": 42,
   "metadata": {},
   "outputs": [
    {
     "data": {
      "text/plain": [
       "<matplotlib.axes._subplots.AxesSubplot at 0x2901e283a88>"
      ]
     },
     "execution_count": 42,
     "metadata": {},
     "output_type": "execute_result"
    },
    {
     "data": {
      "image/png": "[encoded data removed]",
      "text/plain": [
       "<Figure size 432x288 with 1 Axes>"
      ]
     },
     "metadata": {
      "needs_background": "light"
     },
     "output_type": "display_data"
    }
   ],
   "source": [
    "#we can see that even after doing outlier treatment the the distribution is not Affected much.\n",
    "sns.scatterplot(data_1['Age'], data_1['log_Fare'], hue=data_1['Pclass'], palette='Set1')"
   ]
  },
  {
   "cell_type": "markdown",
   "metadata": {},
   "source": [
    "### 6) Variable transformation"
   ]
  },
  {
   "cell_type": "code",
   "execution_count": 43,
   "metadata": {},
   "outputs": [
    {
     "data": {
      "text/html": [
       "<div>\n",
       "<style scoped>\n",
       "    .dataframe tbody tr th:only-of-type {\n",
       "        vertical-align: middle;\n",
       "    }\n",
       "\n",
       "    .dataframe tbody tr th {\n",
       "        vertical-align: top;\n",
       "    }\n",
       "\n",
       "    .dataframe thead th {\n",
       "        text-align: right;\n",
       "    }\n",
       "</style>\n",
       "<table border=\"1\" class=\"dataframe\">\n",
       "  <thead>\n",
       "    <tr style=\"text-align: right;\">\n",
       "      <th></th>\n",
       "      <th>Pclass</th>\n",
       "      <th>Name</th>\n",
       "      <th>Sex</th>\n",
       "      <th>Age</th>\n",
       "      <th>Fare</th>\n",
       "      <th>Embarked</th>\n",
       "      <th>Ticket</th>\n",
       "      <th>SibSp</th>\n",
       "      <th>Parch</th>\n",
       "      <th>Survived</th>\n",
       "      <th>log_Fare</th>\n",
       "    </tr>\n",
       "  </thead>\n",
       "  <tbody>\n",
       "    <tr>\n",
       "      <th>445</th>\n",
       "      <td>1</td>\n",
       "      <td>Dodge, Master. Washington</td>\n",
       "      <td>male</td>\n",
       "      <td>4.000000</td>\n",
       "      <td>14.4542</td>\n",
       "      <td>S</td>\n",
       "      <td>33638</td>\n",
       "      <td>0</td>\n",
       "      <td>2</td>\n",
       "      <td>1</td>\n",
       "      <td>4.417132</td>\n",
       "    </tr>\n",
       "    <tr>\n",
       "      <th>310</th>\n",
       "      <td>1</td>\n",
       "      <td>Hays, Miss. Margaret Bechstein</td>\n",
       "      <td>female</td>\n",
       "      <td>24.000000</td>\n",
       "      <td>14.4542</td>\n",
       "      <td>C</td>\n",
       "      <td>11767</td>\n",
       "      <td>0</td>\n",
       "      <td>0</td>\n",
       "      <td>1</td>\n",
       "      <td>4.432700</td>\n",
       "    </tr>\n",
       "    <tr>\n",
       "      <th>309</th>\n",
       "      <td>1</td>\n",
       "      <td>Francatelli, Miss. Laura Mabel</td>\n",
       "      <td>female</td>\n",
       "      <td>30.000000</td>\n",
       "      <td>56.9292</td>\n",
       "      <td>C</td>\n",
       "      <td>PC 17485</td>\n",
       "      <td>0</td>\n",
       "      <td>0</td>\n",
       "      <td>1</td>\n",
       "      <td>4.059222</td>\n",
       "    </tr>\n",
       "    <tr>\n",
       "      <th>307</th>\n",
       "      <td>1</td>\n",
       "      <td>Penasco y Castellana, Mrs. Victor de Satode (M...</td>\n",
       "      <td>female</td>\n",
       "      <td>17.000000</td>\n",
       "      <td>14.4542</td>\n",
       "      <td>C</td>\n",
       "      <td>PC 17758</td>\n",
       "      <td>1</td>\n",
       "      <td>0</td>\n",
       "      <td>1</td>\n",
       "      <td>4.699571</td>\n",
       "    </tr>\n",
       "    <tr>\n",
       "      <th>306</th>\n",
       "      <td>1</td>\n",
       "      <td>Fleming, Miss. Margaret</td>\n",
       "      <td>female</td>\n",
       "      <td>32.178503</td>\n",
       "      <td>14.4542</td>\n",
       "      <td>C</td>\n",
       "      <td>17421</td>\n",
       "      <td>0</td>\n",
       "      <td>0</td>\n",
       "      <td>1</td>\n",
       "      <td>4.717456</td>\n",
       "    </tr>\n",
       "  </tbody>\n",
       "</table>\n",
       "</div>"
      ],
      "text/plain": [
       "    Pclass                                               Name     Sex  \\\n",
       "445      1                          Dodge, Master. Washington    male   \n",
       "310      1                     Hays, Miss. Margaret Bechstein  female   \n",
       "309      1                     Francatelli, Miss. Laura Mabel  female   \n",
       "307      1  Penasco y Castellana, Mrs. Victor de Satode (M...  female   \n",
       "306      1                            Fleming, Miss. Margaret  female   \n",
       "\n",
       "           Age     Fare Embarked    Ticket SibSp Parch Survived  log_Fare  \n",
       "445   4.000000  14.4542        S     33638     0     2        1  4.417132  \n",
       "310  24.000000  14.4542        C     11767     0     0        1  4.432700  \n",
       "309  30.000000  56.9292        C  PC 17485     0     0        1  4.059222  \n",
       "307  17.000000  14.4542        C  PC 17758     1     0        1  4.699571  \n",
       "306  32.178503  14.4542        C     17421     0     0        1  4.717456  "
      ]
     },
     "execution_count": 43,
     "metadata": {},
     "output_type": "execute_result"
    }
   ],
   "source": [
    "data_1.head()"
   ]
  },
  {
   "cell_type": "code",
   "execution_count": 44,
   "metadata": {},
   "outputs": [
    {
     "name": "stdout",
     "output_type": "stream",
     "text": [
      "<class 'pandas.core.frame.DataFrame'>\n",
      "Int64Index: 891 entries, 445 to 890\n",
      "Data columns (total 11 columns):\n",
      " #   Column    Non-Null Count  Dtype  \n",
      "---  ------    --------------  -----  \n",
      " 0   Pclass    891 non-null    object \n",
      " 1   Name      891 non-null    object \n",
      " 2   Sex       891 non-null    object \n",
      " 3   Age       891 non-null    float64\n",
      " 4   Fare      891 non-null    float64\n",
      " 5   Embarked  891 non-null    object \n",
      " 6   Ticket    891 non-null    object \n",
      " 7   SibSp     891 non-null    object \n",
      " 8   Parch     891 non-null    object \n",
      " 9   Survived  891 non-null    object \n",
      " 10  log_Fare  891 non-null    float64\n",
      "dtypes: float64(3), object(8)\n",
      "memory usage: 123.5+ KB\n"
     ]
    }
   ],
   "source": [
    "data_1.info()"
   ]
  },
  {
   "cell_type": "code",
   "execution_count": 45,
   "metadata": {},
   "outputs": [],
   "source": [
    "# dropping few useless columns from the dataset.\n",
    "data_2=data_1.drop(['Name','Ticket', 'Fare'], axis=1)"
   ]
  },
  {
   "cell_type": "code",
   "execution_count": 46,
   "metadata": {},
   "outputs": [
    {
     "data": {
      "text/html": [
       "<div>\n",
       "<style scoped>\n",
       "    .dataframe tbody tr th:only-of-type {\n",
       "        vertical-align: middle;\n",
       "    }\n",
       "\n",
       "    .dataframe tbody tr th {\n",
       "        vertical-align: top;\n",
       "    }\n",
       "\n",
       "    .dataframe thead th {\n",
       "        text-align: right;\n",
       "    }\n",
       "</style>\n",
       "<table border=\"1\" class=\"dataframe\">\n",
       "  <thead>\n",
       "    <tr style=\"text-align: right;\">\n",
       "      <th></th>\n",
       "      <th>Pclass</th>\n",
       "      <th>Sex</th>\n",
       "      <th>Age</th>\n",
       "      <th>Embarked</th>\n",
       "      <th>SibSp</th>\n",
       "      <th>Parch</th>\n",
       "      <th>Survived</th>\n",
       "      <th>log_Fare</th>\n",
       "    </tr>\n",
       "  </thead>\n",
       "  <tbody>\n",
       "    <tr>\n",
       "      <th>445</th>\n",
       "      <td>1</td>\n",
       "      <td>male</td>\n",
       "      <td>4.000000</td>\n",
       "      <td>S</td>\n",
       "      <td>0</td>\n",
       "      <td>2</td>\n",
       "      <td>1</td>\n",
       "      <td>4.417132</td>\n",
       "    </tr>\n",
       "    <tr>\n",
       "      <th>310</th>\n",
       "      <td>1</td>\n",
       "      <td>female</td>\n",
       "      <td>24.000000</td>\n",
       "      <td>C</td>\n",
       "      <td>0</td>\n",
       "      <td>0</td>\n",
       "      <td>1</td>\n",
       "      <td>4.432700</td>\n",
       "    </tr>\n",
       "    <tr>\n",
       "      <th>309</th>\n",
       "      <td>1</td>\n",
       "      <td>female</td>\n",
       "      <td>30.000000</td>\n",
       "      <td>C</td>\n",
       "      <td>0</td>\n",
       "      <td>0</td>\n",
       "      <td>1</td>\n",
       "      <td>4.059222</td>\n",
       "    </tr>\n",
       "    <tr>\n",
       "      <th>307</th>\n",
       "      <td>1</td>\n",
       "      <td>female</td>\n",
       "      <td>17.000000</td>\n",
       "      <td>C</td>\n",
       "      <td>1</td>\n",
       "      <td>0</td>\n",
       "      <td>1</td>\n",
       "      <td>4.699571</td>\n",
       "    </tr>\n",
       "    <tr>\n",
       "      <th>306</th>\n",
       "      <td>1</td>\n",
       "      <td>female</td>\n",
       "      <td>32.178503</td>\n",
       "      <td>C</td>\n",
       "      <td>0</td>\n",
       "      <td>0</td>\n",
       "      <td>1</td>\n",
       "      <td>4.717456</td>\n",
       "    </tr>\n",
       "  </tbody>\n",
       "</table>\n",
       "</div>"
      ],
      "text/plain": [
       "    Pclass     Sex        Age Embarked SibSp Parch Survived  log_Fare\n",
       "445      1    male   4.000000        S     0     2        1  4.417132\n",
       "310      1  female  24.000000        C     0     0        1  4.432700\n",
       "309      1  female  30.000000        C     0     0        1  4.059222\n",
       "307      1  female  17.000000        C     1     0        1  4.699571\n",
       "306      1  female  32.178503        C     0     0        1  4.717456"
      ]
     },
     "execution_count": 46,
     "metadata": {},
     "output_type": "execute_result"
    }
   ],
   "source": [
    "data_2.head()"
   ]
  },
  {
   "cell_type": "code",
   "execution_count": 47,
   "metadata": {},
   "outputs": [
    {
     "name": "stdout",
     "output_type": "stream",
     "text": [
      "<class 'pandas.core.frame.DataFrame'>\n",
      "Int64Index: 891 entries, 445 to 890\n",
      "Data columns (total 8 columns):\n",
      " #   Column    Non-Null Count  Dtype  \n",
      "---  ------    --------------  -----  \n",
      " 0   Pclass    891 non-null    object \n",
      " 1   Sex       891 non-null    object \n",
      " 2   Age       891 non-null    float64\n",
      " 3   Embarked  891 non-null    object \n",
      " 4   SibSp     891 non-null    object \n",
      " 5   Parch     891 non-null    object \n",
      " 6   Survived  891 non-null    object \n",
      " 7   log_Fare  891 non-null    float64\n",
      "dtypes: float64(2), object(6)\n",
      "memory usage: 102.6+ KB\n"
     ]
    }
   ],
   "source": [
    "data_2.info()"
   ]
  },
  {
   "cell_type": "code",
   "execution_count": 48,
   "metadata": {},
   "outputs": [],
   "source": [
    "# converting categorical variables to dummies\n",
    "data_2_cat=data_2.drop(['Age', 'log_Fare'], axis=1)\n",
    "data_2_num=data_2[['Age', 'log_Fare']]\n",
    "data_2_cat_dummies=pd.get_dummies(data_2_cat, drop_first=True)\n",
    "data_3=pd.concat([data_2_num, data_2_cat_dummies], axis=1)"
   ]
  },
  {
   "cell_type": "code",
   "execution_count": 49,
   "metadata": {},
   "outputs": [
    {
     "name": "stdout",
     "output_type": "stream",
     "text": [
      "<class 'pandas.core.frame.DataFrame'>\n",
      "Int64Index: 891 entries, 445 to 890\n",
      "Data columns (total 20 columns):\n",
      " #   Column      Non-Null Count  Dtype  \n",
      "---  ------      --------------  -----  \n",
      " 0   Age         891 non-null    float64\n",
      " 1   log_Fare    891 non-null    float64\n",
      " 2   Pclass_2    891 non-null    uint8  \n",
      " 3   Pclass_3    891 non-null    uint8  \n",
      " 4   Sex_male    891 non-null    uint8  \n",
      " 5   Embarked_Q  891 non-null    uint8  \n",
      " 6   Embarked_S  891 non-null    uint8  \n",
      " 7   SibSp_1     891 non-null    uint8  \n",
      " 8   SibSp_2     891 non-null    uint8  \n",
      " 9   SibSp_3     891 non-null    uint8  \n",
      " 10  SibSp_4     891 non-null    uint8  \n",
      " 11  SibSp_5     891 non-null    uint8  \n",
      " 12  SibSp_8     891 non-null    uint8  \n",
      " 13  Parch_1     891 non-null    uint8  \n",
      " 14  Parch_2     891 non-null    uint8  \n",
      " 15  Parch_3     891 non-null    uint8  \n",
      " 16  Parch_4     891 non-null    uint8  \n",
      " 17  Parch_5     891 non-null    uint8  \n",
      " 18  Parch_6     891 non-null    uint8  \n",
      " 19  Survived_1  891 non-null    uint8  \n",
      "dtypes: float64(2), uint8(18)\n",
      "memory usage: 76.5 KB\n"
     ]
    }
   ],
   "source": [
    "#getting datatypes of columns in final dataset\n",
    "data_3.info()"
   ]
  },
  {
   "cell_type": "code",
   "execution_count": 50,
   "metadata": {},
   "outputs": [
    {
     "data": {
      "text/plain": [
       "Age           0\n",
       "log_Fare      0\n",
       "Pclass_2      0\n",
       "Pclass_3      0\n",
       "Sex_male      0\n",
       "Embarked_Q    0\n",
       "Embarked_S    0\n",
       "SibSp_1       0\n",
       "SibSp_2       0\n",
       "SibSp_3       0\n",
       "SibSp_4       0\n",
       "SibSp_5       0\n",
       "SibSp_8       0\n",
       "Parch_1       0\n",
       "Parch_2       0\n",
       "Parch_3       0\n",
       "Parch_4       0\n",
       "Parch_5       0\n",
       "Parch_6       0\n",
       "Survived_1    0\n",
       "dtype: int64"
      ]
     },
     "execution_count": 50,
     "metadata": {},
     "output_type": "execute_result"
    }
   ],
   "source": [
    "# no null value present in final dataset\n",
    "data_3.isnull().sum()"
   ]
  },
  {
   "cell_type": "markdown",
   "metadata": {},
   "source": [
    "### B) Modelling"
   ]
  },
  {
   "cell_type": "code",
   "execution_count": 51,
   "metadata": {},
   "outputs": [
    {
     "data": {
      "text/html": [
       "<div>\n",
       "<style scoped>\n",
       "    .dataframe tbody tr th:only-of-type {\n",
       "        vertical-align: middle;\n",
       "    }\n",
       "\n",
       "    .dataframe tbody tr th {\n",
       "        vertical-align: top;\n",
       "    }\n",
       "\n",
       "    .dataframe thead th {\n",
       "        text-align: right;\n",
       "    }\n",
       "</style>\n",
       "<table border=\"1\" class=\"dataframe\">\n",
       "  <thead>\n",
       "    <tr style=\"text-align: right;\">\n",
       "      <th></th>\n",
       "      <th>feature_name</th>\n",
       "      <th>feature_importance</th>\n",
       "    </tr>\n",
       "  </thead>\n",
       "  <tbody>\n",
       "    <tr>\n",
       "      <th>1</th>\n",
       "      <td>log_Fare</td>\n",
       "      <td>28.132225</td>\n",
       "    </tr>\n",
       "    <tr>\n",
       "      <th>0</th>\n",
       "      <td>Age</td>\n",
       "      <td>26.310907</td>\n",
       "    </tr>\n",
       "    <tr>\n",
       "      <th>4</th>\n",
       "      <td>Sex_male</td>\n",
       "      <td>25.509746</td>\n",
       "    </tr>\n",
       "    <tr>\n",
       "      <th>3</th>\n",
       "      <td>Pclass_3</td>\n",
       "      <td>5.423765</td>\n",
       "    </tr>\n",
       "    <tr>\n",
       "      <th>6</th>\n",
       "      <td>Embarked_S</td>\n",
       "      <td>2.593115</td>\n",
       "    </tr>\n",
       "    <tr>\n",
       "      <th>7</th>\n",
       "      <td>SibSp_1</td>\n",
       "      <td>2.538538</td>\n",
       "    </tr>\n",
       "    <tr>\n",
       "      <th>13</th>\n",
       "      <td>Parch_1</td>\n",
       "      <td>1.996699</td>\n",
       "    </tr>\n",
       "    <tr>\n",
       "      <th>2</th>\n",
       "      <td>Pclass_2</td>\n",
       "      <td>1.650366</td>\n",
       "    </tr>\n",
       "    <tr>\n",
       "      <th>14</th>\n",
       "      <td>Parch_2</td>\n",
       "      <td>1.587348</td>\n",
       "    </tr>\n",
       "    <tr>\n",
       "      <th>5</th>\n",
       "      <td>Embarked_Q</td>\n",
       "      <td>0.997760</td>\n",
       "    </tr>\n",
       "    <tr>\n",
       "      <th>9</th>\n",
       "      <td>SibSp_3</td>\n",
       "      <td>0.883860</td>\n",
       "    </tr>\n",
       "    <tr>\n",
       "      <th>8</th>\n",
       "      <td>SibSp_2</td>\n",
       "      <td>0.669759</td>\n",
       "    </tr>\n",
       "    <tr>\n",
       "      <th>10</th>\n",
       "      <td>SibSp_4</td>\n",
       "      <td>0.485904</td>\n",
       "    </tr>\n",
       "    <tr>\n",
       "      <th>12</th>\n",
       "      <td>SibSp_8</td>\n",
       "      <td>0.354006</td>\n",
       "    </tr>\n",
       "    <tr>\n",
       "      <th>11</th>\n",
       "      <td>SibSp_5</td>\n",
       "      <td>0.237509</td>\n",
       "    </tr>\n",
       "    <tr>\n",
       "      <th>16</th>\n",
       "      <td>Parch_4</td>\n",
       "      <td>0.224367</td>\n",
       "    </tr>\n",
       "    <tr>\n",
       "      <th>15</th>\n",
       "      <td>Parch_3</td>\n",
       "      <td>0.175690</td>\n",
       "    </tr>\n",
       "    <tr>\n",
       "      <th>17</th>\n",
       "      <td>Parch_5</td>\n",
       "      <td>0.144482</td>\n",
       "    </tr>\n",
       "    <tr>\n",
       "      <th>18</th>\n",
       "      <td>Parch_6</td>\n",
       "      <td>0.083954</td>\n",
       "    </tr>\n",
       "  </tbody>\n",
       "</table>\n",
       "</div>"
      ],
      "text/plain": [
       "   feature_name  feature_importance\n",
       "1      log_Fare           28.132225\n",
       "0           Age           26.310907\n",
       "4      Sex_male           25.509746\n",
       "3      Pclass_3            5.423765\n",
       "6    Embarked_S            2.593115\n",
       "7       SibSp_1            2.538538\n",
       "13      Parch_1            1.996699\n",
       "2      Pclass_2            1.650366\n",
       "14      Parch_2            1.587348\n",
       "5    Embarked_Q            0.997760\n",
       "9       SibSp_3            0.883860\n",
       "8       SibSp_2            0.669759\n",
       "10      SibSp_4            0.485904\n",
       "12      SibSp_8            0.354006\n",
       "11      SibSp_5            0.237509\n",
       "16      Parch_4            0.224367\n",
       "15      Parch_3            0.175690\n",
       "17      Parch_5            0.144482\n",
       "18      Parch_6            0.083954"
      ]
     },
     "execution_count": 51,
     "metadata": {},
     "output_type": "execute_result"
    }
   ],
   "source": [
    "#understanding the variable importance in prediction present in our final dataset with the help of RandomForestClassifier feature_importances_ \n",
    "\n",
    "x=data_3.drop(['Survived_1'], axis=1)\n",
    "y=data_3[['Survived_1']]\n",
    "x_train, x_test, y_train, y_test=train_test_split(x,y, train_size=0.8, random_state=100)\n",
    "rc=RandomForestClassifier(n_estimators=1000, random_state=100)\n",
    "rc.fit(x_train, y_train)\n",
    "y=rc.feature_importances_\n",
    "\n",
    "feature_importance={'feature_name':data_3.drop(['Survived_1'], axis=1).columns.to_list(), 'feature_importance':y}\n",
    "feature_imp_table_2=pd.DataFrame(feature_importance)\n",
    "feature_imp_table_2['feature_importance']=feature_imp_table_2['feature_importance']*100\n",
    "feature_imp_table_2.sort_values(['feature_importance'], ascending=False, inplace=True)\n",
    "feature_imp_table_2"
   ]
  },
  {
   "cell_type": "code",
   "execution_count": 52,
   "metadata": {},
   "outputs": [
    {
     "data": {
      "text/plain": [
       "<matplotlib.axes._subplots.AxesSubplot at 0x2901e2f4808>"
      ]
     },
     "execution_count": 52,
     "metadata": {},
     "output_type": "execute_result"
    },
    {
     "data": {
      "image/png": "[encoded data removed]",
      "text/plain": [
       "<Figure size 720x432 with 1 Axes>"
      ]
     },
     "metadata": {
      "needs_background": "light"
     },
     "output_type": "display_data"
    }
   ],
   "source": [
    "axes=plt.subplots(figsize=(10,6))\n",
    "sns.barplot(x='feature_importance', y='feature_name', data=feature_imp_table_2)"
   ]
  },
  {
   "cell_type": "markdown",
   "metadata": {},
   "source": [
    "### 1) Logistic Regression."
   ]
  },
  {
   "cell_type": "code",
   "execution_count": 53,
   "metadata": {},
   "outputs": [
    {
     "data": {
      "text/plain": [
       "LogisticRegression(C=1.0, class_weight=None, dual=False, fit_intercept=True,\n",
       "                   intercept_scaling=1, l1_ratio=None, max_iter=100,\n",
       "                   multi_class='auto', n_jobs=None, penalty='l2',\n",
       "                   random_state=None, solver='lbfgs', tol=0.0001, verbose=0,\n",
       "                   warm_start=False)"
      ]
     },
     "execution_count": 53,
     "metadata": {},
     "output_type": "execute_result"
    }
   ],
   "source": [
    "# creating x and y varialbes\n",
    "x=data_3.drop(['Survived_1'], axis=1)\n",
    "y=data_3[['Survived_1']]\n",
    "\n",
    "#spliting the dataset in train and test\n",
    "x_train, x_test, y_train, y_test=train_test_split(x, y, train_size=0.7, random_state=100)\n",
    "\n",
    "#model fit\n",
    "lr=LogisticRegression()\n",
    "lr.fit(x_train, y_train)"
   ]
  },
  {
   "cell_type": "code",
   "execution_count": 54,
   "metadata": {},
   "outputs": [],
   "source": [
    "# getting probabilities of Passenger survival for training and testing dataset \n",
    "y_train_prob=lr.predict_proba(x_train)[:,1]\n",
    "y_test_prob=lr.predict_proba(x_test)[:,1]"
   ]
  },
  {
   "cell_type": "code",
   "execution_count": 55,
   "metadata": {},
   "outputs": [],
   "source": [
    "# Roc curve function\n",
    "def plot_roc_curve(fpr, tpr):\n",
    "    plt.plot(fpr, tpr, color='orange', label='ROC')\n",
    "    plt.plot([0, 1], [0, 1], color='darkblue', linestyle='--')\n",
    "    plt.xlabel('False Positive Rate')\n",
    "    plt.ylabel('True Positive Rate')\n",
    "    plt.title('Receiver Operating Characteristic (ROC) Curve')\n",
    "    plt.legend()\n",
    "    plt.show()"
   ]
  },
  {
   "cell_type": "code",
   "execution_count": 56,
   "metadata": {},
   "outputs": [],
   "source": [
    "# getting false positive rate, true positive rate, at different threshold values for ploting the Roc curve\n",
    "#at best threshold value we get the  minimum false positive rate and maximum true positive rate \n",
    "fpr, tpr, thresholds = roc_curve(y_train, y_train_prob)"
   ]
  },
  {
   "cell_type": "code",
   "execution_count": 57,
   "metadata": {},
   "outputs": [],
   "source": [
    "# getting the accuracy score on training dataset at different threshold values\n",
    "\n",
    "accuracy = []\n",
    "for thres in thresholds:\n",
    "    y_train_pred = np.where(y_train_prob>thres,1,0)\n",
    "    accuracy.append(accuracy_score(y_train, y_train_pred, normalize=True))\n",
    "    \n",
    "train_accuracy = pd.concat([pd.Series(thresholds), pd.Series(accuracy)],\n",
    "                        axis=1)\n",
    "train_accuracy.columns = ['thresholds', 'accuracy']"
   ]
  },
  {
   "cell_type": "code",
   "execution_count": 58,
   "metadata": {},
   "outputs": [],
   "source": [
    "# getting the accuracy score on testing dataset at different threshold values\n",
    "\n",
    "accuracy = []\n",
    "for thres in thresholds:\n",
    "    y_test_pred = np.where(y_test_prob>thres,1,0)\n",
    "    accuracy.append(accuracy_score(y_test, y_test_pred, normalize=True))\n",
    "    \n",
    "test_accuracy = pd.concat([pd.Series(thresholds), pd.Series(accuracy)],\n",
    "                        axis=1)\n",
    "test_accuracy.columns = ['thresholds', 'accuracy']"
   ]
  },
  {
   "cell_type": "code",
   "execution_count": 59,
   "metadata": {},
   "outputs": [
    {
     "data": {
      "text/html": [
       "<div>\n",
       "<style scoped>\n",
       "    .dataframe tbody tr th:only-of-type {\n",
       "        vertical-align: middle;\n",
       "    }\n",
       "\n",
       "    .dataframe tbody tr th {\n",
       "        vertical-align: top;\n",
       "    }\n",
       "\n",
       "    .dataframe thead th {\n",
       "        text-align: right;\n",
       "    }\n",
       "</style>\n",
       "<table border=\"1\" class=\"dataframe\">\n",
       "  <thead>\n",
       "    <tr style=\"text-align: right;\">\n",
       "      <th></th>\n",
       "      <th>thresholds</th>\n",
       "      <th>True_positive_rate</th>\n",
       "      <th>False_positive_rate</th>\n",
       "      <th>train_accuracy</th>\n",
       "      <th>test_accuracy</th>\n",
       "      <th>mean_accuracy</th>\n",
       "    </tr>\n",
       "  </thead>\n",
       "  <tbody>\n",
       "    <tr>\n",
       "      <th>43</th>\n",
       "      <td>0.577193</td>\n",
       "      <td>0.634783</td>\n",
       "      <td>0.083969</td>\n",
       "      <td>0.810594</td>\n",
       "      <td>0.813433</td>\n",
       "      <td>0.812013</td>\n",
       "    </tr>\n",
       "    <tr>\n",
       "      <th>60</th>\n",
       "      <td>0.491364</td>\n",
       "      <td>0.708696</td>\n",
       "      <td>0.122137</td>\n",
       "      <td>0.817014</td>\n",
       "      <td>0.805970</td>\n",
       "      <td>0.811492</td>\n",
       "    </tr>\n",
       "    <tr>\n",
       "      <th>36</th>\n",
       "      <td>0.614638</td>\n",
       "      <td>0.573913</td>\n",
       "      <td>0.068702</td>\n",
       "      <td>0.797753</td>\n",
       "      <td>0.824627</td>\n",
       "      <td>0.811190</td>\n",
       "    </tr>\n",
       "    <tr>\n",
       "      <th>44</th>\n",
       "      <td>0.575878</td>\n",
       "      <td>0.634783</td>\n",
       "      <td>0.086514</td>\n",
       "      <td>0.812199</td>\n",
       "      <td>0.809701</td>\n",
       "      <td>0.810950</td>\n",
       "    </tr>\n",
       "    <tr>\n",
       "      <th>45</th>\n",
       "      <td>0.575464</td>\n",
       "      <td>0.639130</td>\n",
       "      <td>0.086514</td>\n",
       "      <td>0.810594</td>\n",
       "      <td>0.809701</td>\n",
       "      <td>0.810148</td>\n",
       "    </tr>\n",
       "  </tbody>\n",
       "</table>\n",
       "</div>"
      ],
      "text/plain": [
       "    thresholds  True_positive_rate  False_positive_rate  train_accuracy  \\\n",
       "43    0.577193            0.634783             0.083969        0.810594   \n",
       "60    0.491364            0.708696             0.122137        0.817014   \n",
       "36    0.614638            0.573913             0.068702        0.797753   \n",
       "44    0.575878            0.634783             0.086514        0.812199   \n",
       "45    0.575464            0.639130             0.086514        0.810594   \n",
       "\n",
       "    test_accuracy  mean_accuracy  \n",
       "43       0.813433       0.812013  \n",
       "60       0.805970       0.811492  \n",
       "36       0.824627       0.811190  \n",
       "44       0.809701       0.810950  \n",
       "45       0.809701       0.810148  "
      ]
     },
     "execution_count": 59,
     "metadata": {},
     "output_type": "execute_result"
    }
   ],
   "source": [
    "#creating new dataset containing, True_positive_rate, False_positive_rate, train_accuracy, test_accuracy, and  mean_accuracy of train_accuracy and test_accuracy at all the thresholds values\n",
    "#now at the maximum mean_accuracy we get minimum false positive rate and maximum true positive rate \n",
    "# hence we can get the best threshold from the table below\n",
    "\n",
    "accuracy_table=pd.DataFrame()\n",
    "accuracy_table['thresholds']=train_accuracy['thresholds']\n",
    "accuracy_table['True_positive_rate']=tpr\n",
    "accuracy_table['False_positive_rate']=fpr\n",
    "accuracy_table['train_accuracy']=train_accuracy['accuracy']\n",
    "accuracy_table['test_accuracy']=test_accuracy['accuracy']\n",
    "accuracy_table['mean_accuracy']=accuracy_table[['train_accuracy', 'test_accuracy']].mean(axis=1)\n",
    "accuracy_table.sort_values(['mean_accuracy'], ascending=False, inplace=True)\n",
    "accuracy_table.head(5)"
   ]
  },
  {
   "cell_type": "code",
   "execution_count": 60,
   "metadata": {},
   "outputs": [
    {
     "data": {
      "image/png": "[encoded data removed]",
      "text/plain": [
       "<Figure size 432x288 with 1 Axes>"
      ]
     },
     "metadata": {
      "needs_background": "light"
     },
     "output_type": "display_data"
    }
   ],
   "source": [
    "# Roc curve (false positive rate Vs true positive rate)\n",
    "plot_roc_curve(fpr, tpr)"
   ]
  },
  {
   "cell_type": "code",
   "execution_count": 61,
   "metadata": {},
   "outputs": [],
   "source": [
    "# we change the threshold value to 0.577193 at which True_positive_rate is 0.634783 and False_positive_rate is 0.083969\n",
    "# getting the Passenger survival prediction on training dataset and testing dataset at new threshold value\n",
    "y_train_pred = np.where(y_train_prob>0.577193,1,0)\n",
    "y_test_pred = np.where(y_test_prob>0.577193,1,0)"
   ]
  },
  {
   "cell_type": "code",
   "execution_count": 62,
   "metadata": {},
   "outputs": [
    {
     "data": {
      "image/png": "[encoded data removed]",
      "text/plain": [
       "<Figure size 432x288 with 2 Axes>"
      ]
     },
     "metadata": {
      "needs_background": "light"
     },
     "output_type": "display_data"
    }
   ],
   "source": [
    "#confusion matrix on training dataset for analysis the accuracy of prediction \n",
    "con_matrix=confusion_matrix(y_train, y_train_pred)\n",
    "sns.heatmap(con_matrix, annot=True, cmap='YlGn', fmt='.3g')\n",
    "plt.ylabel('Actuals')\n",
    "plt.xlabel('Predictions')\n",
    "plt.title('Confusion Matrix')\n",
    "plt.show()"
   ]
  },
  {
   "cell_type": "code",
   "execution_count": 63,
   "metadata": {},
   "outputs": [
    {
     "data": {
      "image/png": "[encoded data removed]",
      "text/plain": [
       "<Figure size 432x288 with 2 Axes>"
      ]
     },
     "metadata": {
      "needs_background": "light"
     },
     "output_type": "display_data"
    }
   ],
   "source": [
    "#confusion matrix on testing dataset for analysis the accuracy of prediction \n",
    "con_matrix=confusion_matrix(y_test, y_test_pred)\n",
    "sns.heatmap(con_matrix, annot=True, cmap='YlGn', fmt='.3g')\n",
    "plt.ylabel('Actuals')\n",
    "plt.xlabel('Predictions')\n",
    "plt.title('Confusion Matrix')\n",
    "plt.show()"
   ]
  },
  {
   "cell_type": "code",
   "execution_count": 64,
   "metadata": {},
   "outputs": [
    {
     "name": "stdout",
     "output_type": "stream",
     "text": [
      "Logistic Regression accuracy_score\n",
      "Train Accuracy: 0.8106 , Test Accuracy: 0.8134\n"
     ]
    }
   ],
   "source": [
    "print('Logistic Regression accuracy_score')\n",
    "print('Train Accuracy:',round(accuracy_score(y_train, y_train_pred),4), ', Test Accuracy:' ,round(accuracy_score(y_test, y_test_pred), 4))"
   ]
  },
  {
   "cell_type": "markdown",
   "metadata": {},
   "source": [
    "### 2) KNN Classifier"
   ]
  },
  {
   "cell_type": "code",
   "execution_count": 65,
   "metadata": {},
   "outputs": [
    {
     "name": "stdout",
     "output_type": "stream",
     "text": [
      "K= 1 :- Train Accuracy: 0.97592 , Test Accuracy: 0.72015\n",
      "K= 3 :- Train Accuracy: 0.86838 , Test Accuracy: 0.73881\n",
      "K= 5 :- Train Accuracy: 0.83949 , Test Accuracy: 0.73134\n",
      "K= 7 :- Train Accuracy: 0.81541 , Test Accuracy: 0.70149\n",
      "K= 9 :- Train Accuracy: 0.79775 , Test Accuracy: 0.70896\n",
      "K= 11 :- Train Accuracy: 0.78973 , Test Accuracy: 0.70522\n",
      "K= 13 :- Train Accuracy: 0.7817 , Test Accuracy: 0.6903\n"
     ]
    }
   ],
   "source": [
    "#deciding n_neighbors value for KNN Classifier\n",
    "#we get the Accuracy score for training dataset and testing dataset at different K values\n",
    "# we should choose best k value where we get maximum Accuracy without getting model overfitted.\n",
    "\n",
    "k_values=[1,3,5,7,9,11,13]\n",
    "x=data_3.drop(['Survived_1'], axis=1)\n",
    "y=data_3[['Survived_1']]\n",
    "x_train, x_test, y_train, y_test=train_test_split(x, y, train_size=0.7, random_state=100)\n",
    "\n",
    "for k in k_values:\n",
    "    knn=KNeighborsClassifier(n_neighbors=k)\n",
    "    knn.fit(x_train, y_train)\n",
    "    print('K=',k, ':- Train Accuracy:',round(knn.score(x_train, y_train),5), ', Test Accuracy:' ,round(knn.score(x_test, y_test), 5))"
   ]
  },
  {
   "cell_type": "code",
   "execution_count": 66,
   "metadata": {},
   "outputs": [
    {
     "data": {
      "text/plain": [
       "KNeighborsClassifier(algorithm='auto', leaf_size=30, metric='minkowski',\n",
       "                     metric_params=None, n_jobs=None, n_neighbors=5, p=2,\n",
       "                     weights='uniform')"
      ]
     },
     "execution_count": 66,
     "metadata": {},
     "output_type": "execute_result"
    }
   ],
   "source": [
    "# from above result we get Best k value as 5 where we get max Accuracy without getting model overfitted\n",
    "# creating x and y varialbes\n",
    "x=data_3.drop(['Survived_1'], axis=1)\n",
    "y=data_3[['Survived_1']]\n",
    "\n",
    "#spliting dataset into train and test\n",
    "x_train, x_test, y_train, y_test=train_test_split(x, y, train_size=0.7, random_state=100)\n",
    "\n",
    "#model fitting\n",
    "knn=KNeighborsClassifier(n_neighbors=5)\n",
    "knn.fit(x_train, y_train)"
   ]
  },
  {
   "cell_type": "code",
   "execution_count": 67,
   "metadata": {},
   "outputs": [],
   "source": [
    "# getting probabilities of Passenger survival for training and testing dataset \n",
    "y_train_prob=knn.predict_proba(x_train)[:,1]\n",
    "y_test_prob=knn.predict_proba(x_test)[:,1]"
   ]
  },
  {
   "cell_type": "code",
   "execution_count": 68,
   "metadata": {},
   "outputs": [],
   "source": [
    "# getting false positive rate, true positive rate, at different threshold values for ploting the Roc curve\n",
    "#at best threshold value we get the  minimum false positive rate and maximum true positive rate \n",
    "fpr, tpr, thresholds = roc_curve(y_train, y_train_prob)"
   ]
  },
  {
   "cell_type": "code",
   "execution_count": 69,
   "metadata": {},
   "outputs": [],
   "source": [
    "# getting the accuracy score on training dataset at different threshold values\n",
    "\n",
    "accuracy = []\n",
    "for thres in thresholds:\n",
    "    y_train_pred = np.where(y_train_prob>thres,1,0)\n",
    "    accuracy.append(accuracy_score(y_train, y_train_pred, normalize=True))\n",
    "    \n",
    "train_accuracy = pd.concat([pd.Series(thresholds), pd.Series(accuracy)],\n",
    "                        axis=1)\n",
    "train_accuracy.columns = ['thresholds', 'accuracy']"
   ]
  },
  {
   "cell_type": "code",
   "execution_count": 70,
   "metadata": {},
   "outputs": [],
   "source": [
    "# getting the accuracy score on testing dataset at different threshold values\n",
    "\n",
    "accuracy = []\n",
    "for thres in thresholds:\n",
    "    y_test_pred = np.where(y_test_prob>thres,1,0)\n",
    "    accuracy.append(accuracy_score(y_test, y_test_pred, normalize=True))\n",
    "    \n",
    "test_accuracy = pd.concat([pd.Series(thresholds), pd.Series(accuracy)],\n",
    "                        axis=1)\n",
    "test_accuracy.columns = ['thresholds', 'accuracy']"
   ]
  },
  {
   "cell_type": "code",
   "execution_count": 71,
   "metadata": {},
   "outputs": [
    {
     "data": {
      "text/html": [
       "<div>\n",
       "<style scoped>\n",
       "    .dataframe tbody tr th:only-of-type {\n",
       "        vertical-align: middle;\n",
       "    }\n",
       "\n",
       "    .dataframe tbody tr th {\n",
       "        vertical-align: top;\n",
       "    }\n",
       "\n",
       "    .dataframe thead th {\n",
       "        text-align: right;\n",
       "    }\n",
       "</style>\n",
       "<table border=\"1\" class=\"dataframe\">\n",
       "  <thead>\n",
       "    <tr style=\"text-align: right;\">\n",
       "      <th></th>\n",
       "      <th>thresholds</th>\n",
       "      <th>True_positive_rate</th>\n",
       "      <th>False_positive_rate</th>\n",
       "      <th>train_accuracy</th>\n",
       "      <th>test_accuracy</th>\n",
       "      <th>mean_accuracy</th>\n",
       "    </tr>\n",
       "  </thead>\n",
       "  <tbody>\n",
       "    <tr>\n",
       "      <th>4</th>\n",
       "      <td>0.4</td>\n",
       "      <td>0.865217</td>\n",
       "      <td>0.208651</td>\n",
       "      <td>0.839486</td>\n",
       "      <td>0.731343</td>\n",
       "      <td>0.785415</td>\n",
       "    </tr>\n",
       "    <tr>\n",
       "      <th>5</th>\n",
       "      <td>0.2</td>\n",
       "      <td>1.000000</td>\n",
       "      <td>0.618321</td>\n",
       "      <td>0.818620</td>\n",
       "      <td>0.738806</td>\n",
       "      <td>0.778713</td>\n",
       "    </tr>\n",
       "    <tr>\n",
       "      <th>3</th>\n",
       "      <td>0.6</td>\n",
       "      <td>0.686957</td>\n",
       "      <td>0.071247</td>\n",
       "      <td>0.778491</td>\n",
       "      <td>0.671642</td>\n",
       "      <td>0.725066</td>\n",
       "    </tr>\n",
       "    <tr>\n",
       "      <th>2</th>\n",
       "      <td>0.8</td>\n",
       "      <td>0.447826</td>\n",
       "      <td>0.027990</td>\n",
       "      <td>0.707865</td>\n",
       "      <td>0.649254</td>\n",
       "      <td>0.678559</td>\n",
       "    </tr>\n",
       "    <tr>\n",
       "      <th>0</th>\n",
       "      <td>2.0</td>\n",
       "      <td>0.000000</td>\n",
       "      <td>0.000000</td>\n",
       "      <td>0.630819</td>\n",
       "      <td>0.582090</td>\n",
       "      <td>0.606454</td>\n",
       "    </tr>\n",
       "  </tbody>\n",
       "</table>\n",
       "</div>"
      ],
      "text/plain": [
       "   thresholds  True_positive_rate  False_positive_rate  train_accuracy  \\\n",
       "4         0.4            0.865217             0.208651        0.839486   \n",
       "5         0.2            1.000000             0.618321        0.818620   \n",
       "3         0.6            0.686957             0.071247        0.778491   \n",
       "2         0.8            0.447826             0.027990        0.707865   \n",
       "0         2.0            0.000000             0.000000        0.630819   \n",
       "\n",
       "   test_accuracy  mean_accuracy  \n",
       "4       0.731343       0.785415  \n",
       "5       0.738806       0.778713  \n",
       "3       0.671642       0.725066  \n",
       "2       0.649254       0.678559  \n",
       "0       0.582090       0.606454  "
      ]
     },
     "execution_count": 71,
     "metadata": {},
     "output_type": "execute_result"
    }
   ],
   "source": [
    "#creating new dataset containing, True_positive_rate, False_positive_rate, train_accuracy, test_accuracy, and  mean_accuracy of train_accuracy and test_accuracy at all the thresholds values\n",
    "#now at the maximum mean_accuracy we get minimum false positive rate and maximum true positive rate \n",
    "#hence we can get the best threshold from the table below\n",
    "\n",
    "accuracy_table=pd.DataFrame()\n",
    "accuracy_table['thresholds']=train_accuracy['thresholds']\n",
    "accuracy_table['True_positive_rate']=tpr\n",
    "accuracy_table['False_positive_rate']=fpr\n",
    "accuracy_table['train_accuracy']=train_accuracy['accuracy']\n",
    "accuracy_table['test_accuracy']=test_accuracy['accuracy']\n",
    "accuracy_table['mean_accuracy']=accuracy_table[['train_accuracy', 'test_accuracy']].mean(axis=1)\n",
    "accuracy_table.sort_values(['mean_accuracy'], ascending=False, inplace=True)\n",
    "accuracy_table.head(5)"
   ]
  },
  {
   "cell_type": "code",
   "execution_count": 72,
   "metadata": {},
   "outputs": [
    {
     "data": {
      "image/png": "[encoded data removed]",
      "text/plain": [
       "<Figure size 432x288 with 1 Axes>"
      ]
     },
     "metadata": {
      "needs_background": "light"
     },
     "output_type": "display_data"
    }
   ],
   "source": [
    "# Roc curve (false positive rate Vs true positive rate)\n",
    "plot_roc_curve(fpr, tpr)"
   ]
  },
  {
   "cell_type": "code",
   "execution_count": 73,
   "metadata": {},
   "outputs": [],
   "source": [
    "# we change the threshold value to 0.4 at which True_positive_rate is 0.865217 and False_positive_rate is 0.208651\n",
    "# getting the Passenger survival prediction on training dataset and testing dataset at new threshold value\n",
    "y_train_pred = np.where(y_train_prob>0.4,1,0)\n",
    "y_test_pred = np.where(y_test_prob>0.4,1,0)"
   ]
  },
  {
   "cell_type": "code",
   "execution_count": 74,
   "metadata": {},
   "outputs": [
    {
     "data": {
      "image/png": "[encoded data removed]",
      "text/plain": [
       "<Figure size 432x288 with 2 Axes>"
      ]
     },
     "metadata": {
      "needs_background": "light"
     },
     "output_type": "display_data"
    }
   ],
   "source": [
    "#confusion matrix on training dataset for analysis the accuracy of prediction \n",
    "con_matrix=confusion_matrix(y_train, y_train_pred)\n",
    "sns.heatmap(con_matrix, annot=True, cmap='YlGn', fmt='.3g')\n",
    "plt.ylabel('Actuals')\n",
    "plt.xlabel('Predictions')\n",
    "plt.title('Confusion Matrix')\n",
    "plt.show()"
   ]
  },
  {
   "cell_type": "code",
   "execution_count": 75,
   "metadata": {},
   "outputs": [
    {
     "data": {
      "image/png": "[encoded data removed]",
      "text/plain": [
       "<Figure size 432x288 with 2 Axes>"
      ]
     },
     "metadata": {
      "needs_background": "light"
     },
     "output_type": "display_data"
    }
   ],
   "source": [
    "#confusion matrix on testing dataset for analysis the accuracy of prediction \n",
    "con_matrix=confusion_matrix(y_test, y_test_pred)\n",
    "sns.heatmap(con_matrix, annot=True, cmap='YlGn', fmt='.3g')\n",
    "plt.ylabel('Actuals')\n",
    "plt.xlabel('Predictions')\n",
    "plt.title('Confusion Matrix')\n",
    "plt.show()"
   ]
  },
  {
   "cell_type": "code",
   "execution_count": 76,
   "metadata": {},
   "outputs": [
    {
     "name": "stdout",
     "output_type": "stream",
     "text": [
      "KNN accuracy_score\n",
      "Train Accuracy: 0.8395 , Test Accuracy: 0.7313\n"
     ]
    }
   ],
   "source": [
    "print('KNN accuracy_score')\n",
    "print('Train Accuracy:',round(accuracy_score(y_train, y_train_pred),4), ', Test Accuracy:' ,round(accuracy_score(y_test, y_test_pred), 4))"
   ]
  },
  {
   "cell_type": "markdown",
   "metadata": {},
   "source": [
    "### 3) DecisionTree Classifier"
   ]
  },
  {
   "cell_type": "code",
   "execution_count": 77,
   "metadata": {},
   "outputs": [
    {
     "name": "stdout",
     "output_type": "stream",
     "text": [
      "1 :- Train Accuracy: 0.78812 , Test Accuracy: 0.78358\n",
      "2 :- Train Accuracy: 0.79775 , Test Accuracy: 0.77985\n",
      "3 :- Train Accuracy: 0.82825 , Test Accuracy: 0.81343\n",
      "4 :- Train Accuracy: 0.84109 , Test Accuracy: 0.80224\n",
      "5 :- Train Accuracy: 0.86035 , Test Accuracy: 0.78731\n",
      "6 :- Train Accuracy: 0.86356 , Test Accuracy: 0.77985\n",
      "7 :- Train Accuracy: 0.8764 , Test Accuracy: 0.77612\n",
      "8 :- Train Accuracy: 0.89085 , Test Accuracy: 0.78358\n",
      "9 :- Train Accuracy: 0.91172 , Test Accuracy: 0.78731\n",
      "10 :- Train Accuracy: 0.92295 , Test Accuracy: 0.76493\n"
     ]
    }
   ],
   "source": [
    "#deciding max_depth value for DecisionTree Classifier\n",
    "#we get the Accuracy score for training dataset and testing dataset at different d values\n",
    "# we should choose best d value where we get maximum Accuracy without getting model overfitted.\n",
    "\n",
    "d_values=[1,2,3,4,5,6,7,8,9,10]\n",
    "x=data_3.drop(['Survived_1'], axis=1)\n",
    "y=data_3[['Survived_1']]\n",
    "x_train, x_test, y_train, y_test=train_test_split(x, y, train_size=0.7, random_state=100)\n",
    "\n",
    "for d in d_values:\n",
    "    dc=DecisionTreeClassifier(max_depth=d)\n",
    "    dc.fit(x_train, y_train)\n",
    "    print(d,':- Train Accuracy:',round(dc.score(x_train, y_train),5), ', Test Accuracy:' ,round(dc.score(x_test, y_test), 5))"
   ]
  },
  {
   "cell_type": "code",
   "execution_count": 78,
   "metadata": {},
   "outputs": [
    {
     "data": {
      "text/plain": [
       "DecisionTreeClassifier(ccp_alpha=0.0, class_weight=None, criterion='gini',\n",
       "                       max_depth=3, max_features=None, max_leaf_nodes=None,\n",
       "                       min_impurity_decrease=0.0, min_impurity_split=None,\n",
       "                       min_samples_leaf=1, min_samples_split=2,\n",
       "                       min_weight_fraction_leaf=0.0, presort='deprecated',\n",
       "                       random_state=None, splitter='best')"
      ]
     },
     "execution_count": 78,
     "metadata": {},
     "output_type": "execute_result"
    }
   ],
   "source": [
    "# from above result we get Best max_depth value as 3 where we get max Accuracy without getting model overfitted\n",
    "# creating x and y varialbes\n",
    "x=data_3.drop(['Survived_1'], axis=1)\n",
    "y=data_3[['Survived_1']]\n",
    "\n",
    "#spliting dataset into train and test\n",
    "x_train, x_test, y_train, y_test=train_test_split(x, y, train_size=0.7, random_state=100)\n",
    "\n",
    "#model fitting\n",
    "dc=DecisionTreeClassifier(max_depth=3)\n",
    "dc.fit(x_train, y_train)"
   ]
  },
  {
   "cell_type": "code",
   "execution_count": 79,
   "metadata": {},
   "outputs": [],
   "source": [
    "# getting probabilities of Passenger survival for training and testing dataset \n",
    "y_train_prob=dc.predict_proba(x_train)[:,1]\n",
    "y_test_prob=dc.predict_proba(x_test)[:,1]"
   ]
  },
  {
   "cell_type": "code",
   "execution_count": 80,
   "metadata": {},
   "outputs": [],
   "source": [
    "# getting false positive rate, true positive rate, at different threshold values for ploting the Roc curve\n",
    "#at best threshold value we get the  minimum false positive rate and maximum true positive rate \n",
    "fpr, tpr, thresholds = roc_curve(y_train, y_train_prob)"
   ]
  },
  {
   "cell_type": "code",
   "execution_count": 81,
   "metadata": {},
   "outputs": [],
   "source": [
    "# getting the aaccuracy score on training dataset at different threshold values\n",
    "\n",
    "accuracy = []\n",
    "for thres in thresholds:\n",
    "    y_train_pred = np.where(y_train_prob>thres,1,0)\n",
    "    accuracy.append(accuracy_score(y_train, y_train_pred, normalize=True))\n",
    "    \n",
    "train_accuracy = pd.concat([pd.Series(thresholds), pd.Series(accuracy)],\n",
    "                        axis=1)\n",
    "train_accuracy.columns = ['thresholds', 'accuracy']"
   ]
  },
  {
   "cell_type": "code",
   "execution_count": 82,
   "metadata": {},
   "outputs": [],
   "source": [
    "# getting the aaccuracy score on testing dataset at different threshold values\n",
    "\n",
    "accuracy = []\n",
    "for thres in thresholds:\n",
    "    y_test_pred = np.where(y_test_prob>thres,1,0)\n",
    "    accuracy.append(accuracy_score(y_test, y_test_pred, normalize=True))\n",
    "    \n",
    "test_accuracy = pd.concat([pd.Series(thresholds), pd.Series(accuracy)],\n",
    "                        axis=1)\n",
    "test_accuracy.columns = ['thresholds', 'accuracy']"
   ]
  },
  {
   "cell_type": "code",
   "execution_count": 83,
   "metadata": {},
   "outputs": [
    {
     "data": {
      "text/html": [
       "<div>\n",
       "<style scoped>\n",
       "    .dataframe tbody tr th:only-of-type {\n",
       "        vertical-align: middle;\n",
       "    }\n",
       "\n",
       "    .dataframe tbody tr th {\n",
       "        vertical-align: top;\n",
       "    }\n",
       "\n",
       "    .dataframe thead th {\n",
       "        text-align: right;\n",
       "    }\n",
       "</style>\n",
       "<table border=\"1\" class=\"dataframe\">\n",
       "  <thead>\n",
       "    <tr style=\"text-align: right;\">\n",
       "      <th></th>\n",
       "      <th>thresholds</th>\n",
       "      <th>True_positive_rate</th>\n",
       "      <th>False_positive_rate</th>\n",
       "      <th>train_accuracy</th>\n",
       "      <th>test_accuracy</th>\n",
       "      <th>mean_accuracy</th>\n",
       "    </tr>\n",
       "  </thead>\n",
       "  <tbody>\n",
       "    <tr>\n",
       "      <th>5</th>\n",
       "      <td>0.341</td>\n",
       "      <td>0.852174</td>\n",
       "      <td>0.256997</td>\n",
       "      <td>0.828250</td>\n",
       "      <td>0.813433</td>\n",
       "      <td>0.820842</td>\n",
       "    </tr>\n",
       "    <tr>\n",
       "      <th>4</th>\n",
       "      <td>0.593</td>\n",
       "      <td>0.721739</td>\n",
       "      <td>0.109415</td>\n",
       "      <td>0.802568</td>\n",
       "      <td>0.798507</td>\n",
       "      <td>0.800538</td>\n",
       "    </tr>\n",
       "    <tr>\n",
       "      <th>3</th>\n",
       "      <td>0.714</td>\n",
       "      <td>0.500000</td>\n",
       "      <td>0.020356</td>\n",
       "      <td>0.797753</td>\n",
       "      <td>0.787313</td>\n",
       "      <td>0.792533</td>\n",
       "    </tr>\n",
       "    <tr>\n",
       "      <th>6</th>\n",
       "      <td>0.286</td>\n",
       "      <td>0.869565</td>\n",
       "      <td>0.282443</td>\n",
       "      <td>0.783307</td>\n",
       "      <td>0.746269</td>\n",
       "      <td>0.764788</td>\n",
       "    </tr>\n",
       "    <tr>\n",
       "      <th>7</th>\n",
       "      <td>0.118</td>\n",
       "      <td>0.878261</td>\n",
       "      <td>0.320611</td>\n",
       "      <td>0.773676</td>\n",
       "      <td>0.738806</td>\n",
       "      <td>0.756241</td>\n",
       "    </tr>\n",
       "  </tbody>\n",
       "</table>\n",
       "</div>"
      ],
      "text/plain": [
       "   thresholds  True_positive_rate  False_positive_rate  train_accuracy  \\\n",
       "5       0.341            0.852174             0.256997        0.828250   \n",
       "4       0.593            0.721739             0.109415        0.802568   \n",
       "3       0.714            0.500000             0.020356        0.797753   \n",
       "6       0.286            0.869565             0.282443        0.783307   \n",
       "7       0.118            0.878261             0.320611        0.773676   \n",
       "\n",
       "   test_accuracy  mean_accuracy  \n",
       "5       0.813433       0.820842  \n",
       "4       0.798507       0.800538  \n",
       "3       0.787313       0.792533  \n",
       "6       0.746269       0.764788  \n",
       "7       0.738806       0.756241  "
      ]
     },
     "execution_count": 83,
     "metadata": {},
     "output_type": "execute_result"
    }
   ],
   "source": [
    "#creating new dataset containing, True_positive_rate, False_positive_rate, train_accuracy, test_accuracy, and  mean_accuracy of train_accuracy and test_accuracy at all the thresholds values\n",
    "#now at the maximum mean_accuracy we get minimum false positive rate and maximum true positive rate \n",
    "#hence we can get the best threshold from the table below\n",
    "\n",
    "accuracy_table=pd.DataFrame()\n",
    "accuracy_table['thresholds']=round(train_accuracy['thresholds'],3)\n",
    "accuracy_table['True_positive_rate']=tpr\n",
    "accuracy_table['False_positive_rate']=fpr\n",
    "accuracy_table['train_accuracy']=train_accuracy['accuracy']\n",
    "accuracy_table['test_accuracy']=test_accuracy['accuracy']\n",
    "accuracy_table['mean_accuracy']=accuracy_table[['train_accuracy', 'test_accuracy']].mean(axis=1)\n",
    "accuracy_table.sort_values(['mean_accuracy'], ascending=False, inplace=True)\n",
    "accuracy_table.head(5)"
   ]
  },
  {
   "cell_type": "code",
   "execution_count": 84,
   "metadata": {},
   "outputs": [
    {
     "data": {
      "image/png": "[encoded data removed]",
      "text/plain": [
       "<Figure size 432x288 with 1 Axes>"
      ]
     },
     "metadata": {
      "needs_background": "light"
     },
     "output_type": "display_data"
    }
   ],
   "source": [
    "# Roc curve (false positive rate Vs true positive rate)\n",
    "plot_roc_curve(fpr, tpr)"
   ]
  },
  {
   "cell_type": "code",
   "execution_count": 85,
   "metadata": {},
   "outputs": [],
   "source": [
    "# we change the threshold value to 0.341 at which True_positive_rate is 0.852174 and False_positive_rate is 0.256997\n",
    "# getting the Passenger survival prediction on training dataset and testing dataset at new threshold value\n",
    "y_train_pred = np.where(y_train_prob>0.341,1,0)\n",
    "y_test_pred = np.where(y_test_prob>0.341,1,0)"
   ]
  },
  {
   "cell_type": "code",
   "execution_count": 86,
   "metadata": {},
   "outputs": [
    {
     "data": {
      "image/png": "[encoded data removed]",
      "text/plain": [
       "<Figure size 432x288 with 2 Axes>"
      ]
     },
     "metadata": {
      "needs_background": "light"
     },
     "output_type": "display_data"
    }
   ],
   "source": [
    "#confusion matrix on training dataset for analysis the accuracy of prediction\n",
    "con_matrix=confusion_matrix(y_train, y_train_pred)\n",
    "sns.heatmap(con_matrix, annot=True, cmap='YlGn', fmt='.3g')\n",
    "plt.ylabel('Actuals')\n",
    "plt.xlabel('Predictions')\n",
    "plt.title('Confusion Matrix')\n",
    "plt.show()"
   ]
  },
  {
   "cell_type": "code",
   "execution_count": 87,
   "metadata": {},
   "outputs": [
    {
     "data": {
      "image/png": "[encoded data removed]",
      "text/plain": [
       "<Figure size 432x288 with 2 Axes>"
      ]
     },
     "metadata": {
      "needs_background": "light"
     },
     "output_type": "display_data"
    }
   ],
   "source": [
    "#confusion matrix on testing dataset for analysis the accuracy of prediction\n",
    "con_matrix=confusion_matrix(y_test, y_test_pred)\n",
    "sns.heatmap(con_matrix, annot=True, cmap='YlGn', fmt='.3g')\n",
    "plt.ylabel('Actuals')\n",
    "plt.xlabel('Predictions')\n",
    "plt.title('Confusion Matrix')\n",
    "plt.show()"
   ]
  },
  {
   "cell_type": "code",
   "execution_count": 88,
   "metadata": {},
   "outputs": [
    {
     "name": "stdout",
     "output_type": "stream",
     "text": [
      "DecisionTree accuracy_score\n",
      "Train Accuracy: 0.8283 , Test Accuracy: 0.8134\n"
     ]
    }
   ],
   "source": [
    "print('DecisionTree accuracy_score')\n",
    "print('Train Accuracy:',round(accuracy_score(y_train, y_train_pred),4), ', Test Accuracy:' ,round(accuracy_score(y_test,y_test_pred ), 4))"
   ]
  },
  {
   "cell_type": "markdown",
   "metadata": {},
   "source": [
    "### 4) RandomForest Classifier"
   ]
  },
  {
   "cell_type": "code",
   "execution_count": 89,
   "metadata": {},
   "outputs": [
    {
     "name": "stdout",
     "output_type": "stream",
     "text": [
      "1 :- Train Accuracy: 0.72231 , Test Accuracy: 0.69403\n",
      "2 :- Train Accuracy: 0.80257 , Test Accuracy: 0.79478\n",
      "3 :- Train Accuracy: 0.82343 , Test Accuracy: 0.81343\n",
      "4 :- Train Accuracy: 0.8427 , Test Accuracy: 0.82836\n",
      "5 :- Train Accuracy: 0.85393 , Test Accuracy: 0.81716\n",
      "6 :- Train Accuracy: 0.85714 , Test Accuracy: 0.81716\n",
      "7 :- Train Accuracy: 0.87961 , Test Accuracy: 0.81716\n",
      "8 :- Train Accuracy: 0.89085 , Test Accuracy: 0.81716\n",
      "9 :- Train Accuracy: 0.91974 , Test Accuracy: 0.8209\n",
      "10 :- Train Accuracy: 0.93258 , Test Accuracy: 0.8209\n"
     ]
    }
   ],
   "source": [
    "#deciding max_depth value for RandomForest Classifier \n",
    "#we get the Accuracy score for training dataset and testing dataset at different r values\n",
    "# we should choose best r value where we get maximum Accuracy without getting model overfitted.\n",
    "r_values=[1,2,3,4,5,6,7,8,9,10]\n",
    "x=data_3.drop(['Survived_1'], axis=1)\n",
    "y=data_3[['Survived_1']]\n",
    "x_train, x_test, y_train, y_test=train_test_split(x, y, train_size=0.7, random_state=100)\n",
    "\n",
    "for r in r_values:\n",
    "    rc=RandomForestClassifier(n_estimators=1000, max_depth=r, random_state=100)\n",
    "    rc.fit(x_train, y_train)\n",
    "    print(r, ':- Train Accuracy:',round(rc.score(x_train, y_train),5), ', Test Accuracy:' ,round(rc.score(x_test, y_test), 5))"
   ]
  },
  {
   "cell_type": "code",
   "execution_count": 90,
   "metadata": {},
   "outputs": [
    {
     "data": {
      "text/plain": [
       "RandomForestClassifier(bootstrap=True, ccp_alpha=0.0, class_weight=None,\n",
       "                       criterion='gini', max_depth=4, max_features='auto',\n",
       "                       max_leaf_nodes=None, max_samples=None,\n",
       "                       min_impurity_decrease=0.0, min_impurity_split=None,\n",
       "                       min_samples_leaf=1, min_samples_split=2,\n",
       "                       min_weight_fraction_leaf=0.0, n_estimators=1000,\n",
       "                       n_jobs=None, oob_score=False, random_state=100,\n",
       "                       verbose=0, warm_start=False)"
      ]
     },
     "execution_count": 90,
     "metadata": {},
     "output_type": "execute_result"
    }
   ],
   "source": [
    "# from above result we get Best max_depth value as 4 where we get max Accuracy without getting model overfitted\n",
    "# creating x and y varialbes\n",
    "x=data_3.drop(['Survived_1'], axis=1)\n",
    "y=data_3[['Survived_1']]\n",
    "\n",
    "#spliting dataset into train and test\n",
    "x_train, x_test, y_train, y_test=train_test_split(x, y, train_size=0.7, random_state=100)\n",
    "\n",
    "#model fitting\n",
    "rc=RandomForestClassifier(n_estimators=1000, max_depth=4, random_state=100)\n",
    "rc.fit(x_train, y_train)"
   ]
  },
  {
   "cell_type": "code",
   "execution_count": 91,
   "metadata": {},
   "outputs": [],
   "source": [
    "# getting probabilities of Passenger survival for training and testing dataset \n",
    "y_train_prob=rc.predict_proba(x_train)[:,1]\n",
    "y_test_prob=rc.predict_proba(x_test)[:,1]"
   ]
  },
  {
   "cell_type": "code",
   "execution_count": 92,
   "metadata": {},
   "outputs": [],
   "source": [
    "# getting false positive rate, true positive rate, at different threshold values for ploting the Roc curve\n",
    "#at best threshold value we get the  minimum false positive rate and maximum true positive rate \n",
    "fpr, tpr, thresholds = roc_curve(y_train, y_train_prob)"
   ]
  },
  {
   "cell_type": "code",
   "execution_count": 93,
   "metadata": {},
   "outputs": [],
   "source": [
    "# getting the aaccuracy score on training dataset at different threshold values\n",
    "\n",
    "accuracy = []\n",
    "for thres in thresholds:\n",
    "    y_train_pred = np.where(y_train_prob>thres,1,0)\n",
    "    accuracy.append(accuracy_score(y_train, y_train_pred, normalize=True))\n",
    "    \n",
    "train_accuracy = pd.concat([pd.Series(thresholds), pd.Series(accuracy)],\n",
    "                        axis=1)\n",
    "train_accuracy.columns = ['thresholds', 'accuracy']"
   ]
  },
  {
   "cell_type": "code",
   "execution_count": 94,
   "metadata": {},
   "outputs": [],
   "source": [
    "# getting the aaccuracy score on testing dataset at different threshold values\n",
    "\n",
    "accuracy = []\n",
    "for thres in thresholds:\n",
    "    y_test_pred = np.where(y_test_prob>thres,1,0)\n",
    "    accuracy.append(accuracy_score(y_test, y_test_pred, normalize=True))\n",
    "    \n",
    "test_accuracy = pd.concat([pd.Series(thresholds), pd.Series(accuracy)],\n",
    "                        axis=1)\n",
    "test_accuracy.columns = ['thresholds', 'accuracy']"
   ]
  },
  {
   "cell_type": "code",
   "execution_count": 95,
   "metadata": {},
   "outputs": [
    {
     "data": {
      "text/html": [
       "<div>\n",
       "<style scoped>\n",
       "    .dataframe tbody tr th:only-of-type {\n",
       "        vertical-align: middle;\n",
       "    }\n",
       "\n",
       "    .dataframe tbody tr th {\n",
       "        vertical-align: top;\n",
       "    }\n",
       "\n",
       "    .dataframe thead th {\n",
       "        text-align: right;\n",
       "    }\n",
       "</style>\n",
       "<table border=\"1\" class=\"dataframe\">\n",
       "  <thead>\n",
       "    <tr style=\"text-align: right;\">\n",
       "      <th></th>\n",
       "      <th>thresholds</th>\n",
       "      <th>True_positive_rate</th>\n",
       "      <th>False_positive_rate</th>\n",
       "      <th>train_accuracy</th>\n",
       "      <th>test_accuracy</th>\n",
       "      <th>mean_accuracy</th>\n",
       "    </tr>\n",
       "  </thead>\n",
       "  <tbody>\n",
       "    <tr>\n",
       "      <th>33</th>\n",
       "      <td>0.499</td>\n",
       "      <td>0.647826</td>\n",
       "      <td>0.040712</td>\n",
       "      <td>0.842697</td>\n",
       "      <td>0.828358</td>\n",
       "      <td>0.835527</td>\n",
       "    </tr>\n",
       "    <tr>\n",
       "      <th>32</th>\n",
       "      <td>0.510</td>\n",
       "      <td>0.634783</td>\n",
       "      <td>0.040712</td>\n",
       "      <td>0.841091</td>\n",
       "      <td>0.824627</td>\n",
       "      <td>0.832859</td>\n",
       "    </tr>\n",
       "    <tr>\n",
       "      <th>43</th>\n",
       "      <td>0.446</td>\n",
       "      <td>0.708696</td>\n",
       "      <td>0.068702</td>\n",
       "      <td>0.850722</td>\n",
       "      <td>0.813433</td>\n",
       "      <td>0.832078</td>\n",
       "    </tr>\n",
       "    <tr>\n",
       "      <th>44</th>\n",
       "      <td>0.446</td>\n",
       "      <td>0.713043</td>\n",
       "      <td>0.068702</td>\n",
       "      <td>0.849117</td>\n",
       "      <td>0.813433</td>\n",
       "      <td>0.831275</td>\n",
       "    </tr>\n",
       "    <tr>\n",
       "      <th>46</th>\n",
       "      <td>0.441</td>\n",
       "      <td>0.726087</td>\n",
       "      <td>0.073791</td>\n",
       "      <td>0.850722</td>\n",
       "      <td>0.809701</td>\n",
       "      <td>0.830212</td>\n",
       "    </tr>\n",
       "  </tbody>\n",
       "</table>\n",
       "</div>"
      ],
      "text/plain": [
       "    thresholds  True_positive_rate  False_positive_rate  train_accuracy  \\\n",
       "33       0.499            0.647826             0.040712        0.842697   \n",
       "32       0.510            0.634783             0.040712        0.841091   \n",
       "43       0.446            0.708696             0.068702        0.850722   \n",
       "44       0.446            0.713043             0.068702        0.849117   \n",
       "46       0.441            0.726087             0.073791        0.850722   \n",
       "\n",
       "    test_accuracy  mean_accuracy  \n",
       "33       0.828358       0.835527  \n",
       "32       0.824627       0.832859  \n",
       "43       0.813433       0.832078  \n",
       "44       0.813433       0.831275  \n",
       "46       0.809701       0.830212  "
      ]
     },
     "execution_count": 95,
     "metadata": {},
     "output_type": "execute_result"
    }
   ],
   "source": [
    "#creating new dataset containing, True_positive_rate, False_positive_rate, train_accuracy, test_accuracy, and  mean_accuracy of train_accuracy and test_accuracy at all the thresholds values\n",
    "#now at the maximum mean_accuracy we get minimum false positive rate and maximum true positive rate \n",
    "#hence we can get the best threshold from the table below\n",
    "\n",
    "accuracy_table=pd.DataFrame()\n",
    "accuracy_table['thresholds']=round(train_accuracy['thresholds'],3)\n",
    "accuracy_table['True_positive_rate']=tpr\n",
    "accuracy_table['False_positive_rate']=fpr\n",
    "accuracy_table['train_accuracy']=train_accuracy['accuracy']\n",
    "accuracy_table['test_accuracy']=test_accuracy['accuracy']\n",
    "accuracy_table['mean_accuracy']=accuracy_table[['train_accuracy', 'test_accuracy']].mean(axis=1)\n",
    "accuracy_table.sort_values(['mean_accuracy'], ascending=False, inplace=True)\n",
    "accuracy_table.head(5)"
   ]
  },
  {
   "cell_type": "code",
   "execution_count": 96,
   "metadata": {},
   "outputs": [
    {
     "data": {
      "image/png": "[encoded data removed]",
      "text/plain": [
       "<Figure size 432x288 with 1 Axes>"
      ]
     },
     "metadata": {
      "needs_background": "light"
     },
     "output_type": "display_data"
    }
   ],
   "source": [
    "# Roc curve (false positive rate Vs true positive rate)\n",
    "plot_roc_curve(fpr, tpr)"
   ]
  },
  {
   "cell_type": "code",
   "execution_count": 97,
   "metadata": {},
   "outputs": [],
   "source": [
    "# we change the threshold value to 0.499 at which True_positive_rate is 0.647826 and False_positive_rate is 0.040712\n",
    "# getting the Passenger survival prediction on training dataset and testing dataset at new threshold value\n",
    "y_train_pred = np.where(y_train_prob>0.499,1,0)\n",
    "y_test_pred = np.where(y_test_prob>0.499,1,0)"
   ]
  },
  {
   "cell_type": "code",
   "execution_count": 98,
   "metadata": {},
   "outputs": [
    {
     "data": {
      "image/png": "[encoded data removed]",
      "text/plain": [
       "<Figure size 432x288 with 2 Axes>"
      ]
     },
     "metadata": {
      "needs_background": "light"
     },
     "output_type": "display_data"
    }
   ],
   "source": [
    "#confusion matrix on training dataset for analysis the accuracy of prediction\n",
    "con_matrix=confusion_matrix(y_train, y_train_pred)\n",
    "sns.heatmap(con_matrix, annot=True, cmap='YlGn', fmt='.3g')\n",
    "plt.ylabel('Actuals')\n",
    "plt.xlabel('Predictions')\n",
    "plt.title('Confusion Matrix')\n",
    "plt.show()"
   ]
  },
  {
   "cell_type": "code",
   "execution_count": 99,
   "metadata": {},
   "outputs": [
    {
     "data": {
      "image/png": "[encoded data removed]",
      "text/plain": [
       "<Figure size 432x288 with 2 Axes>"
      ]
     },
     "metadata": {
      "needs_background": "light"
     },
     "output_type": "display_data"
    }
   ],
   "source": [
    "#confusion matrix on testing dataset for analysis the accuracy of prediction\n",
    "con_matrix=confusion_matrix(y_test, y_test_pred)\n",
    "sns.heatmap(con_matrix, annot=True, cmap='YlGn', fmt='.3g')\n",
    "plt.ylabel('Actuals')\n",
    "plt.xlabel('Predictions')\n",
    "plt.title('Confusion Matrix')\n",
    "plt.show()"
   ]
  },
  {
   "cell_type": "code",
   "execution_count": 100,
   "metadata": {},
   "outputs": [
    {
     "name": "stdout",
     "output_type": "stream",
     "text": [
      "RandomForest accuracy_score\n",
      "Train Accuracy: 0.8443 , Test Accuracy: 0.8284\n"
     ]
    }
   ],
   "source": [
    "print('RandomForest accuracy_score')\n",
    "print('Train Accuracy:',round(accuracy_score(y_train, y_train_pred),4), ', Test Accuracy:' ,round(accuracy_score(y_test,y_test_pred ), 4))"
   ]
  },
  {
   "cell_type": "code",
   "execution_count": 101,
   "metadata": {},
   "outputs": [
    {
     "data": {
      "text/html": [
       "<div>\n",
       "<style scoped>\n",
       "    .dataframe tbody tr th:only-of-type {\n",
       "        vertical-align: middle;\n",
       "    }\n",
       "\n",
       "    .dataframe tbody tr th {\n",
       "        vertical-align: top;\n",
       "    }\n",
       "\n",
       "    .dataframe thead th {\n",
       "        text-align: right;\n",
       "    }\n",
       "</style>\n",
       "<table border=\"1\" class=\"dataframe\">\n",
       "  <thead>\n",
       "    <tr style=\"text-align: right;\">\n",
       "      <th></th>\n",
       "      <th>Name of Model</th>\n",
       "      <th>train_accuracy</th>\n",
       "      <th>test_accuracy</th>\n",
       "    </tr>\n",
       "  </thead>\n",
       "  <tbody>\n",
       "    <tr>\n",
       "      <th>0</th>\n",
       "      <td>Logistic Regression</td>\n",
       "      <td>0.8106</td>\n",
       "      <td>0.8134</td>\n",
       "    </tr>\n",
       "    <tr>\n",
       "      <th>1</th>\n",
       "      <td>KNN Classifier</td>\n",
       "      <td>0.8395</td>\n",
       "      <td>0.7313</td>\n",
       "    </tr>\n",
       "    <tr>\n",
       "      <th>2</th>\n",
       "      <td>DecisionTree Classifier</td>\n",
       "      <td>0.8283</td>\n",
       "      <td>0.8134</td>\n",
       "    </tr>\n",
       "    <tr>\n",
       "      <th>3</th>\n",
       "      <td>RandomForest Classifier</td>\n",
       "      <td>0.8443</td>\n",
       "      <td>0.8284</td>\n",
       "    </tr>\n",
       "  </tbody>\n",
       "</table>\n",
       "</div>"
      ],
      "text/plain": [
       "             Name of Model  train_accuracy  test_accuracy\n",
       "0      Logistic Regression          0.8106         0.8134\n",
       "1           KNN Classifier          0.8395         0.7313\n",
       "2  DecisionTree Classifier          0.8283         0.8134\n",
       "3  RandomForest Classifier          0.8443         0.8284"
      ]
     },
     "execution_count": 101,
     "metadata": {},
     "output_type": "execute_result"
    }
   ],
   "source": [
    "# Results of all the models \n",
    "result={'Name of Model':['Logistic Regression','KNN Classifier','DecisionTree Classifier','RandomForest Classifier'], 'train_accuracy':[0.8106,0.8395,0.8283,0.8443],'test_accuracy':[0.8134,0.7313,0.8134,0.8284]}\n",
    "result=pd.DataFrame(result)\n",
    "result[['train_accuracy','test_accuracy']]=result[['train_accuracy','test_accuracy']]\n",
    "result"
   ]
  },
  {
   "cell_type": "markdown",
   "metadata": {},
   "source": [
    "#### In all models RandomForest Classifier gave the best results. i.e train_accuracy= 84.43% and test_accuracy= 82.84%"
   ]
  }
 ],
 "metadata": {
  "kernelspec": {
   "display_name": "Python 3",
   "language": "python",
   "name": "python3"
  },
  "language_info": {
   "codemirror_mode": {
    "name": "ipython",
    "version": 3
   },
   "file_extension": ".py",
   "mimetype": "text/x-python",
   "name": "python",
   "nbconvert_exporter": "python",
   "pygments_lexer": "ipython3",
   "version": "3.7.6"
  }
 },
 "nbformat": 4,
 "nbformat_minor": 4
}
